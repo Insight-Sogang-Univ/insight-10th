{
 "cells": [
  {
   "cell_type": "markdown",
   "id": "e24a1040",
   "metadata": {},
   "source": [
    "# 통계 세션 과제"
   ]
  },
  {
   "cell_type": "markdown",
   "id": "61f61e73",
   "metadata": {},
   "source": [
    "## 과제1"
   ]
  },
  {
   "cell_type": "markdown",
   "id": "92b03fb0",
   "metadata": {},
   "source": [
    "ox 문제"
   ]
  },
  {
   "cell_type": "markdown",
   "id": "6fd512af",
   "metadata": {},
   "source": [
    "- 1-(1)번: Posltive SKewness는 오른쪽 꼬리가 왼쪽보다 더 길 때를 의미하며, 평균과 중앙값이 최빈값보다 작습니다. \n",
    "- 1-(2)번: 변동계수는 표준편차를 해당 데이터의 평균으로 곱한 값으로 계산된다. \n",
    "- 1-(3)번: 데이터 값들이 평균으로부터 얼마나 퍼져 있는지를 나타내는 중요한 통계적 지표를 표준편차라고 한다.\n",
    "- 1-(4)번: 사분위간 범위는 Q4에서 Q1값을 제외한 범위를 의미한다."
   ]
  },
  {
   "cell_type": "markdown",
   "id": "9ee3747d",
   "metadata": {},
   "source": [
    "정답:\n",
    "\n",
    "1-(1) (X / 평균, 중앙값이 최빈값보다 큼)\n",
    "\n",
    "1-(2) (X / 표준편차를 평균으로 나눈 값)\n",
    "\n",
    "1-(3) (O)\n",
    "\n",
    "1-(4) (X / Q3에서 Q1값을 제외한 범위)"
   ]
  },
  {
   "cell_type": "markdown",
   "id": "08702a3c",
   "metadata": {},
   "source": [
    "## 과제 2"
   ]
  },
  {
   "cell_type": "markdown",
   "id": "f1b2c62e",
   "metadata": {},
   "source": [
    "공분산과 상관계수에 대해 자세히 설명하시오"
   ]
  },
  {
   "cell_type": "markdown",
   "id": "03185d1a",
   "metadata": {},
   "source": [
    "정답: 공분산은 두 변수가 각 평균에서 떨어진 값을 서로 곱한 후 평균을 낸 값으로, 두 변수가 함께 변화하는 방향과 크기를 표현함. 공분산이 0보다 크면 x,y는 양의 관계, 0보다 작으면 음의 관계, 0이면 양도 음도 아닌 관계로 관계가 없다고 볼 수 있지만 때때로 관계가 있는 경우도 있음. \n",
    "\n",
    "상관계수는 두 변수 간 선형적 관계를 나타내는 지표로, -1=<상관계수=<1 의 값을 가지며 인과관계와 다름을 인지하고 있어야 함. 이는 공분산을 표준화한 것으로, 1에 가까울 수록 양의 상관관계를 가지며, -1에 가까울수록 음의 상관관계를 가진다고 표현함\n",
    "\n",
    "공분산은 두 변수의 편차를 곱한 평균, 상관계수는 공분산을 각 변수의 표준편차의 곱으로 나눈 값임"
   ]
  },
  {
   "cell_type": "markdown",
   "id": "341b7d8d",
   "metadata": {},
   "source": [
    "## 과제3"
   ]
  },
  {
   "cell_type": "markdown",
   "id": "171b01a5",
   "metadata": {},
   "source": [
    "확률분포의 예시 7가지를 쓰시오"
   ]
  },
  {
   "cell_type": "markdown",
   "id": "b7e84636",
   "metadata": {},
   "source": [
    "정답: \n",
    "\n",
    "1. 정규분포\n",
    "\n",
    "종모양, 좌우 대칭, 평균에 의해 위치가, 표준편차에 의해 크기 결정\n",
    "\n",
    "2. T분포 \n",
    "\n",
    "표준정규분포처럼 0을 중심으로 종 모양의 대칭 분포, 표준정규분포보다 꼬리 두꺼움\n",
    "\n",
    "3. 카이제곱분포\n",
    "\n",
    "카이제곱검정 or 범주형 데이터 분석에 사용, 정규분포의 제곱 = 카이제곱분포로, 양수 값 가짐. 자유도 커질수록 평균과 분산이 증가함\n",
    "\n",
    "4. F분포\n",
    "\n",
    "두 개의 카이제곱분포의 비율에 관련된 확률분포로, 분산 분석/회귀 분석에 사용되며 모집단의 분산의 동일성 여부 검정에 사용. 자유도 높아질수록 정규분포 모양에 가까워지며 분산이 감소함(폭이 좁아짐).\n",
    "\n",
    "5. 이항분포 \n",
    "\n",
    "연속된 n번의 독립시행에서 각 사건이 발생할 확률 p를 가질 때 만들어지는 이산확률분포. \n",
    "\n",
    "6. 베르누이분포\n",
    "\n",
    "이항분포에서 시행이 1번인 경우를 의미하며, 이항분포와 마찬가지로 시행 횟수 증가할 수록 분포의 대칭성이 더욱 커짐\n",
    "\n",
    "7. 포아송분포\n",
    "\n",
    "단위 시간 안에 어떤 사건이 몇 번 일어날 지 표현하는 이산확률분포로, 이 또한 시행 횟수 증가할수록 분포 대칭성 커짐"
   ]
  },
  {
   "cell_type": "markdown",
   "id": "2bd291d9",
   "metadata": {},
   "source": [
    "## 과제 4"
   ]
  },
  {
   "cell_type": "markdown",
   "id": "de8bcaed",
   "metadata": {},
   "source": [
    "가설 검정의 절차를 4단계에 걸쳐 설명하시오"
   ]
  },
  {
   "cell_type": "markdown",
   "id": "edfbb754",
   "metadata": {},
   "source": [
    "정답: \n",
    "\n",
    "[1] 가설설정\n",
    "\n",
    "귀무가설 H0과 대립가설 H1을 설정하는데, 이때 귀무가설은 확인하기 편하거나 기각하고자 하는 명제로 설정함. \n",
    "\n",
    "[2] 유의 수준 설정 \n",
    "\n",
    "정해진 수치가 얼마나 벗어나면 귀무가설이 오류라고 판단할 기준인 유의 수준을 설정함. 보통 $\\alpha$로 표시하며, 알파 값이 커질수록 대립가설 채택 가능성이 높아지고, 반대로 이 값이 작아지면 대립가설 기각 가능성이 높아짐 \n",
    "\n",
    "[3] 검정통계량 산출\n",
    "\n",
    "가설 검정 결과 판단에 사용되며, 데이터 분포/특징에 따라 Z/T통계량 중 하나를 선택해서 사용함\n",
    "\n",
    "[4] 가설 기각/채택 판단\n",
    "\n",
    "검정통계량이 신뢰구간에 위치할 경우 귀무가설 채택-대립가설 기각하며, 신뢰구간에서 벗어날 경우 귀무가설 기각-대립가설 채택함. 신뢰구간은 1-$\\alpha$로 계산함.\n",
    "\n",
    "유의확률은 검정통계량에서 유의가능하며, 유의확률이 유의수준 알파보다 클 경우 귀무가설채택-대립가설 기각하며, 유의확률이 더 작을 경우 귀무가설 기각-대립가설 채택함."
   ]
  },
  {
   "cell_type": "markdown",
   "id": "82c9a616",
   "metadata": {},
   "source": [
    "## 과제 5"
   ]
  },
  {
   "cell_type": "markdown",
   "id": "639f0551",
   "metadata": {},
   "source": [
    "1종 오류와 2종 오류에 대해 설명하시오"
   ]
  },
  {
   "cell_type": "markdown",
   "id": "057b7ec1",
   "metadata": {},
   "source": [
    "정답: \n",
    "\n",
    "1종 오류는 귀무가설이 실제 참이었는데 기각할 확률을 말하며 2종 오류는 귀무가설 거짓이었는데 실제로 채택할 확률을 의미함. "
   ]
  },
  {
   "cell_type": "markdown",
   "id": "b82b52ce",
   "metadata": {},
   "source": [
    "## 과제 6"
   ]
  },
  {
   "cell_type": "markdown",
   "id": "12b543f0",
   "metadata": {},
   "source": [
    "베이즈 정리 공식에 대해 쓰시오"
   ]
  },
  {
   "cell_type": "markdown",
   "id": "017720e2",
   "metadata": {},
   "source": [
    "정답:\n",
    "사전 확률을 기반으로 사후 확률 계산하는 것으로, 사전의 정보를 통하여 새로운 정보를 추론하는 것을 의미함 \n",
    "\n",
    "$P(A|B) =$ $P(B|A)P(A) \\over P(B)$"
   ]
  },
  {
   "cell_type": "code",
   "execution_count": null,
   "id": "928dd52f",
   "metadata": {},
   "outputs": [],
   "source": []
  }
 ],
 "metadata": {
  "kernelspec": {
   "display_name": "Python 3 (ipykernel)",
   "language": "python",
   "name": "python3"
  },
  "language_info": {
   "codemirror_mode": {
    "name": "ipython",
    "version": 3
   },
   "file_extension": ".py",
   "mimetype": "text/x-python",
   "name": "python",
   "nbconvert_exporter": "python",
   "pygments_lexer": "ipython3",
   "version": "3.11.4"
  },
  "toc": {
   "base_numbering": 1,
   "nav_menu": {},
   "number_sections": true,
   "sideBar": true,
   "skip_h1_title": false,
   "title_cell": "Table of Contents",
   "title_sidebar": "Contents",
   "toc_cell": false,
   "toc_position": {},
   "toc_section_display": true,
   "toc_window_display": false
  }
 },
 "nbformat": 4,
 "nbformat_minor": 5
}
