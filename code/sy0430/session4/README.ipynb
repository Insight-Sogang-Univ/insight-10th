{
 "cells": [
  {
   "cell_type": "markdown",
   "id": "56bb713f",
   "metadata": {},
   "source": [
    "<aside>\n",
    "⭐ 1. 다음 내용을 마크다운으로 정리\n",
    "\n",
    "- 회귀, 분류, 군집화를 구분하시오\n",
    "- 선형회귀\n",
    "- 다중공선성\n",
    "- 최소제곱법\n",
    "</aside>"
   ]
  },
  {
   "cell_type": "markdown",
   "id": "9f112fb8",
   "metadata": {},
   "source": [
    "# 1. 회귀-분류-군집화"
   ]
  },
  {
   "cell_type": "markdown",
   "id": "54ee5f86",
   "metadata": {},
   "source": [
    "## 1) 회귀 "
   ]
  },
  {
   "cell_type": "markdown",
   "id": "342bf8a1",
   "metadata": {},
   "source": [
    "- 둘 이상의 변수 간의 관계 나타냄\n",
    "- 지도 학습 by 과거 데이터\n",
    "- 예측 문제 중 출력 변수 값이 연속적인 값인 문제 <br>\n",
    "    -> 회귀 / 회귀분석\n"
   ]
  },
  {
   "cell_type": "markdown",
   "id": "6e71339d",
   "metadata": {},
   "source": [
    "## 2) 분류"
   ]
  },
  {
   "cell_type": "markdown",
   "id": "b0f3f653",
   "metadata": {},
   "source": [
    "- 지도학습\n",
    "- 기존 데이터 학습 > 새로운 데이터에 적용해 스스로 판별\n",
    "- 범주형 변수 예측에 사용<br>\n",
    "ex. 스팸 판별 "
   ]
  },
  {
   "cell_type": "markdown",
   "id": "f75f4f28",
   "metadata": {},
   "source": [
    "## 3) 군집화\n",
    "- 비지도 학습\n",
    "- 구분하려 하는 class에 대한 정보 X\n",
    "- 주어진 데이터 특성 고려해 그룹 정의 & 그룹화 > 대표성 찾음"
   ]
  },
  {
   "cell_type": "markdown",
   "id": "4ddc44da",
   "metadata": {},
   "source": [
    "# 2. 회귀"
   ]
  },
  {
   "cell_type": "markdown",
   "id": "e9616efc",
   "metadata": {},
   "source": [
    "- 여러 독립변수 <-> 한 개 종속변수 간 관계 모델링의 기반\n",
    "- **예측**에 사용"
   ]
  },
  {
   "cell_type": "markdown",
   "id": "c0ba8805",
   "metadata": {},
   "source": [
    "\n",
    "# 1) 선형회귀\n",
    "- 실제값 vs 예측값 차이 최소화하는 직선현 회귀선 최적화\n",
    "<br>-> 데이터를 잘 대변하는 최적의 직선 찾기\n",
    "- 독립변수 하나 = 단순선형회귀\n",
    "- 독립변수 둘 이상 = 다중선형회귀"
   ]
  },
  {
   "cell_type": "markdown",
   "id": "1f468130",
   "metadata": {},
   "source": [
    "### [1]선형회귀 분석의 목적\n",
    "- 데이터 이해<br>\n",
    "독립변수를 통한 종속변수 변화 이해 <br>\n",
    "과거 현상의 원인 규명 및 이해<br>\n",
    "<br>\n",
    "- 예측<br>\n",
    "머신러닝 중 Supervised Learning에 사용<br>\n",
    "과거 데이터 기반 모델 형성 > 미래 값 예측<br><br>\n",
    "- 인과관계 증명<br>\n",
    "인과관계 측정 및 증명/추적<br>\n",
    "인과관계 측정 = 타 요인 통제 시 동일한 결과 나타나는지 확인<br>\n",
    "인과관계 추적 = 종속변수 변화가 독립변수 변인에 귀속되는지"
   ]
  },
  {
   "attachments": {
    "image.png": {
     "image/png": "[encoded data removed]"
    }
   },
   "cell_type": "markdown",
   "id": "636a93b8",
   "metadata": {},
   "source": [
    "## 1)-1 단순선형회귀\n",
    "![image.png](attachment:image.png)\n",
    "연속형 반응 변수 y / 설명변수 x 하나 <br>\n",
    "가정: 두 변수 인과관계 O, x 따라 y값 변화  <br>\n",
    "기본 회귀 모형  $y_i=\\beta_0+\\beta_1X_i+e_i$  <br>\n",
    "추정 회귀식  $y_i^*=\\beta_0^*+\\beta_1^*X_i$ <br>\n",
    "\n",
    "> 변수설명 <br>\n",
    "> $e_i$ :i번째 관측치의 오차 <br>\n",
    "> $\\beta_0, \\beta_1$ : 회귀 계수 <br>\n",
    "    $\\beta_0$ : x=0일 때 y의 기댓값<br>\n",
    "    $\\beta_1$ : x가 한 단위 변할 때 y의 변화<br>\n",
    "    \n",
    "## 1)-2 다중선형회귀\n",
    "연속형 반응 변수 하나에 설명 변수 둘 이상 <br>\n",
    "> $y = \\beta_0+\\beta_1x_1+\\beta_2x_2+...w_nx_n$\n",
    "\n",
    "### 다중공산성 : 유의점\n",
    "설명 변수 간 선형 종속이 심한 경우<br>\n",
    "=> 설명 변수 간 정보 중첩 발생, 서로 높은 상관관계 가짐\n",
    "\n",
    "#### 다중공산성 확인법\n",
    "##### [1] 산점도 그래프\n",
    "독립 변수 간 pair plot 찍을 때 일부 변수 간의 플랏이 선형성 띌 때\n",
    "<br>\n",
    "##### [2] 상관계수\n",
    "상관계수 확인 시 0.98 ~ 1.00 정도의 높은 상관계수 보이는 변수 집단 존재할 때\n",
    "<br>\n",
    "##### [3] 분산팽창계수 VIF\n",
    "VIF가 10이 넘을 때 <br>\n",
    "VIF : 독린변수를 다른 독립변수로 선형회귀한 성능을 나타낸 지표<br>\n",
    "=> 다른 변수에 의존적일수록 VIF 증가\n",
    "<br>\n",
    "\n",
    "#### 다중공산성 대처법\n",
    "##### [1]변수 제거\n",
    "변수 제거 > 자료 다양성 감소, 분석 가설에 영향 미칠 가능성 존재하므로 자제 필요<br>\n",
    "\n",
    "##### [2] 변수 변환\n",
    "변수 더하거나 빼서 새로운 변수 생성<br>\n",
    "독립변수를 더하거나 빼도 문제 없을 때 <br>\n",
    "\n",
    "##### [3] 규제 선형 모델 활용\n",
    "릿지, 라쏘, 엘라스틱넷 등의 방법을 통해 모델의 복잡도를 줄이는 방법<br>\n",
    "\n",
    "##### [4] PCA"
   ]
  },
  {
   "cell_type": "markdown",
   "id": "9f554783",
   "metadata": {},
   "source": [
    "# 2) 회귀 분석 과정\n",
    "## 2)-1 산점도 그리기\n",
    "각 data point를 2차원 산점도로 시각화해 선형성 유무 판단<br>\n",
    "비선형 관계 갖는 경수 > 변수 변환 통해 선형 모형으로 적합토록 바꿔야 함 <br>\n",
    "\n",
    "## 2)-2 회귀계수 추정\n",
    "기본 회귀 모형  $y_i=\\beta_0+\\beta_1X_i+e_i$ 에서 <br>\n",
    "추정 회귀식  $y_i^*=\\beta_0^*+\\beta_1^*X_i$ 으로<br><br>\n",
    "- **최소제곱법** = 최소자승법 = OLS<br>\n",
    "오차 최소화하는 방법으로 회귀 계수 추정<br>\n",
    "$f(x) = \\beta x + \\alpha$<br>\n",
    "$y_i = \\alpha + \\beta x_i + u_i$<br>\n",
    "$e_i = y_i - f(x_i)$<br>\n",
    "$e_i$ 잔차 : 표본에 의해 생긴 차이 <br><br>\n",
    "    - 세 회귀식 중 가장 좋은 모델은?<br>\n",
    "=> 잔차가 최소화되는 파라미터를 찾는 방법 = 최소제곱법을 통해 알아볼 수 있음<br>\n",
    "**그러나** 최소자승법은 **노이즈에 취약**하다는 한계 존재 \n",
    "- 오차항 가정 직접법<br>\n",
    "> 1. 오차항의 평균(기댓값)은 0이다.        \n",
    "> 2. 오차항의 분산은 x와 무관하게 일정하다.<br>\n",
    "    > 오차항 분산은 $\\sigma^2$<br>\n",
    "    > 분산이 상수로 고정 = 설명변수 X에 대응하는 반응변수 Y값 퍼져있는 정도 균일<br>\n",
    "        => **등분산성**\n",
    "\n",
    "이 두 가정을 전제로 회귀 모델의 평균/공분산 구하며, 이 과정에서 회귀계수 구해짐<br>\n",
    "최대우도법 등을 통해 회귀계수 추정 가능 "
   ]
  }
 ],
 "metadata": {
  "kernelspec": {
   "display_name": "Python 3 (ipykernel)",
   "language": "python",
   "name": "python3"
  },
  "language_info": {
   "codemirror_mode": {
    "name": "ipython",
    "version": 3
   },
   "file_extension": ".py",
   "mimetype": "text/x-python",
   "name": "python",
   "nbconvert_exporter": "python",
   "pygments_lexer": "ipython3",
   "version": "3.11.4"
  }
 },
 "nbformat": 4,
 "nbformat_minor": 5
}
