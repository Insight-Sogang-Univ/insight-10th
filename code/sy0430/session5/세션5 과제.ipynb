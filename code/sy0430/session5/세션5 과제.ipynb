{
 "cells": [
  {
   "cell_type": "markdown",
   "id": "f20207b5",
   "metadata": {},
   "source": [
    "필수과제: 코드 돌려보고 새롭게 알게된 점, 느낀점 마크다운으로 정리"
   ]
  },
  {
   "cell_type": "markdown",
   "id": "0c476784",
   "metadata": {},
   "source": [
    "# House Sales in King Country, USA"
   ]
  },
  {
   "cell_type": "markdown",
   "id": "af5718e5",
   "metadata": {},
   "source": [
    "- 왜도가 심할 경우 > 자연로그 취해 분포 조정"
   ]
  },
  {
   "cell_type": "markdown",
   "id": "e1a8d9a4",
   "metadata": {},
   "source": [
    "- 독립변수 간 상관 관계를 확인할 때 무작정 상관관계가 높은 변수만을 선택할 것이 아니라, 각 독립변수의 특징 또한 고려하여 선정해야함.\n",
    " <br><br>\n",
    "- 단순 선형 회귀 분석<br>\n",
    "회귀 분석 할 땐 항상 상수항 추가<br>\n",
    "p-value의 유의 확률이 유의 수준보다 작으면 귀무 가설 기각<br>\n",
    "<br>\n",
    "- 다중 선형 회귀 분석<br>\n",
    "연속형 반응 변수 하나 - 설명 변수 둘 이상<br>\n",
    "R-Squared = 전체 데이터 중 얼마나 설명되는지 확인 가능<br>\n",
    "모든 변수에 대해 다중공산성 확인<br>\n",
    "종속 변수에 자연 로그를 취해 비대칭 데이터 분포 완화 후 회귀분석 진행<br>\n",
    "오차에 대한 가정 만족해야 함<br>\n",
    "\n"
   ]
  },
  {
   "cell_type": "markdown",
   "id": "1079a92e",
   "metadata": {},
   "source": [
    "회귀 분석의 전체적인 과정을 둘러보았으나 직접 해봐야 좀 더 와닿을 것 같음. 변수 선택 기준과 상황에 적합한 모델 선택을 잘 해야 스스로 세운 가설에 대해 적절한 근거를 제시할 수 있을 것 같음. "
   ]
  }
 ],
 "metadata": {
  "kernelspec": {
   "display_name": "Python 3 (ipykernel)",
   "language": "python",
   "name": "python3"
  },
  "language_info": {
   "codemirror_mode": {
    "name": "ipython",
    "version": 3
   },
   "file_extension": ".py",
   "mimetype": "text/x-python",
   "name": "python",
   "nbconvert_exporter": "python",
   "pygments_lexer": "ipython3",
   "version": "3.11.4"
  }
 },
 "nbformat": 4,
 "nbformat_minor": 5
}
