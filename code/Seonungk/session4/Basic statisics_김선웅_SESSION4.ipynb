{
 "cells": [
  {
   "cell_type": "markdown",
   "id": "e24a1040",
   "metadata": {},
   "source": [
    "# 통계 세션 과제"
   ]
  },
  {
   "cell_type": "markdown",
   "id": "61f61e73",
   "metadata": {},
   "source": [
    "## 과제1"
   ]
  },
  {
   "cell_type": "markdown",
   "id": "92b03fb0",
   "metadata": {},
   "source": [
    "ox 문제"
   ]
  },
  {
   "cell_type": "markdown",
   "id": "6fd512af",
   "metadata": {},
   "source": [
    "- 1-(1)번: Posltive SKewness는 오른쪽 꼬리가 왼쪽보다 더 길 때를 의미하며, 평균과 중앙값이 최빈값보다 작습니다.(O/X)\n",
    "- 1-(2)번: 변동계수는 표준편차를 해당 데이터의 평균으로 곱한 값으로 계산된다.(O/X)  \n",
    "- 1-(3)번: 데이터 값들이 평균으로부터 얼마나 퍼져 있는지를 나타내는 중요한 통계적 지표를 표준편차라고 한다.(O/X)\n",
    "- 1-(4)번: 사분위간 범위는 Q4에서 Q1값을 제외한 범위를 의미한다. (O/X)"
   ]
  },
  {
   "cell_type": "markdown",
   "id": "9ee3747d",
   "metadata": {},
   "source": [
    "1-(1)번 답: X\n",
    "1-(2)번 답: O\n",
    "1-(3)번 답: O\n",
    "1-(4)번 답: X"
   ]
  },
  {
   "cell_type": "markdown",
   "id": "08702a3c",
   "metadata": {},
   "source": [
    "## 과제 2"
   ]
  },
  {
   "cell_type": "markdown",
   "id": "f1b2c62e",
   "metadata": {},
   "source": [
    "공분산과 상관계수에 대해 자세히 설명하시오"
   ]
  },
  {
   "cell_type": "markdown",
   "id": "03185d1a",
   "metadata": {},
   "source": [
    "정답:\n",
    "(1)공분산은 covariance라고 하며, 두 변수가 각자의 평균으로부터 떨어진 값을 서로 곱한 것을 평균한 값이다. 공분산이 양수이면 x와 y는 양의 관계로 함께 변화하는 것을 의미하며, 음수이면 음의 관계, 0이면 아무 관계가 아닌 것으로 본다.\n",
    "\n",
    "(2) 상관계수는 correlation이라고 하며, 공분산을 표준화한 값이다. -1과 1사이의 값을 가지며, 상관관계가 높다고 하여 인과관계를 반드시 의미하는 것은 아니므로 주의하여야 한다."
   ]
  },
  {
   "cell_type": "markdown",
   "id": "341b7d8d",
   "metadata": {},
   "source": [
    "## 과제3"
   ]
  },
  {
   "cell_type": "markdown",
   "id": "171b01a5",
   "metadata": {},
   "source": [
    "확률분포의 예시 7가지를 쓰시오"
   ]
  },
  {
   "cell_type": "markdown",
   "id": "b7e84636",
   "metadata": {},
   "source": [
    "정답: 확률분포에는 1)이항분포, 2)정규 분포, 3)T분포, 4)F분포, 5)콰이스퀘어 분포, 6)포아송 분포, 7) 베르누이 분포 등이 있다."
   ]
  },
  {
   "cell_type": "markdown",
   "id": "2bd291d9",
   "metadata": {},
   "source": [
    "## 과제 4"
   ]
  },
  {
   "cell_type": "markdown",
   "id": "de8bcaed",
   "metadata": {},
   "source": [
    "가설 검정의 절차를 4단계에 걸쳐 설명하시오"
   ]
  },
  {
   "cell_type": "markdown",
   "id": "edfbb754",
   "metadata": {},
   "source": [
    "정답: 가설 검정 절차는\n",
    "\n",
    "1) 가설 설정 - 귀무가설과 대립가설 설정\n",
    "2) 유의 수준 설정 - 어느 정도까지 1종 오류를 감안할 것인지 설정\n",
    "3) 검정통계량 산출 - 데이터를 어떠한 분포를 사용하여 검정할지 판단\n",
    "4) 가설 기각/채택 판단의 4단계를 거친다. - 기각역과 채택역 설정후 기각/채택 판단"
   ]
  },
  {
   "cell_type": "markdown",
   "id": "82c9a616",
   "metadata": {},
   "source": [
    "## 과제 5"
   ]
  },
  {
   "cell_type": "markdown",
   "id": "639f0551",
   "metadata": {},
   "source": [
    "1종 오류와 2종 오류에 대해 설명하시오"
   ]
  },
  {
   "cell_type": "markdown",
   "id": "057b7ec1",
   "metadata": {},
   "source": [
    "정답: 1종 오류는 귀무가설이 옳음 에도 불구하고 이를 거부하는 오류이며, 2종 오류는 귀무가설이 옳지 않음에도 불구하고 이를 채택하는 오류이다."
   ]
  },
  {
   "cell_type": "markdown",
   "id": "b82b52ce",
   "metadata": {},
   "source": [
    "## 과제 6"
   ]
  },
  {
   "cell_type": "markdown",
   "id": "12b543f0",
   "metadata": {},
   "source": [
    "베이즈 정리 공식에 대해 쓰시오"
   ]
  },
  {
   "cell_type": "markdown",
   "id": "017720e2",
   "metadata": {},
   "source": [
    "정답: 베이즈 정리 공식은 전확률 정리를 이용하며, P(A|B)=P(B|A)XP(A)/P(B)이다. 즉, 사후 확률은 P(AnB)/P(B)이다. "
   ]
  }
 ],
 "metadata": {
  "kernelspec": {
   "display_name": "Python 3 (ipykernel)",
   "language": "python",
   "name": "python3"
  },
  "language_info": {
   "codemirror_mode": {
    "name": "ipython",
    "version": 3
   },
   "file_extension": ".py",
   "mimetype": "text/x-python",
   "name": "python",
   "nbconvert_exporter": "python",
   "pygments_lexer": "ipython3",
   "version": "3.11.4"
  },
  "toc": {
   "base_numbering": 1,
   "nav_menu": {},
   "number_sections": true,
   "sideBar": true,
   "skip_h1_title": false,
   "title_cell": "Table of Contents",
   "title_sidebar": "Contents",
   "toc_cell": false,
   "toc_position": {},
   "toc_section_display": true,
   "toc_window_display": false
  }
 },
 "nbformat": 4,
 "nbformat_minor": 5
}
