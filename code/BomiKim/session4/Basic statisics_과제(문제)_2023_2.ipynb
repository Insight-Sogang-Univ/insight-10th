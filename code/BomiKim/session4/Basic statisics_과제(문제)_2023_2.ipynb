{
 "cells": [
  {
   "cell_type": "markdown",
   "id": "e24a1040",
   "metadata": {},
   "source": [
    "# 통계 세션 과제"
   ]
  },
  {
   "cell_type": "markdown",
   "id": "61f61e73",
   "metadata": {},
   "source": [
    "## 과제1"
   ]
  },
  {
   "cell_type": "markdown",
   "id": "92b03fb0",
   "metadata": {},
   "source": [
    "ox 문제"
   ]
  },
  {
   "cell_type": "markdown",
   "id": "6fd512af",
   "metadata": {},
   "source": [
    "- 1-(1)번: Posltive SKewness는 오른쪽 꼬리가 왼쪽보다 더 길 때를 의미하며, 평균과 중앙값이 최빈값보다 작습니다.(O/X)\n",
    "- 1-(2)번: 변동계수는 표준편차를 해당 데이터의 평균으로 곱한 값으로 계산된다.(O/X)  \n",
    "- 1-(3)번: 데이터 값들이 평균으로부터 얼마나 퍼져 있는지를 나타내는 중요한 통계적 지표를 표준편차라고 한다.(O/X)\n",
    "- 1-(4)번: 사분위간 범위는 Q4에서 Q1값을 제외한 범위를 의미한다. (O/X)"
   ]
  },
  {
   "cell_type": "markdown",
   "id": "9ee3747d",
   "metadata": {},
   "source": [
    "정답:   \n",
    "1-(1)번: X  \n",
    "1-(2)번: X  \n",
    "1-(3)번: O  \n",
    "1-(4)번: X  "
   ]
  },
  {
   "cell_type": "markdown",
   "id": "08702a3c",
   "metadata": {},
   "source": [
    "## 과제 2"
   ]
  },
  {
   "cell_type": "markdown",
   "id": "f1b2c62e",
   "metadata": {},
   "source": [
    "공분산과 상관계수에 대해 자세히 설명하시오"
   ]
  },
  {
   "cell_type": "markdown",
   "id": "03185d1a",
   "metadata": {},
   "source": [
    "정답:  \n",
    "공분산은 두 변수가 어떤 방향으로 변화하는지와 그 크기를 표현하는데 사용한다. 예를 들어, Cov (X,Y) > 0이면 X와 Y는 양의 관계로, Cov (X,Y) < 0이면 X와 Y는 음의 관계로,\n",
    "Cov (X,Y) = 0이면 X와 Y는 양도 음도 아닌 관계로 해석한다.  \n",
    "상관계수는 공분산을 -1과 1로 표준화한 것으로, Corr (X,Y) = 1에 가까울수록 양의 상관관계로, Corr (X,Y) = -1에 가까울수록 음의 상관관계로 해석한다. "
   ]
  },
  {
   "cell_type": "markdown",
   "id": "341b7d8d",
   "metadata": {},
   "source": [
    "## 과제3"
   ]
  },
  {
   "cell_type": "markdown",
   "id": "171b01a5",
   "metadata": {},
   "source": [
    "확률분포의 예시 7가지를 쓰시오"
   ]
  },
  {
   "cell_type": "markdown",
   "id": "b7e84636",
   "metadata": {},
   "source": [
    "정답: \n",
    "1) 정규분포  \n",
    "2) T분포\n",
    "3) 카이제곱분포\n",
    "4) F분포\n",
    "5) 이항분포\n",
    "6) 베르누이분포\n",
    "7) 포아송분포"
   ]
  },
  {
   "cell_type": "markdown",
   "id": "2bd291d9",
   "metadata": {},
   "source": [
    "## 과제 4"
   ]
  },
  {
   "cell_type": "markdown",
   "id": "de8bcaed",
   "metadata": {},
   "source": [
    "가설 검정의 절차를 4단계에 걸쳐 설명하시오"
   ]
  },
  {
   "cell_type": "markdown",
   "id": "edfbb754",
   "metadata": {},
   "source": [
    "정답:   \n",
    "가설검정은 가설설정, 유의수준설정, 검정통계량 산출, 가설기각/채택 판단 단계로 이루어진다. 먼저, 귀무가설 H0과 대립가설 H1을 설정한다. 귀무가설은 주로 확인하기 용이하거나 기각하고자 하는 명제로 설정한다. 이후, 정해진 수치를 얼마나 벗어나면 귀무가설이 오류로 인정할 것인가를 판단하는 기준인 유의수준(α)을 설정한다. 그리고 가설 검정의 결과를 판단하기 위해 검정통계량을 사용한다. 데이터의 분포나 특징에 따라 사용되는 검정통계량(Z통계량, T통계량)은 달라진다. 마지막으로, 검정통계량이 확률분포의 어느 부분에 위치하느냐에 따라 기각 및 채택 여부를 결정한다. 예를 들어, 검정통계량이 신뢰구간에 있을 때는 귀무가설을 채택하게 된다. "
   ]
  },
  {
   "cell_type": "markdown",
   "id": "82c9a616",
   "metadata": {},
   "source": [
    "## 과제 5"
   ]
  },
  {
   "cell_type": "markdown",
   "id": "639f0551",
   "metadata": {},
   "source": [
    "1종 오류와 2종 오류에 대해 설명하시오"
   ]
  },
  {
   "cell_type": "markdown",
   "id": "057b7ec1",
   "metadata": {},
   "source": [
    "정답:  \n",
    "1종 오류는 귀무가설이 실제로 참이었는데 기각할 확률이고, 2종 오류는 귀무가설이 실제로 거짓이었는데 채택할 확률이다. "
   ]
  },
  {
   "cell_type": "markdown",
   "id": "b82b52ce",
   "metadata": {},
   "source": [
    "## 과제 6"
   ]
  },
  {
   "cell_type": "markdown",
   "id": "12b543f0",
   "metadata": {},
   "source": [
    "베이즈 정리 공식에 대해 쓰시오"
   ]
  },
  {
   "cell_type": "markdown",
   "id": "017720e2",
   "metadata": {},
   "source": [
    "정답:  \n",
    "사전 확률을 기반으로 사후 확률을 구하는 것으로,\n",
    "P(A|B) = {P(B|A)P(A)}/P(B)로 계산된다. "
   ]
  }
 ],
 "metadata": {
  "kernelspec": {
   "display_name": "Python 3 (ipykernel)",
   "language": "python",
   "name": "python3"
  },
  "language_info": {
   "codemirror_mode": {
    "name": "ipython",
    "version": 3
   },
   "file_extension": ".py",
   "mimetype": "text/x-python",
   "name": "python",
   "nbconvert_exporter": "python",
   "pygments_lexer": "ipython3",
   "version": "3.11.3"
  },
  "toc": {
   "base_numbering": 1,
   "nav_menu": {},
   "number_sections": true,
   "sideBar": true,
   "skip_h1_title": false,
   "title_cell": "Table of Contents",
   "title_sidebar": "Contents",
   "toc_cell": false,
   "toc_position": {},
   "toc_section_display": true,
   "toc_window_display": false
  }
 },
 "nbformat": 4,
 "nbformat_minor": 5
}
