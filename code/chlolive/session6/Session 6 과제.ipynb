{
 "cells": [
  {
   "cell_type": "markdown",
   "id": "caa98b23",
   "metadata": {},
   "source": [
    "# Cross Validation"
   ]
  },
  {
   "cell_type": "markdown",
   "id": "070da50d",
   "metadata": {},
   "source": [
    "먼저 교차검증(Cross Validation)이란 무엇인지 알아보겠습니다.\n",
    "\n",
    "보통 모델링을 하는 과정에서 저희는 주어진 train set을 학습을 위한 train set과 학습된 모델의 성능을 검증하기 위한 test set으로 분리합니다.\n",
    "\n",
    "train set을 이용해 만든 모델이 새로운 데이터에서도 잘 작동할 수 있는지를 확인하는 과정이죠.\n",
    "\n",
    "그러나, 이러한 방법에는 약점이 존재합니다.\n",
    "\n",
    "첫째, 고정된 test set을 사용해 계속해서 모델 성능을 검증/수정하다 보면 결국 이 모델은 본인이 설정한 test set에만 잘 작동하는 모델이 되는 것입니다.\n",
    "\n",
    "일반적인 설명력을 갖는 것이 아니라 특정 일부 데이터에만 최적화되이것은 다른 말로 test set에 과적합(overfitting)되었다고 표현합니다.\n",
    "\n",
    "제가 만든 test set에 과적합된 모델을 다른 데이터에 적용했을 경우 성능이 떨어지게 되는 것이죠.\n",
    "\n",
    "둘째, 모델 학습에 사용할 수 있는 데이터의 양이 줄어듭니다.\n",
    "\n",
    "따로 떼어놓은 test set은 아예 학습에 사용할 수 없기 때문입니다.\n",
    "\n",
    "따라서 이러한 문제를 해결하고자 교차검증(Cross Validation)을 사용할 수 있습니다.\n",
    "\n",
    "교차검증은 train set을 train set과 validation set으로 분리하여 train set으로 학습된 모델을 validation set을 통해 검증하는 방식입니다.!"
   ]
  },
  {
   "cell_type": "markdown",
   "id": "92934d91",
   "metadata": {},
   "source": [
    "# K-Fold Cross Validation"
   ]
  },
  {
   "attachments": {
    "image.png": {
     "image/png": "[encoded data removed]"
    }
   },
   "cell_type": "markdown",
   "id": "5df137a4",
   "metadata": {},
   "source": [
    "자 그렇다면 K-Fold란 무슨 뜻일까요?\n",
    "\n",
    "K-Fold(K-겹 교차검증)는 가장 일반적으로 사용되는 교차 검증 방법으로, 회귀 모델에 많이 사용됩니다.\n",
    "\n",
    "간단하게는 교차 검증을 K번 진행한다고 생각하시면 될 것 같습니다.\n",
    "\n",
    "자세한 과정을 살펴보면 다음과 같습니다.\n",
    "\n",
    "**[K-Fold Cross Validation]**\n",
    "\n",
    "1.전체 데이터셋을 Training Set과 Test Set으로 나눕니다.\n",
    "\n",
    "2.Training Set를 k개의 폴드(부분)로 나눕니다.\n",
    "\n",
    "3.첫 번째 폴드를 Validation Set으로 사용하고 나머지 폴드들을 Training Set으로 사용합니다.\n",
    "\n",
    "4.모델을 Training한 뒤, 첫 번 째 Validation Set으로 평가합니다.\n",
    "\n",
    "5.차례대로 다음 폴드를 Validation Set으로 사용하며 K번을 반복합니다.\n",
    "결과적으로 총 k개의 성능 결과를 얻게 되면, 모델의 성능은 각 결과값들의 평균으로 정해집니다.\n",
    "\n",
    "하단 이미지는 5개의 fold를 사용한 Cross Validation 과정을 보여줍니다.\n",
    "\n",
    "![image.png](attachment:image.png)"
   ]
  },
  {
   "cell_type": "markdown",
   "id": "e24165e1",
   "metadata": {
    "ExecuteTime": {
     "end_time": "2023-10-01T13:15:27.350455Z",
     "start_time": "2023-10-01T13:15:27.332398Z"
    }
   },
   "source": [
    "하나의 데이터셋을 가지고 모든 데이터를 적어도 한번은 학습에 활용하며 K번의 검증 과정을 거칠 수 있습니다. 이제 애플 주식 데이터를 선형회귀 모델로 예측해보는 실습을 통해 내용을 적용해봅시다."
   ]
  },
  {
   "cell_type": "markdown",
   "id": "fcfc7ed0",
   "metadata": {},
   "source": [
    "# 애플 주식 가격 예측 실습"
   ]
  },
  {
   "cell_type": "markdown",
   "id": "a7b87314",
   "metadata": {},
   "source": [
    "## 데이터 전처리 및 시각화"
   ]
  },
  {
   "cell_type": "code",
   "execution_count": 2,
   "id": "e201c5b2",
   "metadata": {
    "ExecuteTime": {
     "end_time": "2023-10-01T14:05:42.057118Z",
     "start_time": "2023-10-01T14:05:38.769431Z"
    },
    "tags": []
   },
   "outputs": [],
   "source": [
    "import pandas as pd\n",
    "import matplotlib.pyplot as plt\n",
    "from pylab import rcParams\n",
    "import numpy as np\n",
    "import warnings\n",
    "\n",
    "# 특정 경고 메시지를 무시\n",
    "warnings.filterwarnings(\"ignore\")\n",
    "\n",
    "from sklearn.model_selection import cross_val_score, train_test_split\n",
    "from sklearn.feature_selection import RFECV, SelectFromModel, SelectKBest\n",
    "from sklearn import metrics\n",
    "%matplotlib inline"
   ]
  },
  {
   "cell_type": "code",
   "execution_count": 4,
   "id": "16157644",
   "metadata": {
    "ExecuteTime": {
     "end_time": "2023-10-01T14:05:42.135611Z",
     "start_time": "2023-10-01T14:05:42.061105Z"
    },
    "tags": []
   },
   "outputs": [],
   "source": [
    "Stock = pd.read_csv('./AAPL.csv',  index_col=0)"
   ]
  },
  {
   "cell_type": "code",
   "execution_count": 18,
   "id": "b40ebfce",
   "metadata": {
    "ExecuteTime": {
     "end_time": "2023-10-01T14:05:42.197625Z",
     "start_time": "2023-10-01T14:05:42.139566Z"
    },
    "tags": []
   },
   "outputs": [
    {
     "data": {
      "text/html": [
       "<div>\n",
       "<style scoped>\n",
       "    .dataframe tbody tr th:only-of-type {\n",
       "        vertical-align: middle;\n",
       "    }\n",
       "\n",
       "    .dataframe tbody tr th {\n",
       "        vertical-align: top;\n",
       "    }\n",
       "\n",
       "    .dataframe thead th {\n",
       "        text-align: right;\n",
       "    }\n",
       "</style>\n",
       "<table border=\"1\" class=\"dataframe\">\n",
       "  <thead>\n",
       "    <tr style=\"text-align: right;\">\n",
       "      <th></th>\n",
       "      <th>Open</th>\n",
       "      <th>High</th>\n",
       "      <th>Low</th>\n",
       "      <th>Close</th>\n",
       "      <th>Volume</th>\n",
       "      <th>SD20</th>\n",
       "      <th>Upper_Band</th>\n",
       "      <th>Lower_Band</th>\n",
       "      <th>S_Close(t-1)</th>\n",
       "      <th>S_Close(t-2)</th>\n",
       "      <th>...</th>\n",
       "      <th>QQQ_MA10</th>\n",
       "      <th>QQQ_MA20</th>\n",
       "      <th>QQQ_MA50</th>\n",
       "      <th>SnP_Close</th>\n",
       "      <th>SnP(t-1))</th>\n",
       "      <th>SnP(t-5)</th>\n",
       "      <th>DJIA_Close</th>\n",
       "      <th>DJIA(t-1))</th>\n",
       "      <th>DJIA(t-5)</th>\n",
       "      <th>Close_forcast</th>\n",
       "    </tr>\n",
       "    <tr>\n",
       "      <th>Date</th>\n",
       "      <th></th>\n",
       "      <th></th>\n",
       "      <th></th>\n",
       "      <th></th>\n",
       "      <th></th>\n",
       "      <th></th>\n",
       "      <th></th>\n",
       "      <th></th>\n",
       "      <th></th>\n",
       "      <th></th>\n",
       "      <th></th>\n",
       "      <th></th>\n",
       "      <th></th>\n",
       "      <th></th>\n",
       "      <th></th>\n",
       "      <th></th>\n",
       "      <th></th>\n",
       "      <th></th>\n",
       "      <th></th>\n",
       "      <th></th>\n",
       "      <th></th>\n",
       "    </tr>\n",
       "  </thead>\n",
       "  <tbody>\n",
       "    <tr>\n",
       "      <th>2005-10-17</th>\n",
       "      <td>6.66</td>\n",
       "      <td>6.69</td>\n",
       "      <td>6.50</td>\n",
       "      <td>6.60</td>\n",
       "      <td>154208600</td>\n",
       "      <td>0.169237</td>\n",
       "      <td>6.827473</td>\n",
       "      <td>6.150527</td>\n",
       "      <td>6.67</td>\n",
       "      <td>6.63</td>\n",
       "      <td>...</td>\n",
       "      <td>33.692</td>\n",
       "      <td>33.9970</td>\n",
       "      <td>34.2690</td>\n",
       "      <td>1190.10</td>\n",
       "      <td>1186.57</td>\n",
       "      <td>1187.33</td>\n",
       "      <td>10348.10</td>\n",
       "      <td>10287.34</td>\n",
       "      <td>10238.76</td>\n",
       "      <td>6.45</td>\n",
       "    </tr>\n",
       "    <tr>\n",
       "      <th>2005-10-18</th>\n",
       "      <td>6.57</td>\n",
       "      <td>6.66</td>\n",
       "      <td>6.44</td>\n",
       "      <td>6.45</td>\n",
       "      <td>152397000</td>\n",
       "      <td>0.168339</td>\n",
       "      <td>6.819677</td>\n",
       "      <td>6.146323</td>\n",
       "      <td>6.60</td>\n",
       "      <td>6.67</td>\n",
       "      <td>...</td>\n",
       "      <td>33.570</td>\n",
       "      <td>33.9525</td>\n",
       "      <td>34.2466</td>\n",
       "      <td>1178.14</td>\n",
       "      <td>1190.10</td>\n",
       "      <td>1184.87</td>\n",
       "      <td>10285.26</td>\n",
       "      <td>10348.10</td>\n",
       "      <td>10253.17</td>\n",
       "      <td>6.78</td>\n",
       "    </tr>\n",
       "    <tr>\n",
       "      <th>2005-10-19</th>\n",
       "      <td>6.43</td>\n",
       "      <td>6.78</td>\n",
       "      <td>6.32</td>\n",
       "      <td>6.78</td>\n",
       "      <td>252170800</td>\n",
       "      <td>0.180306</td>\n",
       "      <td>6.861112</td>\n",
       "      <td>6.139888</td>\n",
       "      <td>6.45</td>\n",
       "      <td>6.60</td>\n",
       "      <td>...</td>\n",
       "      <td>33.562</td>\n",
       "      <td>33.9600</td>\n",
       "      <td>34.2330</td>\n",
       "      <td>1195.76</td>\n",
       "      <td>1178.14</td>\n",
       "      <td>1177.68</td>\n",
       "      <td>10414.13</td>\n",
       "      <td>10285.26</td>\n",
       "      <td>10216.91</td>\n",
       "      <td>6.93</td>\n",
       "    </tr>\n",
       "    <tr>\n",
       "      <th>2005-10-20</th>\n",
       "      <td>6.72</td>\n",
       "      <td>6.97</td>\n",
       "      <td>6.71</td>\n",
       "      <td>6.93</td>\n",
       "      <td>339440500</td>\n",
       "      <td>0.202674</td>\n",
       "      <td>6.931847</td>\n",
       "      <td>6.121153</td>\n",
       "      <td>6.78</td>\n",
       "      <td>6.45</td>\n",
       "      <td>...</td>\n",
       "      <td>33.567</td>\n",
       "      <td>33.9455</td>\n",
       "      <td>34.2190</td>\n",
       "      <td>1177.80</td>\n",
       "      <td>1195.76</td>\n",
       "      <td>1176.84</td>\n",
       "      <td>10281.10</td>\n",
       "      <td>10414.13</td>\n",
       "      <td>10216.59</td>\n",
       "      <td>6.87</td>\n",
       "    </tr>\n",
       "    <tr>\n",
       "      <th>2005-10-21</th>\n",
       "      <td>7.02</td>\n",
       "      <td>7.03</td>\n",
       "      <td>6.83</td>\n",
       "      <td>6.87</td>\n",
       "      <td>199181500</td>\n",
       "      <td>0.216680</td>\n",
       "      <td>6.974860</td>\n",
       "      <td>6.108140</td>\n",
       "      <td>6.93</td>\n",
       "      <td>6.78</td>\n",
       "      <td>...</td>\n",
       "      <td>33.586</td>\n",
       "      <td>33.9365</td>\n",
       "      <td>34.2034</td>\n",
       "      <td>1179.59</td>\n",
       "      <td>1177.80</td>\n",
       "      <td>1186.57</td>\n",
       "      <td>10215.22</td>\n",
       "      <td>10281.10</td>\n",
       "      <td>10287.34</td>\n",
       "      <td>7.01</td>\n",
       "    </tr>\n",
       "  </tbody>\n",
       "</table>\n",
       "<p>5 rows × 63 columns</p>\n",
       "</div>"
      ],
      "text/plain": [
       "            Open  High   Low  Close     Volume      SD20  Upper_Band  \\\n",
       "Date                                                                   \n",
       "2005-10-17  6.66  6.69  6.50   6.60  154208600  0.169237    6.827473   \n",
       "2005-10-18  6.57  6.66  6.44   6.45  152397000  0.168339    6.819677   \n",
       "2005-10-19  6.43  6.78  6.32   6.78  252170800  0.180306    6.861112   \n",
       "2005-10-20  6.72  6.97  6.71   6.93  339440500  0.202674    6.931847   \n",
       "2005-10-21  7.02  7.03  6.83   6.87  199181500  0.216680    6.974860   \n",
       "\n",
       "            Lower_Band  S_Close(t-1)  S_Close(t-2)  ...  QQQ_MA10  QQQ_MA20  \\\n",
       "Date                                                ...                       \n",
       "2005-10-17    6.150527          6.67          6.63  ...    33.692   33.9970   \n",
       "2005-10-18    6.146323          6.60          6.67  ...    33.570   33.9525   \n",
       "2005-10-19    6.139888          6.45          6.60  ...    33.562   33.9600   \n",
       "2005-10-20    6.121153          6.78          6.45  ...    33.567   33.9455   \n",
       "2005-10-21    6.108140          6.93          6.78  ...    33.586   33.9365   \n",
       "\n",
       "            QQQ_MA50  SnP_Close  SnP(t-1))  SnP(t-5)  DJIA_Close  DJIA(t-1))  \\\n",
       "Date                                                                           \n",
       "2005-10-17   34.2690    1190.10    1186.57   1187.33    10348.10    10287.34   \n",
       "2005-10-18   34.2466    1178.14    1190.10   1184.87    10285.26    10348.10   \n",
       "2005-10-19   34.2330    1195.76    1178.14   1177.68    10414.13    10285.26   \n",
       "2005-10-20   34.2190    1177.80    1195.76   1176.84    10281.10    10414.13   \n",
       "2005-10-21   34.2034    1179.59    1177.80   1186.57    10215.22    10281.10   \n",
       "\n",
       "            DJIA(t-5)  Close_forcast  \n",
       "Date                                  \n",
       "2005-10-17   10238.76           6.45  \n",
       "2005-10-18   10253.17           6.78  \n",
       "2005-10-19   10216.91           6.93  \n",
       "2005-10-20   10216.59           6.87  \n",
       "2005-10-21   10287.34           7.01  \n",
       "\n",
       "[5 rows x 63 columns]"
      ]
     },
     "execution_count": 18,
     "metadata": {},
     "output_type": "execute_result"
    }
   ],
   "source": [
    "df_Stock = Stock\n",
    "df_Stock = df_Stock.rename(columns={'Close(t)':'Close'})\n",
    "df_Stock.head()"
   ]
  },
  {
   "cell_type": "code",
   "execution_count": 6,
   "id": "409d45bc",
   "metadata": {
    "ExecuteTime": {
     "end_time": "2023-10-01T14:05:42.212562Z",
     "start_time": "2023-10-01T14:05:42.202578Z"
    },
    "scrolled": true,
    "tags": []
   },
   "outputs": [
    {
     "data": {
      "text/plain": [
       "(3732, 63)"
      ]
     },
     "execution_count": 6,
     "metadata": {},
     "output_type": "execute_result"
    }
   ],
   "source": [
    "df_Stock.shape"
   ]
  },
  {
   "cell_type": "code",
   "execution_count": 20,
   "id": "eb037d7d",
   "metadata": {
    "ExecuteTime": {
     "end_time": "2023-10-01T14:05:42.243480Z",
     "start_time": "2023-10-01T14:05:42.216564Z"
    },
    "tags": []
   },
   "outputs": [],
   "source": [
    "df_Stock = df_Stock.drop(columns='Date_col')"
   ]
  },
  {
   "cell_type": "code",
   "execution_count": 21,
   "id": "caf0472f",
   "metadata": {
    "ExecuteTime": {
     "end_time": "2023-10-01T14:05:42.620834Z",
     "start_time": "2023-10-01T14:05:42.247459Z"
    },
    "tags": []
   },
   "outputs": [
    {
     "data": {
      "image/png": "[encoded data removed]",
      "text/plain": [
       "<Figure size 1000x700 with 1 Axes>"
      ]
     },
     "metadata": {},
     "output_type": "display_data"
    }
   ],
   "source": [
    "df_Stock['Close'].plot(figsize=(10, 7))\n",
    "plt.title(\"Stock Price\", fontsize=17)\n",
    "plt.ylabel('Price', fontsize=14)\n",
    "plt.xlabel('Time', fontsize=14)\n",
    "plt.grid(which=\"major\", color='k', linestyle='-.', linewidth=0.5)\n",
    "plt.show()"
   ]
  },
  {
   "cell_type": "markdown",
   "id": "8932fdbf",
   "metadata": {},
   "source": [
    "## 과제 1번"
   ]
  },
  {
   "cell_type": "markdown",
   "id": "c1a8c309",
   "metadata": {
    "ExecuteTime": {
     "end_time": "2023-10-01T13:25:42.767268Z",
     "start_time": "2023-10-01T13:25:42.745328Z"
    }
   },
   "source": [
    "해당 함수에서 설정한 훈련 세트, 검증 세트, 테스트 세트의 비율을 적어주세요"
   ]
  },
  {
   "cell_type": "markdown",
   "id": "1fa6a164",
   "metadata": {},
   "source": [
    "정답: 훈련세트 88%, 검증 세트 10%, 테스트 세트 2%"
   ]
  },
  {
   "cell_type": "code",
   "execution_count": 24,
   "id": "ba99aafb",
   "metadata": {
    "ExecuteTime": {
     "end_time": "2023-10-01T14:05:42.636777Z",
     "start_time": "2023-10-01T14:05:42.623844Z"
    },
    "tags": []
   },
   "outputs": [],
   "source": [
    "def create_train_test_set(df_Stock):\n",
    "    \n",
    "    features = df_Stock.drop(columns=['Close_forcast'], axis=1) #'Close_forcast'열을 제외한 데이터셋: features\n",
    "    target = df_Stock['Close_forcast'] #'Close_forcast'열만 있는 데이터셋: target\n",
    "    \n",
    "\n",
    "    data_len = df_Stock.shape[0] #shape는 데이터셋의 (행 개수, 열 개수)를 반환 -> shape[0]은 '행 개수'를 의미\n",
    "    print('Historical Stock Data length is - ', str(data_len))\n",
    "\n",
    "    #create a chronological split for train and testing\n",
    "    train_split = int(data_len * 0.88) #데이터셋의 88%는 훈련세트에 배당\n",
    "    print('Training Set length - ', str(train_split))\n",
    "\n",
    "    val_split = train_split + int(data_len * 0.1) #데이터*88% + 데이터*10%\n",
    "    print('Validation Set length - ', str(int(data_len * 0.1))) #데이터셋의 10%는 검증세트에 배당\n",
    "\n",
    "    print('Test Set length - ', str(int(data_len * 0.02))) #데이터셋의 2%는 테스트세트에 배당\n",
    "\n",
    "    # Splitting features and target into train, validation and test samples \n",
    "    X_train, X_val, X_test = features[:train_split], features[train_split:val_split], features[val_split:]\n",
    "    Y_train, Y_val, Y_test = target[:train_split], target[train_split:val_split], target[val_split:]\n",
    "\n",
    "    #print shape of samples\n",
    "    print(X_train.shape, X_val.shape, X_test.shape)\n",
    "    print(Y_train.shape, Y_val.shape, Y_test.shape)\n",
    "    \n",
    "    return X_train, X_val, X_test, Y_train, Y_val, Y_test"
   ]
  },
  {
   "cell_type": "code",
   "execution_count": 25,
   "id": "41ff37ac",
   "metadata": {
    "ExecuteTime": {
     "end_time": "2023-10-01T14:05:42.668248Z",
     "start_time": "2023-10-01T14:05:42.641766Z"
    },
    "tags": []
   },
   "outputs": [
    {
     "name": "stdout",
     "output_type": "stream",
     "text": [
      "Historical Stock Data length is -  3732\n",
      "Training Set length -  3284\n",
      "Validation Set length -  373\n",
      "Test Set length -  74\n",
      "(3284, 61) (373, 61) (75, 61)\n",
      "(3284,) (373,) (75,)\n"
     ]
    }
   ],
   "source": [
    "X_train, X_val, X_test, Y_train, Y_val, Y_test = create_train_test_set(df_Stock)"
   ]
  },
  {
   "cell_type": "markdown",
   "id": "b0cc2e8d",
   "metadata": {},
   "source": [
    "## K-FOLD Cross Validation"
   ]
  },
  {
   "cell_type": "code",
   "execution_count": 26,
   "id": "62309600",
   "metadata": {
    "ExecuteTime": {
     "end_time": "2023-10-01T14:05:42.684211Z",
     "start_time": "2023-10-01T14:05:42.670281Z"
    },
    "tags": []
   },
   "outputs": [],
   "source": [
    "features = df_Stock.drop(columns=['Close_forcast'], axis=1)\n",
    "target = df_Stock['Close_forcast']"
   ]
  },
  {
   "cell_type": "code",
   "execution_count": 27,
   "id": "ac6f2fe5",
   "metadata": {
    "ExecuteTime": {
     "end_time": "2023-10-01T14:05:42.715142Z",
     "start_time": "2023-10-01T14:05:42.690216Z"
    },
    "tags": []
   },
   "outputs": [],
   "source": [
    "X_train, X_test, Y_train, Y_test = train_test_split(features, target, test_size=0.2, random_state=42)\n",
    "#train_test_split함수는 scikit-learn 라이브러리에서 제공되며, 주어진 데이터를 훈련 세트와 테스트 세트로 무작위로 분할한다.\n",
    "#features: 독립변수, target: 종속변수, test_size: 테스트세트의 크기, random_state: 42를 시드값으로 갖는 난수 생성"
   ]
  },
  {
   "cell_type": "code",
   "execution_count": 28,
   "id": "2e715c90",
   "metadata": {
    "ExecuteTime": {
     "end_time": "2023-10-01T14:06:08.517082Z",
     "start_time": "2023-10-01T14:06:08.508109Z"
    },
    "tags": []
   },
   "outputs": [],
   "source": [
    "from sklearn.model_selection import KFold\n",
    "from sklearn.linear_model import LinearRegression\n",
    "# K-Fold 교차 검증을 설정합니다.\n",
    "n_splits = 5  # 분할할 폴드의 수\n",
    "kf = KFold(n_splits=n_splits, shuffle=True, random_state=42)\n",
    "#shuffle=True: 데이터를 분할하기 전에 데이터를 무작위로 섞습니다.\n",
    "#이것은 데이터의 순서에 편향이 있을 경우(예: 정렬된 데이터) 유용하며, 각 폴드가 데이터의 무작위 샘플을 반영하도록 합니다.\n",
    "\n",
    "# 모델을 초기화합니다. 원하는 모델로 대체 가능합니다.\n",
    "model = LinearRegression()\n",
    "\n",
    "# 폴드별 성능을 저장할 리스트를 초기화합니다.\n",
    "train_scores, val_scores = [], []"
   ]
  },
  {
   "cell_type": "markdown",
   "id": "ed3ff2e8",
   "metadata": {},
   "source": [
    "## 과제 2번\n",
    "아래 K-Fold 교차 검증을 통해 도출된 RMSE 값을 바탕으로 해당 모델의 성능을 수치로 표현하세요. (힌트 상단 설명)\n",
    "\n",
    "정답: (2.35+2.69+2.34+2.58+3.35)/5 = 2.662"
   ]
  },
  {
   "cell_type": "code",
   "execution_count": 33,
   "id": "6957c7c4",
   "metadata": {
    "ExecuteTime": {
     "end_time": "2023-10-01T14:06:10.432424Z",
     "start_time": "2023-10-01T14:06:10.297786Z"
    },
    "tags": []
   },
   "outputs": [
    {
     "name": "stdout",
     "output_type": "stream",
     "text": [
      "1번째 교차 검증 RMSE: 2.35, 학습 데이터 크기: 2985, 검증 데이터 크기: 747\n",
      "2번째 교차 검증 RMSE: 2.69, 학습 데이터 크기: 2985, 검증 데이터 크기: 747\n",
      "3번째 교차 검증 RMSE: 2.34, 학습 데이터 크기: 2986, 검증 데이터 크기: 746\n",
      "4번째 교차 검증 RMSE: 2.58, 학습 데이터 크기: 2986, 검증 데이터 크기: 746\n",
      "5번째 교차 검증 RMSE: 3.35, 학습 데이터 크기: 2986, 검증 데이터 크기: 746\n"
     ]
    }
   ],
   "source": [
    "import numpy as np\n",
    "from sklearn.model_selection import KFold\n",
    "from sklearn.linear_model import LinearRegression\n",
    "from sklearn.metrics import mean_squared_error\n",
    "\n",
    "# 데이터를 특성(features)과 타겟(target)으로 나눕니다.\n",
    "features = df_Stock.drop(columns=['Close_forcast'], axis=1)\n",
    "target = df_Stock['Close_forcast']\n",
    "\n",
    "# K-Fold 교차 검증을 설정합니다.\n",
    "n_splits = 5  # 분할할 폴드의 수\n",
    "kf = KFold(n_splits=n_splits, shuffle=True, random_state=42)\n",
    "\n",
    "# 모델을 초기화합니다. 원하는 모델로 대체 가능합니다.\n",
    "model = LinearRegression()\n",
    "\n",
    "# 폴드별 성능 및 데이터 크기를 저장할 리스트를 초기화합니다.\n",
    "rmse_scores = []\n",
    "train_sizes, val_sizes = [], []\n",
    "\n",
    "# K-Fold 교차 검증 반복\n",
    "for fold_idx, (train_idx, val_idx) in enumerate(kf.split(features)): \n",
    "    #독립변수인 features에서 split\n",
    "    #enumerate는 반복되는 폴드의 인덱스와 함께 훈련 및 검증 인덱스를 제공\n",
    "    #fold_idx는 현재 폴드의 번호(예: 0, 1, 2, ...)\n",
    "    #train_idx와 val_idx는 각각 현재 폴드에서 사용될 훈련 및 검증 데이터의 인덱스\n",
    "    \n",
    "    X_train_fold, X_val_fold = features.iloc[train_idx], features.iloc[val_idx]\n",
    "    Y_train_fold, Y_val_fold = target.iloc[train_idx], target.iloc[val_idx]\n",
    "\n",
    "    # 모델을 훈련하고 검증합니다.\n",
    "    model.fit(X_train_fold, Y_train_fold)\n",
    "    Y_val_pred = model.predict(X_val_fold)\n",
    "\n",
    "    # 검증 데이터의 RMSE 계산\n",
    "    rmse = np.sqrt(mean_squared_error(Y_val_fold, Y_val_pred))\n",
    "    rmse_scores.append(rmse)\n",
    "\n",
    "    # 훈련 데이터 및 검증 데이터 크기 저장\n",
    "    train_sizes.append(len(train_idx))\n",
    "    val_sizes.append(len(val_idx))\n",
    "\n",
    "    # 결과 출력\n",
    "    print(f\"{fold_idx + 1}번째 교차 검증 RMSE: {rmse:.2f}, 학습 데이터 크기: {len(train_idx)}, 검증 데이터 크기: {len(val_idx)}\")\n"
   ]
  },
  {
   "cell_type": "code",
   "execution_count": 29,
   "id": "882a1147",
   "metadata": {
    "ExecuteTime": {
     "end_time": "2023-10-01T14:06:12.035269Z",
     "start_time": "2023-10-01T14:06:12.022287Z"
    },
    "tags": []
   },
   "outputs": [
    {
     "ename": "AttributeError",
     "evalue": "'LinearRegression' object has no attribute 'coef_'",
     "output_type": "error",
     "traceback": [
      "\u001b[1;31m---------------------------------------------------------------------------\u001b[0m",
      "\u001b[1;31mAttributeError\u001b[0m                            Traceback (most recent call last)",
      "Cell \u001b[1;32mIn[29], line 1\u001b[0m\n\u001b[1;32m----> 1\u001b[0m \u001b[38;5;28mprint\u001b[39m(\u001b[38;5;124m'\u001b[39m\u001b[38;5;124mLR Coefficients: \u001b[39m\u001b[38;5;130;01m\\n\u001b[39;00m\u001b[38;5;124m'\u001b[39m, model\u001b[38;5;241m.\u001b[39mcoef_)\n\u001b[0;32m      2\u001b[0m \u001b[38;5;28mprint\u001b[39m(\u001b[38;5;124m'\u001b[39m\u001b[38;5;124mLR Intercept: \u001b[39m\u001b[38;5;130;01m\\n\u001b[39;00m\u001b[38;5;124m'\u001b[39m, model\u001b[38;5;241m.\u001b[39mintercept_)\n",
      "\u001b[1;31mAttributeError\u001b[0m: 'LinearRegression' object has no attribute 'coef_'"
     ]
    }
   ],
   "source": [
    "print('LR Coefficients: \\n', model.coef_)\n",
    "print('LR Intercept: \\n', model.intercept_)"
   ]
  },
  {
   "cell_type": "markdown",
   "id": "d59b0d39",
   "metadata": {},
   "source": [
    "# Predict for the test dataset"
   ]
  },
  {
   "cell_type": "markdown",
   "id": "32e6a531",
   "metadata": {},
   "source": [
    "## 과제 3\n",
    "\n",
    "**** 을 채워주세요"
   ]
  },
  {
   "cell_type": "code",
   "execution_count": 34,
   "id": "a3bd7461",
   "metadata": {
    "ExecuteTime": {
     "end_time": "2023-10-01T14:06:15.985554Z",
     "start_time": "2023-10-01T14:06:15.967618Z"
    },
    "tags": []
   },
   "outputs": [],
   "source": [
    "Y_test_pred = model.predict(X_test)"
   ]
  },
  {
   "cell_type": "code",
   "execution_count": 35,
   "id": "0fbb4b22",
   "metadata": {
    "ExecuteTime": {
     "end_time": "2023-10-01T14:06:16.172056Z",
     "start_time": "2023-10-01T14:06:16.154137Z"
    },
    "tags": []
   },
   "outputs": [
    {
     "name": "stdout",
     "output_type": "stream",
     "text": [
      "Test R-squared:  1.0\n",
      "Test Explained Variation:  1.0\n",
      "Test Mean Squared Error: 3.75\n",
      "Test RMSE:  1.94\n",
      "Test MAE:  1.01\n"
     ]
    }
   ],
   "source": [
    "print(\"Test R-squared: \",round(metrics.r2_score(Y_test,Y_test_pred),2))\n",
    "print(\"Test Explained Variation: \",round(metrics.explained_variance_score(Y_test,Y_test_pred),2)) \n",
    "print('Test Mean Squared Error:', round(metrics.mean_squared_error(Y_test,Y_test_pred), 2)) \n",
    "print(\"Test RMSE: \",round(np.sqrt(metrics.mean_squared_error(Y_test,Y_test_pred)),2))\n",
    "print(\"Test MAE: \",round(metrics.mean_absolute_error(Y_test,Y_test_pred),2))"
   ]
  },
  {
   "cell_type": "code",
   "execution_count": 40,
   "id": "dff339f6",
   "metadata": {
    "ExecuteTime": {
     "end_time": "2023-10-01T14:06:16.373925Z",
     "start_time": "2023-10-01T14:06:16.337017Z"
    },
    "scrolled": true,
    "tags": []
   },
   "outputs": [
    {
     "data": {
      "text/html": [
       "<div>\n",
       "<style scoped>\n",
       "    .dataframe tbody tr th:only-of-type {\n",
       "        vertical-align: middle;\n",
       "    }\n",
       "\n",
       "    .dataframe tbody tr th {\n",
       "        vertical-align: top;\n",
       "    }\n",
       "\n",
       "    .dataframe thead th {\n",
       "        text-align: right;\n",
       "    }\n",
       "</style>\n",
       "<table border=\"1\" class=\"dataframe\">\n",
       "  <thead>\n",
       "    <tr style=\"text-align: right;\">\n",
       "      <th></th>\n",
       "      <th>Date</th>\n",
       "      <th>Actual</th>\n",
       "      <th>Predicted</th>\n",
       "    </tr>\n",
       "  </thead>\n",
       "  <tbody>\n",
       "    <tr>\n",
       "      <th>0</th>\n",
       "      <td>2017-03-10 00:00:00</td>\n",
       "      <td>132.63</td>\n",
       "      <td>132.606660</td>\n",
       "    </tr>\n",
       "    <tr>\n",
       "      <th>1</th>\n",
       "      <td>2015-09-21 00:00:00</td>\n",
       "      <td>104.79</td>\n",
       "      <td>106.624711</td>\n",
       "    </tr>\n",
       "    <tr>\n",
       "      <th>2</th>\n",
       "      <td>2012-06-14 00:00:00</td>\n",
       "      <td>70.88</td>\n",
       "      <td>70.079031</td>\n",
       "    </tr>\n",
       "    <tr>\n",
       "      <th>3</th>\n",
       "      <td>2012-05-09 00:00:00</td>\n",
       "      <td>70.43</td>\n",
       "      <td>69.946431</td>\n",
       "    </tr>\n",
       "    <tr>\n",
       "      <th>4</th>\n",
       "      <td>2007-05-03 00:00:00</td>\n",
       "      <td>12.44</td>\n",
       "      <td>12.402035</td>\n",
       "    </tr>\n",
       "    <tr>\n",
       "      <th>...</th>\n",
       "      <td>...</td>\n",
       "      <td>...</td>\n",
       "      <td>...</td>\n",
       "    </tr>\n",
       "    <tr>\n",
       "      <th>742</th>\n",
       "      <td>2017-02-21 00:00:00</td>\n",
       "      <td>130.64</td>\n",
       "      <td>130.367844</td>\n",
       "    </tr>\n",
       "    <tr>\n",
       "      <th>743</th>\n",
       "      <td>2018-11-05 00:00:00</td>\n",
       "      <td>198.68</td>\n",
       "      <td>198.189345</td>\n",
       "    </tr>\n",
       "    <tr>\n",
       "      <th>744</th>\n",
       "      <td>2019-09-17 00:00:00</td>\n",
       "      <td>220.58</td>\n",
       "      <td>218.439568</td>\n",
       "    </tr>\n",
       "    <tr>\n",
       "      <th>745</th>\n",
       "      <td>2006-10-25 00:00:00</td>\n",
       "      <td>10.15</td>\n",
       "      <td>10.199807</td>\n",
       "    </tr>\n",
       "    <tr>\n",
       "      <th>746</th>\n",
       "      <td>2013-11-11 00:00:00</td>\n",
       "      <td>66.39</td>\n",
       "      <td>65.798734</td>\n",
       "    </tr>\n",
       "  </tbody>\n",
       "</table>\n",
       "<p>747 rows × 3 columns</p>\n",
       "</div>"
      ],
      "text/plain": [
       "                    Date  Actual   Predicted\n",
       "0    2017-03-10 00:00:00  132.63  132.606660\n",
       "1    2015-09-21 00:00:00  104.79  106.624711\n",
       "2    2012-06-14 00:00:00   70.88   70.079031\n",
       "3    2012-05-09 00:00:00   70.43   69.946431\n",
       "4    2007-05-03 00:00:00   12.44   12.402035\n",
       "..                   ...     ...         ...\n",
       "742  2017-02-21 00:00:00  130.64  130.367844\n",
       "743  2018-11-05 00:00:00  198.68  198.189345\n",
       "744  2019-09-17 00:00:00  220.58  218.439568\n",
       "745  2006-10-25 00:00:00   10.15   10.199807\n",
       "746  2013-11-11 00:00:00   66.39   65.798734\n",
       "\n",
       "[747 rows x 3 columns]"
      ]
     },
     "execution_count": 40,
     "metadata": {},
     "output_type": "execute_result"
    }
   ],
   "source": [
    "df_pred = pd.DataFrame(Y_test.values, columns=['Actual'], index=Y_test.index)\n",
    "df_pred['Predicted'] = Y_test_pred\n",
    "df_pred = df_pred.reset_index()\n",
    "df_pred.loc[:, 'Date'] = pd.to_datetime(df_pred['Date'],format='%Y-%m-%d')\n",
    "df_pred"
   ]
  },
  {
   "cell_type": "code",
   "execution_count": 37,
   "id": "97ca949a",
   "metadata": {
    "ExecuteTime": {
     "end_time": "2023-10-01T14:06:16.826802Z",
     "start_time": "2023-10-01T14:06:16.552533Z"
    },
    "tags": []
   },
   "outputs": [
    {
     "data": {
      "text/plain": [
       "<Axes: >"
      ]
     },
     "execution_count": 37,
     "metadata": {},
     "output_type": "execute_result"
    },
    {
     "data": {
      "image/png": "[encoded data removed]",
      "text/plain": [
       "<Figure size 640x480 with 1 Axes>"
      ]
     },
     "metadata": {},
     "output_type": "display_data"
    }
   ],
   "source": [
    "df_pred[['Actual', 'Predicted']].plot()"
   ]
  },
  {
   "cell_type": "code",
   "execution_count": null,
   "id": "308e720a",
   "metadata": {},
   "outputs": [],
   "source": []
  }
 ],
 "metadata": {
  "kernelspec": {
   "display_name": "Python 3 (ipykernel)",
   "language": "python",
   "name": "python3"
  },
  "language_info": {
   "codemirror_mode": {
    "name": "ipython",
    "version": 3
   },
   "file_extension": ".py",
   "mimetype": "text/x-python",
   "name": "python",
   "nbconvert_exporter": "python",
   "pygments_lexer": "ipython3",
   "version": "3.11.4"
  },
  "toc": {
   "base_numbering": 1,
   "nav_menu": {},
   "number_sections": true,
   "sideBar": true,
   "skip_h1_title": false,
   "title_cell": "Table of Contents",
   "title_sidebar": "Contents",
   "toc_cell": false,
   "toc_position": {
    "height": "calc(100% - 180px)",
    "left": "10px",
    "top": "150px",
    "width": "339.556px"
   },
   "toc_section_display": true,
   "toc_window_display": true
  }
 },
 "nbformat": 4,
 "nbformat_minor": 5
}
