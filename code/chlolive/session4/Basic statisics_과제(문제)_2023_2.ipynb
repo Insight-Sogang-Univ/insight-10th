{
 "cells": [
  {
   "cell_type": "markdown",
   "id": "e24a1040",
   "metadata": {},
   "source": [
    "# 통계 세션 과제"
   ]
  },
  {
   "cell_type": "markdown",
   "id": "61f61e73",
   "metadata": {},
   "source": [
    "## 과제1"
   ]
  },
  {
   "cell_type": "markdown",
   "id": "92b03fb0",
   "metadata": {},
   "source": [
    "ox 문제"
   ]
  },
  {
   "cell_type": "markdown",
   "id": "6fd512af",
   "metadata": {},
   "source": [
    "- 1-(1)번: Posltive Skewness는 오른쪽 꼬리가 왼쪽보다 더 길 때를 의미하며, 평균과 중앙값이 최빈값보다 작습니다.(O/X)\n",
    "- 1-(2)번: 변동계수는 표준편차를 해당 데이터의 평균으로 곱한 값으로 계산된다.(O/X)  \n",
    "- 1-(3)번: 데이터 값들이 평균으로부터 얼마나 퍼져 있는지를 나타내는 중요한 통계적 지표를 표준편차라고 한다.(O/X)\n",
    "- 1-(4)번: 사분위간 범위는 Q4에서 Q1값을 제외한 범위를 의미한다. (O/X)"
   ]
  },
  {
   "cell_type": "markdown",
   "id": "9ee3747d",
   "metadata": {},
   "source": [
    "정답: X, X, O, X"
   ]
  },
  {
   "cell_type": "markdown",
   "id": "08702a3c",
   "metadata": {},
   "source": [
    "## 과제 2"
   ]
  },
  {
   "cell_type": "markdown",
   "id": "f1b2c62e",
   "metadata": {},
   "source": [
    "공분산과 상관계수에 대해 자세히 설명하시오"
   ]
  },
  {
   "cell_type": "markdown",
   "id": "03185d1a",
   "metadata": {},
   "source": [
    "정답: 공분산은 두 변수 X,Y에 대해 각 평균 E(X), E(Y)로부터 떨어진 만큼의 값을 모두 곱한 뒤 이를 평균 낸 값이다. 이 공분산은 두 변수 X, Y가 갖는 관계의 방향성에 대해 설명하는 지표이다. 공분산은 Cov(X,Y)로 주로 표현하고, Cov(X,Y)<0이면 음의 관계, Cov(X,Y)>0이면 양의 관계, Cov(X,Y)=0이면 양도 음도 아닌 관계라고 해석된다. 상관계수는 공분산을 각 변수의 표준편차를 모두 나눈 값이다. 이 상관계수는 -1과 1 사이의 범위에 있는 값을 가지며, 절댓값의 크기가 클수록 두 변수 X와 Y는 강한 상관관계를 갖는다고 해석된다. 이때 상관계수의 부호가 음이면 음의 관계, 양수면 양의 관계라고 해석하면 된다."
   ]
  },
  {
   "cell_type": "markdown",
   "id": "341b7d8d",
   "metadata": {},
   "source": [
    "## 과제3"
   ]
  },
  {
   "cell_type": "markdown",
   "id": "171b01a5",
   "metadata": {},
   "source": [
    "확률분포의 예시 7가지를 쓰시오"
   ]
  },
  {
   "cell_type": "markdown",
   "id": "b7e84636",
   "metadata": {},
   "source": [
    "정답: 정규분포, 카이제곱분포, F분포, 이항분포, 포아송분포, 베르누이 분포, T분포"
   ]
  },
  {
   "cell_type": "markdown",
   "id": "2bd291d9",
   "metadata": {},
   "source": [
    "## 과제 4"
   ]
  },
  {
   "cell_type": "markdown",
   "id": "de8bcaed",
   "metadata": {},
   "source": [
    "가설 검정의 절차를 4단계에 걸쳐 설명하시오"
   ]
  },
  {
   "cell_type": "markdown",
   "id": "edfbb754",
   "metadata": {},
   "source": [
    "정답: (1) 귀무가설/대립가설 설정: 귀무가설은 확인하기에 용이하거나 기각하고자 하는 명제로 설정하고, 대립가설은 귀무가설과 반대되는 내용의 명제로 구성한다. \n",
    "(2) 유의수준 설정: 귀무가설을 기각할 수준을 설정하는 단계이다. 이러한 유의수준을 주로 alpha로 표기하며, 이 alpha값이 커지면 대립가설을 채택할 가능성이 더 커진다. \n",
    "(3) 검정통계량 산출: 데이터의 분포나 특징에 따라 적절한 분포를 활용하여 검정통계량을 산출한다.\n",
    "(4) 가설 기각/채택 판단: 검정통계량이 기각역에 위치하면 대립가설을 기각하고, 채택역에 위치하면 귀무가설을 채택한다. "
   ]
  },
  {
   "cell_type": "markdown",
   "id": "82c9a616",
   "metadata": {},
   "source": [
    "## 과제 5"
   ]
  },
  {
   "cell_type": "markdown",
   "id": "639f0551",
   "metadata": {},
   "source": [
    "1종 오류와 2종 오류에 대해 설명하시오"
   ]
  },
  {
   "cell_type": "markdown",
   "id": "057b7ec1",
   "metadata": {},
   "source": [
    "정답: 1종 오류는 귀무가설이 실제로는 참인데 거짓으로 판단하는 오류이다. 2종 오류는 반대로 귀무가설이 실제로는 거짓인데 참으로 판단하는 오류이다. "
   ]
  },
  {
   "cell_type": "markdown",
   "id": "b82b52ce",
   "metadata": {},
   "source": [
    "## 과제 6"
   ]
  },
  {
   "cell_type": "markdown",
   "id": "12b543f0",
   "metadata": {},
   "source": [
    "베이즈 정리 공식에 대해 쓰시오"
   ]
  },
  {
   "cell_type": "markdown",
   "id": "017720e2",
   "metadata": {},
   "source": [
    "정답: 사전 정보가 주어졌을 때 그 정보를 통해 새로운 정보를 조건부 확률을 이용하여 추론하는 방법입니다. 사전확률을 기반으로 사후확률을 유추하는 기법이다. 사건 A가 일어날 확률 P(A)를 알고 있을 때, 사건 B가 일어날 때 사건 A가 일어날 확률인 P(A|B)를 조건부 확률을 이용하여 구하는 방법이 베이즈 정리이다. 다음과 같은 공식이 베이즈 정리 공식이다. --> P(A|B) = P(A)*P(B|A)/(P(B)"
   ]
  },
  {
   "cell_type": "code",
   "execution_count": null,
   "id": "7b6256e4-6646-4727-b46d-3702f722b086",
   "metadata": {},
   "outputs": [],
   "source": []
  }
 ],
 "metadata": {
  "kernelspec": {
   "display_name": "Python 3 (ipykernel)",
   "language": "python",
   "name": "python3"
  },
  "language_info": {
   "codemirror_mode": {
    "name": "ipython",
    "version": 3
   },
   "file_extension": ".py",
   "mimetype": "text/x-python",
   "name": "python",
   "nbconvert_exporter": "python",
   "pygments_lexer": "ipython3",
   "version": "3.11.4"
  },
  "toc": {
   "base_numbering": 1,
   "nav_menu": {},
   "number_sections": true,
   "sideBar": true,
   "skip_h1_title": false,
   "title_cell": "Table of Contents",
   "title_sidebar": "Contents",
   "toc_cell": false,
   "toc_position": {},
   "toc_section_display": true,
   "toc_window_display": false
  }
 },
 "nbformat": 4,
 "nbformat_minor": 5
}
