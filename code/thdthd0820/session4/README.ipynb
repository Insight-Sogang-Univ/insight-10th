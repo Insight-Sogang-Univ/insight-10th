{
 "cells": [
  {
   "cell_type": "markdown",
   "id": "c890176b",
   "metadata": {},
   "source": [
    "# 회귀 이론"
   ]
  },
  {
   "cell_type": "markdown",
   "id": "cc50b681",
   "metadata": {},
   "source": [
    "## 회귀, 분류, 군집화의 구분"
   ]
  },
  {
   "cell_type": "markdown",
   "id": "2c04d5bb",
   "metadata": {},
   "source": [
    "1. 회귀\n",
    "    - 둘 이상의 변수 간 관계를 보여주는 통계적 기법\n",
    "    - 지도학습\n",
    "    - 예측 문제 중, 출력 변수의 값이 연속적인 값인 문제에 해당\n",
    "2. 분류\n",
    "    - 기존에 존재하는 데이터의 관계를 학습, 새롭게 관측된 데이터에 대한 결과를 스스로 판별\n",
    "    - 지도학습\n",
    "    - 범주형 변수에 대해 예측할 때 사용 \n",
    "3. 군집화\n",
    "    - 주어진 데이터의 특성을 고려, 같은 그룹(Cluster)을 정의하고 그룹화하여 그룹의 '대표성'을 찾아냄\n",
    "    - '비지도학습' : 구분하고자 하는 class에 대한 아무런 정보가 없음"
   ]
  },
  {
   "cell_type": "markdown",
   "id": "04507c77",
   "metadata": {},
   "source": [
    "## 선형회귀"
   ]
  },
  {
   "cell_type": "markdown",
   "id": "faf945d8",
   "metadata": {},
   "source": [
    "- 선형회귀 : 오차 제곱 합 (=실제값-예측값)을 최소화하는 직선형 회귀선을 최적화"
   ]
  },
  {
   "cell_type": "markdown",
   "id": "4402a21e",
   "metadata": {},
   "source": [
    "### 선형회귀분석의 목적"
   ]
  },
  {
   "cell_type": "markdown",
   "id": "8047690b",
   "metadata": {},
   "source": [
    "1. 데이터의 이해\n",
    "    - 과거 현상이 어떤 원인 때문에 발생했는지 이해\n",
    "2. 예측 \n",
    "    - 과거 데이터 기반으로 미래 값 예측\n",
    "3. 인과관계 증명 "
   ]
  },
  {
   "cell_type": "markdown",
   "id": "5b4ecc39",
   "metadata": {},
   "source": [
    "### 단순선형회귀"
   ]
  },
  {
   "cell_type": "markdown",
   "id": "f29e28b0",
   "metadata": {},
   "source": [
    "단순선형회귀 : 연속형 종속 변수 1개, 설명 변수 1개"
   ]
  },
  {
   "cell_type": "markdown",
   "id": "6bb7f953",
   "metadata": {},
   "source": [
    "### 다중선형회귀"
   ]
  },
  {
   "cell_type": "markdown",
   "id": "fe1d6e7f",
   "metadata": {},
   "source": [
    "다중선형회귀 : 연속형 종속 변수 1개, 설명 변수 2개 이상"
   ]
  },
  {
   "cell_type": "markdown",
   "id": "0729c6ce",
   "metadata": {},
   "source": [
    "* 다중공선성의 문제 발생할 수 있음"
   ]
  },
  {
   "cell_type": "markdown",
   "id": "ea407776",
   "metadata": {},
   "source": [
    "## 다중공선성"
   ]
  },
  {
   "cell_type": "markdown",
   "id": "e4b94ee4",
   "metadata": {},
   "source": [
    "- 다중공선성 : 설명 변수들 간 정보의 중첩으로, 설명 변수들 간 높은 상관관계를 갖는 경우"
   ]
  },
  {
   "cell_type": "markdown",
   "id": "403d1416",
   "metadata": {},
   "source": [
    "- 확인 방법\n",
    "1. 산점도 그래프로 설명 변수의 선형성 알아보기\n",
    "2. 상관계수 확인하여 높은 상관계수를 보이는 변수 찾기\n",
    "3. VIF (분산팽창계수) 활용하기, VIF 10이상이면 다중공선성이 있다고 판단"
   ]
  },
  {
   "cell_type": "markdown",
   "id": "0d8d2d2b",
   "metadata": {},
   "source": [
    "- 대처 방법\n",
    "1. 변수 제거\n",
    "2. 변수 변환\n",
    "    - 변수들을 더하거나 빼서 새로운 변수를 생성하는 경우\n",
    "3. 규제 선형 모델 활용\n",
    "    - 모델의 복잡도를 줄이기 위한 방법\n",
    "    - 릿지, 라쏘, 엘라스틱넷 등\n",
    "4. PCA (주성분분석)"
   ]
  },
  {
   "cell_type": "markdown",
   "id": "cebd9ce6",
   "metadata": {},
   "source": [
    "## 최소제곱법"
   ]
  },
  {
   "cell_type": "markdown",
   "id": "f1cae81e",
   "metadata": {},
   "source": [
    "- 최소제곱법(=최소자승법)\n",
    "    - 회귀계수를 추정하는 데 사용되는 기법\n",
    "    - 잔차(=예측값과 실제값의 차이)를 제곱한 값의 합을 최소화 시키는 파라미터를 회귀계수로 추정\n",
    "    - 노이즈에 취약하다는 단점"
   ]
  },
  {
   "cell_type": "markdown",
   "id": "60f118d4",
   "metadata": {},
   "source": [
    "## 유의성 검정"
   ]
  },
  {
   "cell_type": "markdown",
   "id": "4de87894",
   "metadata": {},
   "source": [
    "- 유의성 검정 : 모델에 사용한 독립변수들이 종속변수에 대해 유의미한 영향을 미치는지 검증"
   ]
  },
  {
   "cell_type": "markdown",
   "id": "88658b08",
   "metadata": {},
   "source": [
    "1. T-test\n",
    "    - 선형회귀분석에서 특정 변수가 모델에서 통계적으로 유의한지 확인\n",
    "2. F-test \n",
    "    - 분산분석을 하는 방법\n",
    "    - F=MSE/MSR\n",
    "    - 모형의 유의성을 검정하는데 사용"
   ]
  },
  {
   "cell_type": "markdown",
   "id": "d53efda2",
   "metadata": {},
   "source": [
    "## 선형회귀분석의 해석방법 (SDEM 방법)"
   ]
  },
  {
   "cell_type": "markdown",
   "id": "3a4da0fb",
   "metadata": {},
   "source": [
    "1. 유의성 검증 \n",
    "    - 계수의 p값이 유의한지 검증\n",
    "2. 방향성 확인\n",
    "    - 내가 세운 가설대로 계수가 나오는지 확인\n",
    "3. 효과의 크기\n",
    "    - 계수 자체의 절대값을 측정\n",
    "    - 유의하지만 그 효과의 크기가 너무 작으면, 변영하지 않을 수 있음\n",
    "4. 모델 적합성\n",
    "    - 통계 모델이 데이터셋을 전체적으로 얼마나 잘 설명했는가를 나타냄\n",
    "    - Under-fitting\n",
    "        - 모델이 주어진 데이터셋을 아주 적게 설명, 설명하지 못한 데이터가 많을 때\n",
    "    - Over-fitting\n",
    "        - 주어진 데이터셋은 잘 설명, 그러나 너무 잘 설명하여 나머지 값은 일반화할 수 없게될 때"
   ]
  },
  {
   "cell_type": "markdown",
   "id": "09d52a5e",
   "metadata": {},
   "source": [
    "## 회귀 모형의 평가"
   ]
  },
  {
   "cell_type": "markdown",
   "id": "8c8dcb08",
   "metadata": {},
   "source": [
    "1. MSE (평균제곱오차) = 추정값과 실측값의 차에 대한 제곱합의 평균\n",
    "    - MSE가 크면 예측력 떨어짐, 작으면 예측력 높아짐\n",
    "2. 결정계수\n",
    "    - 독립변수가 종속변수를 얼마나 설명하고 있는가에 관한 지표\n",
    "    - R2(결정계수) = 1-SSR/SST\n",
    "   \n",
    "3. 기타 등등"
   ]
  },
  {
   "cell_type": "markdown",
   "id": "0719e3a3",
   "metadata": {},
   "source": [
    "## 회귀모형의 진단"
   ]
  },
  {
   "cell_type": "markdown",
   "id": "05c15d7e",
   "metadata": {},
   "source": [
    "1. 선형성 진단\n",
    "2. 오차항의 독립성 진단\n",
    "    - 더빈 왓슨 검정법 : 일반적으로 1.5~2.5 사이 값이면 자기상관관계 없고, 독립이라 판단\n",
    "3. 오차항의 등분산성 진단\n",
    "    - 잔차분포가 랜덤하게 퍼져 있는 경우가 바람직\n",
    "4. 오차항의 정규성 진단\n",
    "    - 시각적 검정 방법 : 히스토그램, Q-Q plot\n",
    "        - 정규성을 만족할 때, 데이터의 분포가 직선에 가깝게 모여 있음\n",
    "    - 수치적 검정 방법 : Shapiro-Wilk 검정, Jarque-Bera 검정"
   ]
  }
 ],
 "metadata": {
  "kernelspec": {
   "display_name": "Python 3 (ipykernel)",
   "language": "python",
   "name": "python3"
  },
  "language_info": {
   "codemirror_mode": {
    "name": "ipython",
    "version": 3
   },
   "file_extension": ".py",
   "mimetype": "text/x-python",
   "name": "python",
   "nbconvert_exporter": "python",
   "pygments_lexer": "ipython3",
   "version": "3.11.4"
  },
  "toc": {
   "base_numbering": 1,
   "nav_menu": {},
   "number_sections": true,
   "sideBar": true,
   "skip_h1_title": true,
   "title_cell": "Table of Contents",
   "title_sidebar": "Contents",
   "toc_cell": false,
   "toc_position": {},
   "toc_section_display": true,
   "toc_window_display": false
  }
 },
 "nbformat": 4,
 "nbformat_minor": 5
}
