{
 "cells": [
  {
   "cell_type": "markdown",
   "id": "e24a1040",
   "metadata": {},
   "source": [
    "# 통계 세션 과제"
   ]
  },
  {
   "cell_type": "markdown",
   "id": "61f61e73",
   "metadata": {},
   "source": [
    "## 과제1"
   ]
  },
  {
   "cell_type": "markdown",
   "id": "92b03fb0",
   "metadata": {},
   "source": [
    "ox 문제"
   ]
  },
  {
   "cell_type": "markdown",
   "id": "6fd512af",
   "metadata": {},
   "source": [
    "- 1-(1)번: Posltive SKewness는 오른쪽 꼬리가 왼쪽보다 더 길 때를 의미하며, 평균과 중앙값이 최빈값보다 작습니다.(O/X)\n",
    "- 1-(2)번: 변동계수는 표준편차를 해당 데이터의 평균으로 곱한 값으로 계산된다.(O/X)  \n",
    "- 1-(3)번: 데이터 값들이 평균으로부터 얼마나 퍼져 있는지를 나타내는 중요한 통계적 지표를 표준편차라고 한다.(O/X)\n",
    "- 1-(4)번: 사분위간 범위는 Q4에서 Q1값을 제외한 범위를 의미한다. (O/X)"
   ]
  },
  {
   "cell_type": "markdown",
   "id": "9ee3747d",
   "metadata": {},
   "source": [
    "정답: \n",
    "- 1-(1): X\n",
    "- 1-(2): X\n",
    "- 1-(3): O\n",
    "- 1-(4): X"
   ]
  },
  {
   "cell_type": "markdown",
   "id": "08702a3c",
   "metadata": {},
   "source": [
    "## 과제 2"
   ]
  },
  {
   "cell_type": "markdown",
   "id": "f1b2c62e",
   "metadata": {},
   "source": [
    "공분산과 상관계수에 대해 자세히 설명하시오"
   ]
  },
  {
   "cell_type": "markdown",
   "id": "03185d1a",
   "metadata": {},
   "source": [
    "정답: \n",
    "- 공분산\n",
    "    - 두 변수가 함께 어떤 방향으로 변화하는지와 그 크기를 표현. 두 변수가 각자의 평균으로부터 떨어진 값을 서로 곱하고, 그것의 평균 값으로 계산.\n",
    "    - 공분산 < 0 이면 두 변수는 양의 관계, 반대는 음의 관계이다. 공분산 =0이면 양도 음도 아닌 관계이다.\n",
    "    \n",
    "- 상관계수\n",
    "    - 두 변수의 선형 관계를 나타내는 지표로, -1과 1사이의 값을 가진다.\n",
    "    - 공분산을 -1과 1 사이로 표준화한 것이므로, 상관계수가 1에 가까울수록 양의 상관관계가 커지고, -1에 가까울수록 음의 상관관계가 커진다.\n",
    "    - 인과관계와는 다른 개념이다.\n"
   ]
  },
  {
   "cell_type": "markdown",
   "id": "341b7d8d",
   "metadata": {},
   "source": [
    "## 과제3"
   ]
  },
  {
   "cell_type": "markdown",
   "id": "171b01a5",
   "metadata": {},
   "source": [
    "확률분포의 예시 7가지를 쓰시오"
   ]
  },
  {
   "cell_type": "markdown",
   "id": "b7e84636",
   "metadata": {},
   "source": [
    "정답: 정규분포 / t분포 / 카이제곱분포 / F분포 / 이항분포/ 베르누이분포 / 포아송분포"
   ]
  },
  {
   "cell_type": "markdown",
   "id": "2bd291d9",
   "metadata": {},
   "source": [
    "## 과제 4"
   ]
  },
  {
   "cell_type": "markdown",
   "id": "de8bcaed",
   "metadata": {},
   "source": [
    "가설 검정의 절차를 4단계에 걸쳐 설명하시오"
   ]
  },
  {
   "cell_type": "markdown",
   "id": "edfbb754",
   "metadata": {},
   "source": [
    "정답:\n",
    "1. 가설 설정\n",
    "    - 귀무가설 H0와 대립가설 H1을 설정\n",
    "2. 유의수준 설정\n",
    "    - 귀무가설 H0를 오류로 판단할 때 사용하는 수치를 설정\n",
    "3. 검정통계량 산출\n",
    "    - 가설 검정의 결과를 판단하기 위해, Z / t 통계량 등 어떤 통계량을 사용할지 결정\n",
    "4. 가설 기각/채택 여부 판단\n",
    "    - 검정통계량이 신뢰구간에 위치하면 귀무가설 H0 채택\n",
    "    - 유의 확률 (p-value) > 유의수준 일 때, 귀무가설 H0 채택\n",
    "    - 위 경우와 반대될 경우 H0를 기각"
   ]
  },
  {
   "cell_type": "markdown",
   "id": "82c9a616",
   "metadata": {},
   "source": [
    "## 과제 5"
   ]
  },
  {
   "cell_type": "markdown",
   "id": "639f0551",
   "metadata": {},
   "source": [
    "1종 오류와 2종 오류에 대해 설명하시오"
   ]
  },
  {
   "cell_type": "markdown",
   "id": "057b7ec1",
   "metadata": {},
   "source": [
    "정답: \n",
    "- 1종 오류 : 귀무가설 H0가 실제로 참인데, 그것을 기각하는 오류\n",
    "- 2종 오류 : 귀무가설 H0가 실제로 거짓인데, 그것을 채택하는 오류"
   ]
  },
  {
   "cell_type": "markdown",
   "id": "b82b52ce",
   "metadata": {},
   "source": [
    "## 과제 6"
   ]
  },
  {
   "cell_type": "markdown",
   "id": "12b543f0",
   "metadata": {},
   "source": [
    "베이즈 정리 공식에 대해 쓰시오"
   ]
  },
  {
   "cell_type": "markdown",
   "id": "017720e2",
   "metadata": {},
   "source": [
    "정답:\n",
    "- P(A|B) = P(B|A) * P(A) / P(B)"
   ]
  }
 ],
 "metadata": {
  "kernelspec": {
   "display_name": "Python 3 (ipykernel)",
   "language": "python",
   "name": "python3"
  },
  "language_info": {
   "codemirror_mode": {
    "name": "ipython",
    "version": 3
   },
   "file_extension": ".py",
   "mimetype": "text/x-python",
   "name": "python",
   "nbconvert_exporter": "python",
   "pygments_lexer": "ipython3",
   "version": "3.11.4"
  },
  "toc": {
   "base_numbering": 1,
   "nav_menu": {},
   "number_sections": true,
   "sideBar": true,
   "skip_h1_title": false,
   "title_cell": "Table of Contents",
   "title_sidebar": "Contents",
   "toc_cell": false,
   "toc_position": {},
   "toc_section_display": true,
   "toc_window_display": false
  }
 },
 "nbformat": 4,
 "nbformat_minor": 5
}
