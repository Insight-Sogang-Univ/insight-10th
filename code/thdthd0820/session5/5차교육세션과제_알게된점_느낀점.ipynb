{
 "cells": [
  {
   "cell_type": "markdown",
   "id": "843698d1",
   "metadata": {},
   "source": [
    "# 집값 예측 과제 "
   ]
  },
  {
   "cell_type": "markdown",
   "id": "ff2d650e",
   "metadata": {},
   "source": [
    "## 새롭게 알게된 점"
   ]
  },
  {
   "cell_type": "markdown",
   "id": "decab3ab",
   "metadata": {},
   "source": [
    "[회귀 모형의 가정에 대한 진단 방법]"
   ]
  },
  {
   "cell_type": "markdown",
   "id": "47303591",
   "metadata": {},
   "source": [
    "1. 정규성 검정\n",
    "    - Q-Q plot을 이용하여 잔차들의 정규성을 진단해볼 수 있다.\n",
    "    - 잔차들의 패턴을 시각화 하는 방법으로도 정규성을 진단해볼 수 있다.\n",
    "    - 또한, 샤피로-월크 검정으로도 정규성을 진단해볼 수 있다는 것을 알게되었다.\n",
    "2. 독립성 검정\n",
    "    - 잔차들을 그래프로 시각화하여, 독립성을 갖추었는지 진단해볼 수 있다.\n",
    "    - 자기상관함수 (ACF)를 사용하여, 독립성을 갖추었는지 진단해볼 수 있다.\n",
    "3. 등분산성 검정\n",
    "    - 잔차들을 distplot으로 시각화하여, 흩어진 정도를 보고, 등분산성을 만족하는지 확인해볼 수 있다."
   ]
  },
  {
   "cell_type": "markdown",
   "id": "7074c406",
   "metadata": {},
   "source": [
    "## 느낀점"
   ]
  },
  {
   "cell_type": "markdown",
   "id": "dae43b2a",
   "metadata": {},
   "source": [
    "1. 이론으로 배웠던 부분을 실제 데이터셋에 적용해볼 수 있었던 점이 좋았다. \n",
    "2. 다중공선성을 파악하기 위해 사용할 수 있는 방법들(VIF, Corr, Heatmap 등)에 대한 코드를 직접 실행해볼 수 있어 유익했다. \n",
    "3. 또한 회귀 모형들에 대한 가정이 잘 이루어지고 있는지 확인해볼 수 있는 방법들을 배울 수 있어 좋았다. \n",
    "4. 추후 선형 회귀 모형을 만들 일이 있을 때, 현재 배운 내용들이 큰 도움이 될 것 같다.\n"
   ]
  }
 ],
 "metadata": {
  "kernelspec": {
   "display_name": "Python 3 (ipykernel)",
   "language": "python",
   "name": "python3"
  },
  "language_info": {
   "codemirror_mode": {
    "name": "ipython",
    "version": 3
   },
   "file_extension": ".py",
   "mimetype": "text/x-python",
   "name": "python",
   "nbconvert_exporter": "python",
   "pygments_lexer": "ipython3",
   "version": "3.11.4"
  },
  "toc": {
   "base_numbering": 1,
   "nav_menu": {},
   "number_sections": true,
   "sideBar": true,
   "skip_h1_title": true,
   "title_cell": "Table of Contents",
   "title_sidebar": "Contents",
   "toc_cell": false,
   "toc_position": {},
   "toc_section_display": true,
   "toc_window_display": false
  }
 },
 "nbformat": 4,
 "nbformat_minor": 5
}
