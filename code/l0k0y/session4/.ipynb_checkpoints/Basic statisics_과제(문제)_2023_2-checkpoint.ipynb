{
 "cells": [
  {
   "cell_type": "markdown",
   "id": "e24a1040",
   "metadata": {},
   "source": [
    "# 통계 세션 과제"
   ]
  },
  {
   "cell_type": "markdown",
   "id": "61f61e73",
   "metadata": {},
   "source": [
    "## 과제1"
   ]
  },
  {
   "cell_type": "markdown",
   "id": "92b03fb0",
   "metadata": {},
   "source": [
    "ox 문제"
   ]
  },
  {
   "cell_type": "markdown",
   "id": "6fd512af",
   "metadata": {},
   "source": [
    "- 1-(1)번: Posltive SKewness는 오른쪽 꼬리가 왼쪽보다 더 길 때를 의미하며, 평균과 중앙값이 최빈값보다 작습니다.(O/X)\n",
    "- 1-(2)번: 변동계수는 표준편차를 해당 데이터의 평균으로 곱한 값으로 계산된다.(O/X)  \n",
    "- 1-(3)번: 데이터 값들이 평균으로부터 얼마나 퍼져 있는지를 나타내는 중요한 통계적 지표를 표준편차라고 한다.(O/X)\n",
    "- 1-(4)번: 사분위간 범위는 Q4에서 Q1값을 제외한 범위를 의미한다. (O/X)"
   ]
  },
  {
   "cell_type": "markdown",
   "id": "9ee3747d",
   "metadata": {},
   "source": [
    "정답: x x o x"
   ]
  },
  {
   "cell_type": "markdown",
   "id": "08702a3c",
   "metadata": {},
   "source": [
    "## 과제 2"
   ]
  },
  {
   "cell_type": "markdown",
   "id": "f1b2c62e",
   "metadata": {},
   "source": [
    "공분산과 상관계수에 대해 자세히 설명하시오"
   ]
  },
  {
   "cell_type": "markdown",
   "id": "03185d1a",
   "metadata": {},
   "source": [
    "정답: 두 확률 변수의 편차를 곱한 값들의 평균을 공분산이라고 하며 두 변수간의 통계적인 관계를 나타내는 척도이다. 이 공분산의 값이 양수인경우 음수인경우 0인경우로 케이스를 나눌 수 있다. 양수는 두 변수가 양의관계 음수는 두 변수가 음의관계라고 본다. 0일때는 일반적으로 두 변수가 관계가 없다라고 판단하지만 그렇지 않은 경우도 있다.\n",
    "상관계수는 공분산과 마찬가지로 두 확률변수간의 관계를 나타내는 척도이다. 다만 공분산은 변수의 단위에 따라 그 값이 변하기 때문에 이런 수치를 -1과 1 사이로 표준화한 것이 바로 상관계수이다. 1에 가까울수록 양의 상관관계 -1에 가까울수록 음의 상관관계이다."
   ]
  },
  {
   "cell_type": "markdown",
   "id": "341b7d8d",
   "metadata": {},
   "source": [
    "## 과제3"
   ]
  },
  {
   "cell_type": "markdown",
   "id": "171b01a5",
   "metadata": {},
   "source": [
    "확률분포의 예시 7가지를 쓰시오"
   ]
  },
  {
   "cell_type": "markdown",
   "id": "b7e84636",
   "metadata": {},
   "source": [
    "정답: 이산확률분포: 베르누이 분포, 이항분포 , 포아송 분포\n",
    "      연속확률분포: 정규분포, T/F분포, 카이제곱분포, 감마분포 "
   ]
  },
  {
   "cell_type": "markdown",
   "id": "2bd291d9",
   "metadata": {},
   "source": [
    "## 과제 4"
   ]
  },
  {
   "cell_type": "markdown",
   "id": "de8bcaed",
   "metadata": {},
   "source": [
    "가설 검정의 절차를 4단계에 걸쳐 설명하시오"
   ]
  },
  {
   "cell_type": "raw",
   "id": "c99ca877",
   "metadata": {},
   "source": [
    "정답:\n",
    "1.가설설정\n",
    "귀무가설(H0)과 대립가설(H1)을 설정하는 단계이다. 보통 기각하고자 하는 가설을 귀무가설로 설정한다.\n",
    "2.유의 수준 설정\n",
    "가설 검정 결과인 값과 실제와의 차이가 어느정도인지 따라 가설을 기각하거나 채택한다. 이때 어느정도를 유의 수준이라고 한다. 보통 알파 기호로 표시한다.\n",
    "3.검정통계량 산출\n",
    "추출한 표본을 토대로 검정통계량을 산출한다.\n",
    "4.가설 기각/채택 판단\n",
    "설정한 유의 수준에 따라 기각역과 채택역이 구분되는데 검정통계량이 어느 위치에 있냐에 따라 귀무가설을 채택할지 기각할지 여부를 정한다."
   ]
  },
  {
   "cell_type": "markdown",
   "id": "82c9a616",
   "metadata": {},
   "source": [
    "## 과제 5"
   ]
  },
  {
   "cell_type": "markdown",
   "id": "639f0551",
   "metadata": {},
   "source": [
    "1종 오류와 2종 오류에 대해 설명하시오"
   ]
  },
  {
   "cell_type": "markdown",
   "id": "057b7ec1",
   "metadata": {},
   "source": [
    "정답: \n",
    "1종 오류: 귀무가설이 참인데 기각하는 경우\n",
    "2종 오류  귀무가설이 거짓인데 채택하는 경우"
   ]
  },
  {
   "cell_type": "markdown",
   "id": "b82b52ce",
   "metadata": {},
   "source": [
    "## 과제 6"
   ]
  },
  {
   "cell_type": "markdown",
   "id": "12b543f0",
   "metadata": {},
   "source": [
    "베이즈 정리 공식에 대해 쓰시오"
   ]
  },
  {
   "cell_type": "markdown",
   "id": "017720e2",
   "metadata": {},
   "source": [
    "정답:\n",
    "조건부확률 식을 변형한 정리이다.\n",
    "P(A|B)=P(B|A)P(A)/P(B)"
   ]
  }
 ],
 "metadata": {
  "kernelspec": {
   "display_name": "Python 3 (ipykernel)",
   "language": "python",
   "name": "python3"
  },
  "language_info": {
   "codemirror_mode": {
    "name": "ipython",
    "version": 3
   },
   "file_extension": ".py",
   "mimetype": "text/x-python",
   "name": "python",
   "nbconvert_exporter": "python",
   "pygments_lexer": "ipython3",
   "version": "3.11.4"
  },
  "toc": {
   "base_numbering": 1,
   "nav_menu": {},
   "number_sections": true,
   "sideBar": true,
   "skip_h1_title": false,
   "title_cell": "Table of Contents",
   "title_sidebar": "Contents",
   "toc_cell": false,
   "toc_position": {},
   "toc_section_display": true,
   "toc_window_display": false
  }
 },
 "nbformat": 4,
 "nbformat_minor": 5
}
