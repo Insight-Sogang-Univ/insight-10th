{
 "cells": [
  {
   "cell_type": "markdown",
   "id": "e24a1040",
   "metadata": {},
   "source": [
    "# 통계 세션 과제"
   ]
  },
  {
   "cell_type": "markdown",
   "id": "61f61e73",
   "metadata": {},
   "source": [
    "## 과제1"
   ]
  },
  {
   "cell_type": "markdown",
   "id": "92b03fb0",
   "metadata": {},
   "source": [
    "ox 문제"
   ]
  },
  {
   "cell_type": "markdown",
   "id": "6fd512af",
   "metadata": {},
   "source": [
    "- 1-(1)번: Posltive SKewness는 오른쪽 꼬리가 왼쪽보다 더 길 때를 의미하며, 평균과 중앙값이 최빈값보다 작습니다.(X)\n",
    "- 1-(2)번: 변동계수는 표준편차를 해당 데이터의 평균으로 곱한 값으로 계산된다.(X)  \n",
    "- 1-(3)번: 데이터 값들이 평균으로부터 얼마나 퍼져 있는지를 나타내는 중요한 통계적 지표를 표준편차라고 한다.(O)\n",
    "- 1-(4)번: 사분위간 범위는 Q4에서 Q1값을 제외한 범위를 의미한다. (X)"
   ]
  },
  {
   "cell_type": "markdown",
   "id": "9ee3747d",
   "metadata": {},
   "source": [
    "정답: X / X / O / X"
   ]
  },
  {
   "cell_type": "markdown",
   "id": "08702a3c",
   "metadata": {},
   "source": [
    "## 과제 2"
   ]
  },
  {
   "cell_type": "markdown",
   "id": "f1b2c62e",
   "metadata": {},
   "source": [
    "공분산과 상관계수에 대해 자세히 설명하시오"
   ]
  },
  {
   "cell_type": "markdown",
   "id": "03185d1a",
   "metadata": {},
   "source": [
    "정답:\n",
    "\n",
    "- 공분산 = 두 변수가 각자 평균으로부터 떨어진값을 서로 곱한 후 평균한 값 <br>\n",
    "    *두 변수가 함께 어떤 방향으로 변화하는지와 그 크기를 표현하데 사용 ex. Cov (X,Y) > 0 = 양의 관계\n",
    "\n",
    "- 상관계수 = 두 변수 간 선형적인 관계, -1과 1사이의 값을 가짐\n",
    "    *Corr (X,Y) = 1에 가까울수록 양의 상관관계"
   ]
  },
  {
   "cell_type": "markdown",
   "id": "341b7d8d",
   "metadata": {},
   "source": [
    "## 과제3"
   ]
  },
  {
   "cell_type": "markdown",
   "id": "171b01a5",
   "metadata": {},
   "source": [
    "확률분포의 예시 7가지를 쓰시오"
   ]
  },
  {
   "cell_type": "markdown",
   "id": "b7e84636",
   "metadata": {},
   "source": [
    "정답: \n",
    "\n",
    "1. 정규분포 <br>\n",
    "= 종형, 좌우대칭\n",
    "= 위치는 평균에 의해, 모양은 표준편차의 크기에 의해 결정\n",
    "\n",
    "2. T분포 <br>\n",
    "= 표준정규분포처럼 0을 중심으로 한 종형\n",
    "= 꼬리는 표준정규분포보다 두꺼움\n",
    "= 자유도가 커짐에 따라 표준정규분포 N(0,1)에 수렴\n",
    "\n",
    "3. 카이제곱분포 <br>\n",
    "= 범주형 데이터 분석이나 카이제곱 검정에 활용\n",
    "= 정규분포의 제곱은 카이스퀘어 분포이며, 제곱하여 양수의 값들만 가짐\n",
    "= 자유도가 커질수록 평균과 분산이 증가함\n",
    "\n",
    "4. F분포 <br>\n",
    "= 두 개의 카이제곱분포의 뷸에 관한 확률분포\n",
    "= 분산 분석과 회귀분석에 사용, 두 모집단의 분산이 동일한지 여부를 비교하는 통계적 검정에 활용\n",
    "= 자유도가 증가할수록 F분포의 확률밀도 함수가 정규분포에 가까워지며 분산이 감소\n",
    "\n",
    "5. 이항분포 <br>\n",
    "= 연속된 n번의 독립시행에서 각 시행이 성공할 확률 p를 가질 때 만들어지는 이산확률분포\n",
    "= 시행 횟수가 증가할수록 분포가 더 대칭적임\n",
    "\n",
    "6. 베르누이분포 <br>\n",
    "= 이항분포에서 시행이 1번인 경우\n",
    "\n",
    "7. 포아송분포 <br>\n",
    "= 단위 시간 안에 어떤 사건이 몇 번 일어날 것인지를 표현하는 이산 확률 분포\n",
    "= 시행 횟수가 증가할수록 분포가 더 대칭적으로 변함"
   ]
  },
  {
   "cell_type": "markdown",
   "id": "2bd291d9",
   "metadata": {},
   "source": [
    "## 과제 4"
   ]
  },
  {
   "cell_type": "markdown",
   "id": "de8bcaed",
   "metadata": {},
   "source": [
    "가설 검정의 절차를 4단계에 걸쳐 설명하시오"
   ]
  },
  {
   "cell_type": "markdown",
   "id": "edfbb754",
   "metadata": {},
   "source": [
    "정답: 가설검정 - 유의 수준 설정 - 검정통계량 산출 - 가설 기각/채택 판단\n",
    "\n",
    "1. 가설 설정 <br>\n",
    "= 귀무가설 H0과 대립가설 H1 설정\n",
    "\n",
    "2. 유의 수준 설정 <br>\n",
    "= 정해진 수치를 얼마나 벗어나면 귀무가설이 오류라고 인정할 것인가를 판단, 보통 α로 표시\n",
    "= α가 커지면 대립가설이 채택될 가능성이 높아짐\n",
    "\n",
    "3. 검정통계량 산출 <br>\n",
    "= 가설 검정의 결과를 판단\n",
    "\n",
    "4. 가설 기각/채택 판단\n",
    "= 검정통계량이 신뢰구간에 있을 때는 귀무가설 채택\n",
    "= 신뢰구간은 1-α이며, 유의 수준이 0.05일 경우 신뢰구간은 95%\n",
    "*p-value는 검정통계량에서 유도할 수 있으며, p-value > α일시, 귀무가설을 채택"
   ]
  },
  {
   "cell_type": "markdown",
   "id": "82c9a616",
   "metadata": {},
   "source": [
    "## 과제 5"
   ]
  },
  {
   "cell_type": "markdown",
   "id": "639f0551",
   "metadata": {},
   "source": [
    "1종 오류와 2종 오류에 대해 설명하시오"
   ]
  },
  {
   "cell_type": "markdown",
   "id": "057b7ec1",
   "metadata": {},
   "source": [
    "정답: \n",
    "\n",
    "1종 오류은 귀무가설이 실제로 참인데 기각할 확률이고, <br>\n",
    "2종 오류는 귀무가설이 실제로 거짓인데 채택할 확률임"
   ]
  },
  {
   "cell_type": "markdown",
   "id": "b82b52ce",
   "metadata": {},
   "source": [
    "## 과제 6"
   ]
  },
  {
   "cell_type": "markdown",
   "id": "12b543f0",
   "metadata": {},
   "source": [
    "베이즈 정리 공식에 대해 쓰시오"
   ]
  },
  {
   "cell_type": "markdown",
   "id": "017720e2",
   "metadata": {},
   "source": [
    "정답:\n",
    "\n",
    "베이즈 정리란, 사전 확률을 기반으로 사후 확률을 계산한 것으로, 이전에 알고 있는 정보를 업데이트 및 새로운 정보를 반영하여 사건 A가 얼마나 가능성이 높은지 측정할 수 있음.\n",
    "\n",
    "P(A|B) = P(B|A)P(A) / P(B)"
   ]
  },
  {
   "cell_type": "code",
   "execution_count": null,
   "id": "7f45bc1f",
   "metadata": {},
   "outputs": [],
   "source": []
  }
 ],
 "metadata": {
  "kernelspec": {
   "display_name": "Python 3 (ipykernel)",
   "language": "python",
   "name": "python3"
  },
  "language_info": {
   "codemirror_mode": {
    "name": "ipython",
    "version": 3
   },
   "file_extension": ".py",
   "mimetype": "text/x-python",
   "name": "python",
   "nbconvert_exporter": "python",
   "pygments_lexer": "ipython3",
   "version": "3.11.4"
  },
  "toc": {
   "base_numbering": 1,
   "nav_menu": {},
   "number_sections": true,
   "sideBar": true,
   "skip_h1_title": false,
   "title_cell": "Table of Contents",
   "title_sidebar": "Contents",
   "toc_cell": false,
   "toc_position": {},
   "toc_section_display": true,
   "toc_window_display": false
  }
 },
 "nbformat": 4,
 "nbformat_minor": 5
}
