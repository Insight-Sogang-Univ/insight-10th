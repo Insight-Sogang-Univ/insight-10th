{
 "cells": [
  {
   "cell_type": "markdown",
   "id": "e24a1040",
   "metadata": {},
   "source": [
    "# 통계 세션 과제"
   ]
  },
  {
   "cell_type": "markdown",
   "id": "61f61e73",
   "metadata": {},
   "source": [
    "## 과제1"
   ]
  },
  {
   "cell_type": "markdown",
   "id": "92b03fb0",
   "metadata": {},
   "source": [
    "ox 문제"
   ]
  },
  {
   "cell_type": "markdown",
   "id": "6fd512af",
   "metadata": {},
   "source": [
    "- 1-(1)번: Posltive SKewness는 오른쪽 꼬리가 왼쪽보다 더 길 때를 의미하며, 평균과 중앙값이 최빈값보다 작습니다.(O/X)\n",
    "- 1-(2)번: 변동계수는 표준편차를 해당 데이터의 평균으로 곱한 값으로 계산된다.(O/X)  \n",
    "- 1-(3)번: 데이터 값들이 평균으로부터 얼마나 퍼져 있는지를 나타내는 중요한 통계적 지표를 표준편차라고 한다.(O/X)\n",
    "- 1-(4)번: 사분위간 범위는 Q4에서 Q1값을 제외한 범위를 의미한다. (O/X)"
   ]
  },
  {
   "cell_type": "markdown",
   "id": "9ee3747d",
   "metadata": {},
   "source": [
    "정답: \n",
    "1-(1) : x, 평균과 중앙값이 최빈값보다 크다. \n",
    "1-(2) : x, 변동계수는 표준편차를 해당 데이터의 평균으로 나눈 값으로 계산한다.\n",
    "1-(3) : o\n",
    "1-(4) : x, 사분위간 범위는 Q3에서 Q1값을 제외한 범위를 의미한다."
   ]
  },
  {
   "cell_type": "markdown",
   "id": "08702a3c",
   "metadata": {},
   "source": [
    "## 과제 2"
   ]
  },
  {
   "cell_type": "markdown",
   "id": "f1b2c62e",
   "metadata": {},
   "source": [
    "공분산과 상관계수에 대해 자세히 설명하시오"
   ]
  },
  {
   "cell_type": "markdown",
   "id": "03185d1a",
   "metadata": {},
   "source": [
    "정답: \n",
    "공분산이란 두 변수가 각자의 평균으로부터 떨어진 값을 서로 곱한 후 평균한 값으로 계산하며, 두 변수가 함께 어떤 방향으로 변화하는 지와 그 크기를 표현하는데 사용된다. 공분산이 0보다 크면 두 변수는 양의 상관관계, 0보다 작으면 두 변수는 음의 상관관계, 공분산이 0이면 두 변수는 양도 음도 아닌 관계를 갖는다(이는 관계가 없다고 봐도 무방하나, 반례도 존재하므로 주의해야 한다.)(크기 자체로 상관관계의 강도를 알려주는 것이 아니다!!, 변수의 단위에 의존적이므로 값이 변경될 수 있음)\n",
    "상관계수란 두 변수 간의 선형적인 관계를 나타내는 통계적 지표이다. 상관 계수는 -1과 1 사이의 값을 가지며, 상관관계와 인과관계의 차이점을 이해해야한다. 공분산을 -1과 1사이로 표준화 한 것으로 이해하면 된다. 1에 가까울 수록 양의 상관관계, -1에 가까울 수록 음의 상관관계로 이해한다. "
   ]
  },
  {
   "cell_type": "markdown",
   "id": "341b7d8d",
   "metadata": {},
   "source": [
    "## 과제3"
   ]
  },
  {
   "cell_type": "markdown",
   "id": "171b01a5",
   "metadata": {},
   "source": [
    "확률분포의 예시 7가지를 쓰시오"
   ]
  },
  {
   "cell_type": "markdown",
   "id": "b7e84636",
   "metadata": {},
   "source": [
    "정답: 베르누이분포, 정규분포, 카이제곱분포, 포아송분포, 기하분포, 이항분포, 지수분포"
   ]
  },
  {
   "cell_type": "markdown",
   "id": "2bd291d9",
   "metadata": {},
   "source": [
    "## 과제 4"
   ]
  },
  {
   "cell_type": "markdown",
   "id": "de8bcaed",
   "metadata": {},
   "source": [
    "가설 검정의 절차를 4단계에 걸쳐 설명하시오"
   ]
  },
  {
   "cell_type": "markdown",
   "id": "edfbb754",
   "metadata": {},
   "source": [
    "정답: 가설설정 - 유의수준 설정 - 검정통계량 산출 - 가설 기각/채택 판단의 4단계로, 가설 설정에서는 귀무가설과 대립가설을 설정한다. 귀무가설은 확인하기 용이하거나 기각하고자 하는 명제로 설정한다. 유의수준 설정에서는 귀무가설이 오류라고 인정할 기준의 수치를 정한다. 보통 알파로 표현한다. 알파가 커지면 귀무가설이 기각될 가능성이 높아지며, 알파가 작아지면 귀무가설이 채택될 가능성이 높아진다. \n",
    "검정통계량 산출에서는 z,t통계량 등 어떤 검정통계량을 사용할 지 결정한다. 가설 기각/채택 판단에서는 검정 통계량이 신뢰구간에 위치해 있는 지 확인하고, 위치해있다면 귀무가설 채택, 위치해있지 않다면 대립가설을 채택한다. "
   ]
  },
  {
   "cell_type": "markdown",
   "id": "82c9a616",
   "metadata": {},
   "source": [
    "## 과제 5"
   ]
  },
  {
   "cell_type": "markdown",
   "id": "639f0551",
   "metadata": {},
   "source": [
    "1종 오류와 2종 오류에 대해 설명하시오"
   ]
  },
  {
   "cell_type": "markdown",
   "id": "057b7ec1",
   "metadata": {},
   "source": [
    "정답: 1종오류란 귀무가설이 실제로 참이었는데 기각할 확률이다. 보통 표시 기호로 알파를 사용한다.  2종오류란 귀무가설이 실제로 거짓인데 채택할 확률이다. 보통 표시 기호로 베타를 사용한다. \n",
    "\n",
    "가설 검정의 검정력은 1-베타이다."
   ]
  },
  {
   "cell_type": "markdown",
   "id": "b82b52ce",
   "metadata": {},
   "source": [
    "## 과제 6"
   ]
  },
  {
   "cell_type": "markdown",
   "id": "12b543f0",
   "metadata": {},
   "source": [
    "베이즈 정리 공식에 대해 쓰시오"
   ]
  },
  {
   "cell_type": "markdown",
   "id": "017720e2",
   "metadata": {},
   "source": [
    "정답: 사후확률은 증거 분의 우도와 사전확률의 곱이다. "
   ]
  }
 ],
 "metadata": {
  "kernelspec": {
   "display_name": "Python 3 (ipykernel)",
   "language": "python",
   "name": "python3"
  },
  "language_info": {
   "codemirror_mode": {
    "name": "ipython",
    "version": 3
   },
   "file_extension": ".py",
   "mimetype": "text/x-python",
   "name": "python",
   "nbconvert_exporter": "python",
   "pygments_lexer": "ipython3",
   "version": "3.11.4"
  },
  "toc": {
   "base_numbering": 1,
   "nav_menu": {},
   "number_sections": true,
   "sideBar": true,
   "skip_h1_title": false,
   "title_cell": "Table of Contents",
   "title_sidebar": "Contents",
   "toc_cell": false,
   "toc_position": {},
   "toc_section_display": true,
   "toc_window_display": false
  }
 },
 "nbformat": 4,
 "nbformat_minor": 5
}
