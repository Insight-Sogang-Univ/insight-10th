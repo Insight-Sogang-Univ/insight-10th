{
 "cells": [
  {
   "cell_type": "markdown",
   "id": "f0aa0d0b",
   "metadata": {},
   "source": [
    "# 데이터의 종류 및 수집\n",
    "\n",
    "- 표형식의 데이터 (.csv, .xlsx)\n",
    "    - Series, DataFrame\n",
    "- 텍스트 파일 (.txt)\n",
    "- json file (.json)\n",
    "- pickle (.pkl, .pickle)"
   ]
  },
  {
   "cell_type": "markdown",
   "id": "b7186f32",
   "metadata": {
    "ExecuteTime": {
     "end_time": "2023-08-21T14:51:20.504450Z",
     "start_time": "2023-08-21T14:51:20.469543Z"
    }
   },
   "source": [
    "## 표형식의 데이터\n",
    "- csv 파일 (.csv)  \n",
    "⇒ *데이터의 크기가 작고 압축이 용이하기 때문에 가장 널리 사용되는 데이터 형식*\n",
    "    - comma separated value : 필드를 쉼표로 구분한 파일 형식\n",
    "    - 텍스트 형식이기 때문에 메모장으로 열 수 있으며, 엑셀로도 열 수 있음.\n",
    "    - cf. tsv : tab separated value, tab으로 구분되어 있는 데이터\n",
    "\n",
    "\n",
    "- excel 파일 (.xls, .xlsx) \n",
    "    - 여러개의 시트로 구성\n",
    "    - 데이터를 불러올 때 불러올 시트를 설정할 수 있음 (ex. sheet_name='Sheet 2')\n",
    "    - 여러 sheet를 불러올때는 list로 받으면 됨 (ex. sheet_name=['Sheet 1', 'Sheet 2'])\n",
    "        - {'Sheet 1' : 데이터프레임1, 'Sheet 2' : 데이터프레임2}인 dictionary 타입으로 return 됨\n",
    "    \n",
    "    \n",
    "- 두 형식 모두 pandas를 통해 DataFrame 형식으로 읽올 수 있음.\n",
    "    - index_col : 불러온 데이터중 하나의 칼럼을 인덱스로서 설정함\n",
    "    - usecols : 데이터중 원하는 칼럼만 선별하여 불러옴\n",
    "        - 로드 후 칼럼을 추출해내는 것보다 메모리를 절약할 수 있다고 함"
   ]
  },
  {
   "cell_type": "markdown",
   "id": "c3dcea59",
   "metadata": {},
   "source": [
    "### csv 파일"
   ]
  },
  {
   "cell_type": "markdown",
   "id": "cbe23684",
   "metadata": {},
   "source": [
    "#### csv 파일 로드"
   ]
  },
  {
   "cell_type": "code",
   "execution_count": 1,
   "id": "85fdba75",
   "metadata": {
    "ExecuteTime": {
     "end_time": "2023-09-14T07:25:10.942270Z",
     "start_time": "2023-09-14T07:25:10.895397Z"
    }
   },
   "outputs": [
    {
     "data": {
      "text/plain": [
       "'C:\\\\Users\\\\ppy04\\\\OneDrive\\\\바탕 화면\\\\workspace\\\\INSIGHT\\\\insight-10th\\\\code\\\\13155a1\\\\session2'"
      ]
     },
     "execution_count": 1,
     "metadata": {},
     "output_type": "execute_result"
    }
   ],
   "source": [
    "import os\n",
    "os.getcwd()"
   ]
  },
  {
   "cell_type": "code",
   "execution_count": 2,
   "id": "0fb12c9f",
   "metadata": {
    "ExecuteTime": {
     "end_time": "2023-09-14T07:25:19.351939Z",
     "start_time": "2023-09-14T07:25:14.030134Z"
    }
   },
   "outputs": [
    {
     "name": "stdout",
     "output_type": "stream",
     "text": [
      "<class 'pandas.core.frame.DataFrame'>\n"
     ]
    },
    {
     "data": {
      "text/html": [
       "<div>\n",
       "<style scoped>\n",
       "    .dataframe tbody tr th:only-of-type {\n",
       "        vertical-align: middle;\n",
       "    }\n",
       "\n",
       "    .dataframe tbody tr th {\n",
       "        vertical-align: top;\n",
       "    }\n",
       "\n",
       "    .dataframe thead th {\n",
       "        text-align: right;\n",
       "    }\n",
       "</style>\n",
       "<table border=\"1\" class=\"dataframe\">\n",
       "  <thead>\n",
       "    <tr style=\"text-align: right;\">\n",
       "      <th></th>\n",
       "      <th>date</th>\n",
       "      <th>hour</th>\n",
       "      <th>birth_year</th>\n",
       "      <th>sex</th>\n",
       "      <th>province</th>\n",
       "      <th>city</th>\n",
       "      <th>fp_num</th>\n",
       "    </tr>\n",
       "  </thead>\n",
       "  <tbody>\n",
       "    <tr>\n",
       "      <th>0</th>\n",
       "      <td>2020-01-01</td>\n",
       "      <td>0</td>\n",
       "      <td>20</td>\n",
       "      <td>female</td>\n",
       "      <td>Seoul</td>\n",
       "      <td>Dobong-gu</td>\n",
       "      <td>19140</td>\n",
       "    </tr>\n",
       "    <tr>\n",
       "      <th>1</th>\n",
       "      <td>2020-01-01</td>\n",
       "      <td>0</td>\n",
       "      <td>20</td>\n",
       "      <td>male</td>\n",
       "      <td>Seoul</td>\n",
       "      <td>Dobong-gu</td>\n",
       "      <td>19950</td>\n",
       "    </tr>\n",
       "    <tr>\n",
       "      <th>2</th>\n",
       "      <td>2020-01-01</td>\n",
       "      <td>0</td>\n",
       "      <td>20</td>\n",
       "      <td>female</td>\n",
       "      <td>Seoul</td>\n",
       "      <td>Dongdaemun-gu</td>\n",
       "      <td>25450</td>\n",
       "    </tr>\n",
       "    <tr>\n",
       "      <th>3</th>\n",
       "      <td>2020-01-01</td>\n",
       "      <td>0</td>\n",
       "      <td>20</td>\n",
       "      <td>male</td>\n",
       "      <td>Seoul</td>\n",
       "      <td>Dongdaemun-gu</td>\n",
       "      <td>27050</td>\n",
       "    </tr>\n",
       "    <tr>\n",
       "      <th>4</th>\n",
       "      <td>2020-01-01</td>\n",
       "      <td>0</td>\n",
       "      <td>20</td>\n",
       "      <td>female</td>\n",
       "      <td>Seoul</td>\n",
       "      <td>Dongjag-gu</td>\n",
       "      <td>28880</td>\n",
       "    </tr>\n",
       "  </tbody>\n",
       "</table>\n",
       "</div>"
      ],
      "text/plain": [
       "         date  hour  birth_year     sex province           city  fp_num\n",
       "0  2020-01-01     0          20  female    Seoul      Dobong-gu   19140\n",
       "1  2020-01-01     0          20    male    Seoul      Dobong-gu   19950\n",
       "2  2020-01-01     0          20  female    Seoul  Dongdaemun-gu   25450\n",
       "3  2020-01-01     0          20    male    Seoul  Dongdaemun-gu   27050\n",
       "4  2020-01-01     0          20  female    Seoul     Dongjag-gu   28880"
      ]
     },
     "execution_count": 2,
     "metadata": {},
     "output_type": "execute_result"
    }
   ],
   "source": [
    "# 라이브러리 로드\n",
    "import pandas as pd\n",
    "# csv 파일 -> pd.read_csv\n",
    "# 데이터 프레임으로 저장\n",
    "\n",
    "seoulfloating = pd.read_csv('./data/SeoulFloating.csv')\n",
    "print(type(seoulfloating))\n",
    "seoulfloating.head() #상위 5개의 데이터 보여줌"
   ]
  },
  {
   "cell_type": "code",
   "execution_count": 3,
   "id": "09a1b343",
   "metadata": {
    "ExecuteTime": {
     "end_time": "2023-09-14T07:25:43.475759Z",
     "start_time": "2023-09-14T07:25:43.449157Z"
    }
   },
   "outputs": [
    {
     "name": "stdout",
     "output_type": "stream",
     "text": [
      "<class 'pandas.core.series.Series'>\n"
     ]
    },
    {
     "data": {
      "text/plain": [
       "0          19140\n",
       "1          19950\n",
       "2          25450\n",
       "3          27050\n",
       "4          28880\n",
       "           ...  \n",
       "1084795    27620\n",
       "1084796    56560\n",
       "1084797    38960\n",
       "1084798    25420\n",
       "1084799    38650\n",
       "Name: fp_num, Length: 1084800, dtype: int64"
      ]
     },
     "execution_count": 3,
     "metadata": {},
     "output_type": "execute_result"
    }
   ],
   "source": [
    "# 데이터프레임에서 하나의 열을 가져옴\n",
    "# 즉, 데이터프레임은 여러개의 Series를 합쳐놓음\n",
    "\n",
    "print(type(seoulfloating['fp_num']))\n",
    "seoulfloating['fp_num']"
   ]
  },
  {
   "cell_type": "markdown",
   "id": "22aa08f0",
   "metadata": {},
   "source": [
    "#### index_col와 usecols 비교"
   ]
  },
  {
   "cell_type": "code",
   "execution_count": 4,
   "id": "af55b7ea",
   "metadata": {
    "ExecuteTime": {
     "end_time": "2023-09-14T07:25:54.838632Z",
     "start_time": "2023-09-14T07:25:53.824665Z"
    }
   },
   "outputs": [
    {
     "data": {
      "text/html": [
       "<div>\n",
       "<style scoped>\n",
       "    .dataframe tbody tr th:only-of-type {\n",
       "        vertical-align: middle;\n",
       "    }\n",
       "\n",
       "    .dataframe tbody tr th {\n",
       "        vertical-align: top;\n",
       "    }\n",
       "\n",
       "    .dataframe thead th {\n",
       "        text-align: right;\n",
       "    }\n",
       "</style>\n",
       "<table border=\"1\" class=\"dataframe\">\n",
       "  <thead>\n",
       "    <tr style=\"text-align: right;\">\n",
       "      <th></th>\n",
       "      <th>hour</th>\n",
       "      <th>birth_year</th>\n",
       "      <th>sex</th>\n",
       "      <th>province</th>\n",
       "      <th>city</th>\n",
       "      <th>fp_num</th>\n",
       "    </tr>\n",
       "    <tr>\n",
       "      <th>date</th>\n",
       "      <th></th>\n",
       "      <th></th>\n",
       "      <th></th>\n",
       "      <th></th>\n",
       "      <th></th>\n",
       "      <th></th>\n",
       "    </tr>\n",
       "  </thead>\n",
       "  <tbody>\n",
       "    <tr>\n",
       "      <th>2020-01-01</th>\n",
       "      <td>0</td>\n",
       "      <td>20</td>\n",
       "      <td>female</td>\n",
       "      <td>Seoul</td>\n",
       "      <td>Dobong-gu</td>\n",
       "      <td>19140</td>\n",
       "    </tr>\n",
       "    <tr>\n",
       "      <th>2020-01-01</th>\n",
       "      <td>0</td>\n",
       "      <td>20</td>\n",
       "      <td>male</td>\n",
       "      <td>Seoul</td>\n",
       "      <td>Dobong-gu</td>\n",
       "      <td>19950</td>\n",
       "    </tr>\n",
       "    <tr>\n",
       "      <th>2020-01-01</th>\n",
       "      <td>0</td>\n",
       "      <td>20</td>\n",
       "      <td>female</td>\n",
       "      <td>Seoul</td>\n",
       "      <td>Dongdaemun-gu</td>\n",
       "      <td>25450</td>\n",
       "    </tr>\n",
       "    <tr>\n",
       "      <th>2020-01-01</th>\n",
       "      <td>0</td>\n",
       "      <td>20</td>\n",
       "      <td>male</td>\n",
       "      <td>Seoul</td>\n",
       "      <td>Dongdaemun-gu</td>\n",
       "      <td>27050</td>\n",
       "    </tr>\n",
       "    <tr>\n",
       "      <th>2020-01-01</th>\n",
       "      <td>0</td>\n",
       "      <td>20</td>\n",
       "      <td>female</td>\n",
       "      <td>Seoul</td>\n",
       "      <td>Dongjag-gu</td>\n",
       "      <td>28880</td>\n",
       "    </tr>\n",
       "  </tbody>\n",
       "</table>\n",
       "</div>"
      ],
      "text/plain": [
       "            hour  birth_year     sex province           city  fp_num\n",
       "date                                                                \n",
       "2020-01-01     0          20  female    Seoul      Dobong-gu   19140\n",
       "2020-01-01     0          20    male    Seoul      Dobong-gu   19950\n",
       "2020-01-01     0          20  female    Seoul  Dongdaemun-gu   25450\n",
       "2020-01-01     0          20    male    Seoul  Dongdaemun-gu   27050\n",
       "2020-01-01     0          20  female    Seoul     Dongjag-gu   28880"
      ]
     },
     "execution_count": 4,
     "metadata": {},
     "output_type": "execute_result"
    }
   ],
   "source": [
    "# index_col :불러온 데이터의 컬럼 중 하나의 열을 인덱스로서 설정\n",
    "# 칼럼 설정은 인덱스 번호로도, 칼럼 이름으로도 가능하다\n",
    "\n",
    "pd.read_csv('./data/SeoulFloating.csv',index_col=0).head() \n",
    "\n",
    "#pd.read_csv('data/SeoulFloating.csv',index_col='date').head()"
   ]
  },
  {
   "cell_type": "code",
   "execution_count": 5,
   "id": "950819ab",
   "metadata": {
    "ExecuteTime": {
     "end_time": "2023-09-14T07:25:58.229392Z",
     "start_time": "2023-09-14T07:25:57.430530Z"
    },
    "scrolled": true
   },
   "outputs": [
    {
     "data": {
      "text/html": [
       "<div>\n",
       "<style scoped>\n",
       "    .dataframe tbody tr th:only-of-type {\n",
       "        vertical-align: middle;\n",
       "    }\n",
       "\n",
       "    .dataframe tbody tr th {\n",
       "        vertical-align: top;\n",
       "    }\n",
       "\n",
       "    .dataframe thead th {\n",
       "        text-align: right;\n",
       "    }\n",
       "</style>\n",
       "<table border=\"1\" class=\"dataframe\">\n",
       "  <thead>\n",
       "    <tr style=\"text-align: right;\">\n",
       "      <th></th>\n",
       "      <th>date</th>\n",
       "      <th>hour</th>\n",
       "    </tr>\n",
       "  </thead>\n",
       "  <tbody>\n",
       "    <tr>\n",
       "      <th>0</th>\n",
       "      <td>2020-01-01</td>\n",
       "      <td>0</td>\n",
       "    </tr>\n",
       "    <tr>\n",
       "      <th>1</th>\n",
       "      <td>2020-01-01</td>\n",
       "      <td>0</td>\n",
       "    </tr>\n",
       "    <tr>\n",
       "      <th>2</th>\n",
       "      <td>2020-01-01</td>\n",
       "      <td>0</td>\n",
       "    </tr>\n",
       "    <tr>\n",
       "      <th>3</th>\n",
       "      <td>2020-01-01</td>\n",
       "      <td>0</td>\n",
       "    </tr>\n",
       "    <tr>\n",
       "      <th>4</th>\n",
       "      <td>2020-01-01</td>\n",
       "      <td>0</td>\n",
       "    </tr>\n",
       "  </tbody>\n",
       "</table>\n",
       "</div>"
      ],
      "text/plain": [
       "         date  hour\n",
       "0  2020-01-01     0\n",
       "1  2020-01-01     0\n",
       "2  2020-01-01     0\n",
       "3  2020-01-01     0\n",
       "4  2020-01-01     0"
      ]
     },
     "execution_count": 5,
     "metadata": {},
     "output_type": "execute_result"
    }
   ],
   "source": [
    "# usecols : 데이터에서 일부 열(칼럼)만 선택해서 로드\n",
    "# 불러올 칼럼 설정은 인덱스 번호로도, 칼럼 이름으로도 가능함\n",
    "\n",
    "pd.read_csv('./data/SeoulFloating.csv',usecols=[0,1]).head()\n",
    "\n",
    "#pd.read_csv('data/SeoulFloating.csv',usecols=['date','hour']).head()"
   ]
  },
  {
   "cell_type": "markdown",
   "id": "9afb277b",
   "metadata": {},
   "source": [
    "### tsv 파일"
   ]
  },
  {
   "cell_type": "code",
   "execution_count": 6,
   "id": "cbaddd6f",
   "metadata": {
    "ExecuteTime": {
     "end_time": "2023-08-21T15:01:43.813007Z",
     "start_time": "2023-08-21T15:01:43.778099Z"
    },
    "scrolled": true
   },
   "outputs": [
    {
     "data": {
      "text/html": [
       "<div>\n",
       "<style scoped>\n",
       "    .dataframe tbody tr th:only-of-type {\n",
       "        vertical-align: middle;\n",
       "    }\n",
       "\n",
       "    .dataframe tbody tr th {\n",
       "        vertical-align: top;\n",
       "    }\n",
       "\n",
       "    .dataframe thead th {\n",
       "        text-align: right;\n",
       "    }\n",
       "</style>\n",
       "<table border=\"1\" class=\"dataframe\">\n",
       "  <thead>\n",
       "    <tr style=\"text-align: right;\">\n",
       "      <th></th>\n",
       "      <th>id</th>\n",
       "      <th>year</th>\n",
       "      <th>gdp</th>\n",
       "      <th>unemployment</th>\n",
       "      <th>sexratio</th>\n",
       "    </tr>\n",
       "  </thead>\n",
       "  <tbody>\n",
       "    <tr>\n",
       "      <th>0</th>\n",
       "      <td>11</td>\n",
       "      <td>2006</td>\n",
       "      <td>4.685579</td>\n",
       "      <td>8.800</td>\n",
       "      <td>102</td>\n",
       "    </tr>\n",
       "    <tr>\n",
       "      <th>1</th>\n",
       "      <td>11</td>\n",
       "      <td>2007</td>\n",
       "      <td>7.781644</td>\n",
       "      <td>7.475</td>\n",
       "      <td>102</td>\n",
       "    </tr>\n",
       "    <tr>\n",
       "      <th>2</th>\n",
       "      <td>11</td>\n",
       "      <td>2008</td>\n",
       "      <td>4.963881</td>\n",
       "      <td>7.675</td>\n",
       "      <td>102</td>\n",
       "    </tr>\n",
       "    <tr>\n",
       "      <th>3</th>\n",
       "      <td>11</td>\n",
       "      <td>2009</td>\n",
       "      <td>3.602599</td>\n",
       "      <td>8.225</td>\n",
       "      <td>102</td>\n",
       "    </tr>\n",
       "    <tr>\n",
       "      <th>4</th>\n",
       "      <td>11</td>\n",
       "      <td>2010</td>\n",
       "      <td>6.572404</td>\n",
       "      <td>8.450</td>\n",
       "      <td>101</td>\n",
       "    </tr>\n",
       "    <tr>\n",
       "      <th>5</th>\n",
       "      <td>11</td>\n",
       "      <td>2011</td>\n",
       "      <td>5.035345</td>\n",
       "      <td>8.325</td>\n",
       "      <td>101</td>\n",
       "    </tr>\n",
       "    <tr>\n",
       "      <th>6</th>\n",
       "      <td>11</td>\n",
       "      <td>2012</td>\n",
       "      <td>3.554023</td>\n",
       "      <td>8.300</td>\n",
       "      <td>101</td>\n",
       "    </tr>\n",
       "    <tr>\n",
       "      <th>7</th>\n",
       "      <td>11</td>\n",
       "      <td>2013</td>\n",
       "      <td>2.106611</td>\n",
       "      <td>8.650</td>\n",
       "      <td>101</td>\n",
       "    </tr>\n",
       "    <tr>\n",
       "      <th>8</th>\n",
       "      <td>11</td>\n",
       "      <td>2014</td>\n",
       "      <td>3.307936</td>\n",
       "      <td>10.325</td>\n",
       "      <td>101</td>\n",
       "    </tr>\n",
       "    <tr>\n",
       "      <th>9</th>\n",
       "      <td>11</td>\n",
       "      <td>2015</td>\n",
       "      <td>5.153575</td>\n",
       "      <td>9.275</td>\n",
       "      <td>100</td>\n",
       "    </tr>\n",
       "  </tbody>\n",
       "</table>\n",
       "</div>"
      ],
      "text/plain": [
       "   id  year       gdp  unemployment  sexratio\n",
       "0  11  2006  4.685579         8.800       102\n",
       "1  11  2007  7.781644         7.475       102\n",
       "2  11  2008  4.963881         7.675       102\n",
       "3  11  2009  3.602599         8.225       102\n",
       "4  11  2010  6.572404         8.450       101\n",
       "5  11  2011  5.035345         8.325       101\n",
       "6  11  2012  3.554023         8.300       101\n",
       "7  11  2013  2.106611         8.650       101\n",
       "8  11  2014  3.307936        10.325       101\n",
       "9  11  2015  5.153575         9.275       100"
      ]
     },
     "execution_count": 6,
     "metadata": {},
     "output_type": "execute_result"
    }
   ],
   "source": [
    "# tsv 파일 - read_csv로 읽되, sep의 기본 설정이 ','이므로 '\\t'으로 바꾸어줘서 \\t 단위로 필드를 구분하여 읽어줌\n",
    "\n",
    "pd.read_csv('./data/province data.tsv',sep='\\t').head(10)"
   ]
  },
  {
   "cell_type": "markdown",
   "id": "492ed822",
   "metadata": {},
   "source": [
    "### excel 파일"
   ]
  },
  {
   "cell_type": "code",
   "execution_count": 7,
   "id": "a30e918d",
   "metadata": {
    "ExecuteTime": {
     "end_time": "2023-09-14T07:34:22.565108Z",
     "start_time": "2023-09-14T07:34:18.606301Z"
    }
   },
   "outputs": [
    {
     "data": {
      "text/html": [
       "<div>\n",
       "<style scoped>\n",
       "    .dataframe tbody tr th:only-of-type {\n",
       "        vertical-align: middle;\n",
       "    }\n",
       "\n",
       "    .dataframe tbody tr th {\n",
       "        vertical-align: top;\n",
       "    }\n",
       "\n",
       "    .dataframe thead th {\n",
       "        text-align: right;\n",
       "    }\n",
       "</style>\n",
       "<table border=\"1\" class=\"dataframe\">\n",
       "  <thead>\n",
       "    <tr style=\"text-align: right;\">\n",
       "      <th></th>\n",
       "      <th>사용월</th>\n",
       "      <th>호선명</th>\n",
       "      <th>지하철역</th>\n",
       "      <th>04시-05시 승차인원</th>\n",
       "      <th>04시-05시 하차인원</th>\n",
       "      <th>05시-06시 승차인원</th>\n",
       "      <th>05시-06시 하차인원</th>\n",
       "      <th>06시-07시 승차인원</th>\n",
       "      <th>06시-07시 하차인원</th>\n",
       "      <th>07시-08시 승차인원</th>\n",
       "      <th>...</th>\n",
       "      <th>23시-24시 하차인원</th>\n",
       "      <th>00시-01시 승차인원</th>\n",
       "      <th>00시-01시 하차인원</th>\n",
       "      <th>01시-02시 승차인원</th>\n",
       "      <th>01시-02시 하차인원</th>\n",
       "      <th>02시-03시 승차인원</th>\n",
       "      <th>02시-03시 하차인원</th>\n",
       "      <th>03시-04시 승차인원</th>\n",
       "      <th>03시-04시 하차인원</th>\n",
       "      <th>작업일자</th>\n",
       "    </tr>\n",
       "  </thead>\n",
       "  <tbody>\n",
       "    <tr>\n",
       "      <th>0</th>\n",
       "      <td>202002</td>\n",
       "      <td>1호선</td>\n",
       "      <td>동대문</td>\n",
       "      <td>798</td>\n",
       "      <td>8</td>\n",
       "      <td>13638</td>\n",
       "      <td>1759</td>\n",
       "      <td>8461</td>\n",
       "      <td>5858</td>\n",
       "      <td>12050</td>\n",
       "      <td>...</td>\n",
       "      <td>9774</td>\n",
       "      <td>781</td>\n",
       "      <td>3497</td>\n",
       "      <td>0</td>\n",
       "      <td>27</td>\n",
       "      <td>0</td>\n",
       "      <td>0</td>\n",
       "      <td>0</td>\n",
       "      <td>0</td>\n",
       "      <td>20200303</td>\n",
       "    </tr>\n",
       "    <tr>\n",
       "      <th>1</th>\n",
       "      <td>202002</td>\n",
       "      <td>1호선</td>\n",
       "      <td>종로3가</td>\n",
       "      <td>116</td>\n",
       "      <td>22</td>\n",
       "      <td>3846</td>\n",
       "      <td>2299</td>\n",
       "      <td>3476</td>\n",
       "      <td>11699</td>\n",
       "      <td>4511</td>\n",
       "      <td>...</td>\n",
       "      <td>3806</td>\n",
       "      <td>1658</td>\n",
       "      <td>1698</td>\n",
       "      <td>0</td>\n",
       "      <td>10</td>\n",
       "      <td>0</td>\n",
       "      <td>0</td>\n",
       "      <td>0</td>\n",
       "      <td>0</td>\n",
       "      <td>20200303</td>\n",
       "    </tr>\n",
       "    <tr>\n",
       "      <th>2</th>\n",
       "      <td>202002</td>\n",
       "      <td>1호선</td>\n",
       "      <td>종각</td>\n",
       "      <td>79</td>\n",
       "      <td>3</td>\n",
       "      <td>3146</td>\n",
       "      <td>4391</td>\n",
       "      <td>3467</td>\n",
       "      <td>24993</td>\n",
       "      <td>5274</td>\n",
       "      <td>...</td>\n",
       "      <td>3360</td>\n",
       "      <td>1828</td>\n",
       "      <td>943</td>\n",
       "      <td>3</td>\n",
       "      <td>5</td>\n",
       "      <td>0</td>\n",
       "      <td>1</td>\n",
       "      <td>0</td>\n",
       "      <td>0</td>\n",
       "      <td>20200303</td>\n",
       "    </tr>\n",
       "    <tr>\n",
       "      <th>3</th>\n",
       "      <td>202002</td>\n",
       "      <td>1호선</td>\n",
       "      <td>시청</td>\n",
       "      <td>42</td>\n",
       "      <td>0</td>\n",
       "      <td>1952</td>\n",
       "      <td>3560</td>\n",
       "      <td>3300</td>\n",
       "      <td>16533</td>\n",
       "      <td>6242</td>\n",
       "      <td>...</td>\n",
       "      <td>2749</td>\n",
       "      <td>371</td>\n",
       "      <td>692</td>\n",
       "      <td>1</td>\n",
       "      <td>11</td>\n",
       "      <td>0</td>\n",
       "      <td>0</td>\n",
       "      <td>0</td>\n",
       "      <td>0</td>\n",
       "      <td>20200303</td>\n",
       "    </tr>\n",
       "    <tr>\n",
       "      <th>4</th>\n",
       "      <td>202002</td>\n",
       "      <td>1호선</td>\n",
       "      <td>서울역</td>\n",
       "      <td>753</td>\n",
       "      <td>16</td>\n",
       "      <td>8656</td>\n",
       "      <td>5881</td>\n",
       "      <td>11027</td>\n",
       "      <td>38332</td>\n",
       "      <td>32573</td>\n",
       "      <td>...</td>\n",
       "      <td>12290</td>\n",
       "      <td>1797</td>\n",
       "      <td>3647</td>\n",
       "      <td>2</td>\n",
       "      <td>126</td>\n",
       "      <td>2</td>\n",
       "      <td>2</td>\n",
       "      <td>0</td>\n",
       "      <td>0</td>\n",
       "      <td>20200303</td>\n",
       "    </tr>\n",
       "  </tbody>\n",
       "</table>\n",
       "<p>5 rows × 52 columns</p>\n",
       "</div>"
      ],
      "text/plain": [
       "      사용월  호선명  지하철역  04시-05시 승차인원  04시-05시 하차인원  05시-06시 승차인원  05시-06시 하차인원  \\\n",
       "0  202002  1호선   동대문           798             8         13638          1759   \n",
       "1  202002  1호선  종로3가           116            22          3846          2299   \n",
       "2  202002  1호선    종각            79             3          3146          4391   \n",
       "3  202002  1호선    시청            42             0          1952          3560   \n",
       "4  202002  1호선   서울역           753            16          8656          5881   \n",
       "\n",
       "   06시-07시 승차인원  06시-07시 하차인원  07시-08시 승차인원  ...  23시-24시 하차인원  00시-01시 승차인원  \\\n",
       "0          8461          5858         12050  ...          9774           781   \n",
       "1          3476         11699          4511  ...          3806          1658   \n",
       "2          3467         24993          5274  ...          3360          1828   \n",
       "3          3300         16533          6242  ...          2749           371   \n",
       "4         11027         38332         32573  ...         12290          1797   \n",
       "\n",
       "   00시-01시 하차인원  01시-02시 승차인원  01시-02시 하차인원  02시-03시 승차인원  02시-03시 하차인원  \\\n",
       "0          3497             0            27             0             0   \n",
       "1          1698             0            10             0             0   \n",
       "2           943             3             5             0             1   \n",
       "3           692             1            11             0             0   \n",
       "4          3647             2           126             2             2   \n",
       "\n",
       "   03시-04시 승차인원  03시-04시 하차인원      작업일자  \n",
       "0             0             0  20200303  \n",
       "1             0             0  20200303  \n",
       "2             0             0  20200303  \n",
       "3             0             0  20200303  \n",
       "4             0             0  20200303  \n",
       "\n",
       "[5 rows x 52 columns]"
      ]
     },
     "execution_count": 7,
     "metadata": {},
     "output_type": "execute_result"
    }
   ],
   "source": [
    "# excel 파일 - read_excel 함수로 읽음(read_csv 시 오류)\n",
    "# sheet_name 설정으로 시트를 설정해줄 수 있음\n",
    "\n",
    "pd.read_excel('./data/서울시 지하철 호선별 역별 시간대별 승하차 인원 정보.xlsx',sheet_name='20년 2월').head()\n",
    "\n",
    "# 숫자로 가능 0은 첫번째 sheet, 1은 두번째 sheet\n",
    "# pd.read_excel('data/서울시 지하철 호선별 역별 시간대별 승하차 인원 정보.xlsx',sheet_name=1)"
   ]
  },
  {
   "cell_type": "code",
   "execution_count": 8,
   "id": "ccc29e88",
   "metadata": {
    "ExecuteTime": {
     "end_time": "2023-09-14T07:34:28.405288Z",
     "start_time": "2023-09-14T07:34:27.835776Z"
    },
    "scrolled": true
   },
   "outputs": [
    {
     "data": {
      "text/html": [
       "<div>\n",
       "<style scoped>\n",
       "    .dataframe tbody tr th:only-of-type {\n",
       "        vertical-align: middle;\n",
       "    }\n",
       "\n",
       "    .dataframe tbody tr th {\n",
       "        vertical-align: top;\n",
       "    }\n",
       "\n",
       "    .dataframe thead th {\n",
       "        text-align: right;\n",
       "    }\n",
       "</style>\n",
       "<table border=\"1\" class=\"dataframe\">\n",
       "  <thead>\n",
       "    <tr style=\"text-align: right;\">\n",
       "      <th></th>\n",
       "      <th>사용월</th>\n",
       "      <th>호선명</th>\n",
       "      <th>지하철역</th>\n",
       "      <th>04시-05시 승차인원</th>\n",
       "      <th>04시-05시 하차인원</th>\n",
       "      <th>05시-06시 승차인원</th>\n",
       "      <th>05시-06시 하차인원</th>\n",
       "      <th>06시-07시 승차인원</th>\n",
       "      <th>06시-07시 하차인원</th>\n",
       "      <th>07시-08시 승차인원</th>\n",
       "      <th>...</th>\n",
       "      <th>23시-24시 하차인원</th>\n",
       "      <th>00시-01시 승차인원</th>\n",
       "      <th>00시-01시 하차인원</th>\n",
       "      <th>01시-02시 승차인원</th>\n",
       "      <th>01시-02시 하차인원</th>\n",
       "      <th>02시-03시 승차인원</th>\n",
       "      <th>02시-03시 하차인원</th>\n",
       "      <th>03시-04시 승차인원</th>\n",
       "      <th>03시-04시 하차인원</th>\n",
       "      <th>작업일자</th>\n",
       "    </tr>\n",
       "  </thead>\n",
       "  <tbody>\n",
       "    <tr>\n",
       "      <th>0</th>\n",
       "      <td>202001</td>\n",
       "      <td>8호선</td>\n",
       "      <td>산성</td>\n",
       "      <td>22</td>\n",
       "      <td>0</td>\n",
       "      <td>4469</td>\n",
       "      <td>865</td>\n",
       "      <td>7308</td>\n",
       "      <td>5246</td>\n",
       "      <td>17343</td>\n",
       "      <td>...</td>\n",
       "      <td>5877</td>\n",
       "      <td>162</td>\n",
       "      <td>1885</td>\n",
       "      <td>1</td>\n",
       "      <td>8</td>\n",
       "      <td>0</td>\n",
       "      <td>0</td>\n",
       "      <td>0</td>\n",
       "      <td>0</td>\n",
       "      <td>20200203</td>\n",
       "    </tr>\n",
       "    <tr>\n",
       "      <th>1</th>\n",
       "      <td>202001</td>\n",
       "      <td>중앙선</td>\n",
       "      <td>지평</td>\n",
       "      <td>0</td>\n",
       "      <td>0</td>\n",
       "      <td>0</td>\n",
       "      <td>0</td>\n",
       "      <td>0</td>\n",
       "      <td>0</td>\n",
       "      <td>304</td>\n",
       "      <td>...</td>\n",
       "      <td>0</td>\n",
       "      <td>0</td>\n",
       "      <td>0</td>\n",
       "      <td>0</td>\n",
       "      <td>0</td>\n",
       "      <td>0</td>\n",
       "      <td>0</td>\n",
       "      <td>0</td>\n",
       "      <td>0</td>\n",
       "      <td>20200203</td>\n",
       "    </tr>\n",
       "    <tr>\n",
       "      <th>2</th>\n",
       "      <td>202001</td>\n",
       "      <td>중앙선</td>\n",
       "      <td>양평</td>\n",
       "      <td>33</td>\n",
       "      <td>5</td>\n",
       "      <td>1255</td>\n",
       "      <td>73</td>\n",
       "      <td>2190</td>\n",
       "      <td>1173</td>\n",
       "      <td>7599</td>\n",
       "      <td>...</td>\n",
       "      <td>4138</td>\n",
       "      <td>165</td>\n",
       "      <td>1410</td>\n",
       "      <td>0</td>\n",
       "      <td>6</td>\n",
       "      <td>0</td>\n",
       "      <td>0</td>\n",
       "      <td>0</td>\n",
       "      <td>0</td>\n",
       "      <td>20200203</td>\n",
       "    </tr>\n",
       "    <tr>\n",
       "      <th>3</th>\n",
       "      <td>202001</td>\n",
       "      <td>중앙선</td>\n",
       "      <td>용문</td>\n",
       "      <td>206</td>\n",
       "      <td>1</td>\n",
       "      <td>786</td>\n",
       "      <td>10</td>\n",
       "      <td>2083</td>\n",
       "      <td>347</td>\n",
       "      <td>3364</td>\n",
       "      <td>...</td>\n",
       "      <td>1818</td>\n",
       "      <td>1</td>\n",
       "      <td>948</td>\n",
       "      <td>0</td>\n",
       "      <td>6</td>\n",
       "      <td>0</td>\n",
       "      <td>0</td>\n",
       "      <td>0</td>\n",
       "      <td>0</td>\n",
       "      <td>20200203</td>\n",
       "    </tr>\n",
       "    <tr>\n",
       "      <th>4</th>\n",
       "      <td>202001</td>\n",
       "      <td>중앙선</td>\n",
       "      <td>원덕</td>\n",
       "      <td>28</td>\n",
       "      <td>0</td>\n",
       "      <td>301</td>\n",
       "      <td>3</td>\n",
       "      <td>448</td>\n",
       "      <td>55</td>\n",
       "      <td>992</td>\n",
       "      <td>...</td>\n",
       "      <td>355</td>\n",
       "      <td>3</td>\n",
       "      <td>205</td>\n",
       "      <td>0</td>\n",
       "      <td>0</td>\n",
       "      <td>0</td>\n",
       "      <td>0</td>\n",
       "      <td>0</td>\n",
       "      <td>0</td>\n",
       "      <td>20200203</td>\n",
       "    </tr>\n",
       "  </tbody>\n",
       "</table>\n",
       "<p>5 rows × 52 columns</p>\n",
       "</div>"
      ],
      "text/plain": [
       "      사용월  호선명 지하철역  04시-05시 승차인원  04시-05시 하차인원  05시-06시 승차인원  05시-06시 하차인원  \\\n",
       "0  202001  8호선   산성            22             0          4469           865   \n",
       "1  202001  중앙선   지평             0             0             0             0   \n",
       "2  202001  중앙선   양평            33             5          1255            73   \n",
       "3  202001  중앙선   용문           206             1           786            10   \n",
       "4  202001  중앙선   원덕            28             0           301             3   \n",
       "\n",
       "   06시-07시 승차인원  06시-07시 하차인원  07시-08시 승차인원  ...  23시-24시 하차인원  00시-01시 승차인원  \\\n",
       "0          7308          5246         17343  ...          5877           162   \n",
       "1             0             0           304  ...             0             0   \n",
       "2          2190          1173          7599  ...          4138           165   \n",
       "3          2083           347          3364  ...          1818             1   \n",
       "4           448            55           992  ...           355             3   \n",
       "\n",
       "   00시-01시 하차인원  01시-02시 승차인원  01시-02시 하차인원  02시-03시 승차인원  02시-03시 하차인원  \\\n",
       "0          1885             1             8             0             0   \n",
       "1             0             0             0             0             0   \n",
       "2          1410             0             6             0             0   \n",
       "3           948             0             6             0             0   \n",
       "4           205             0             0             0             0   \n",
       "\n",
       "   03시-04시 승차인원  03시-04시 하차인원      작업일자  \n",
       "0             0             0  20200203  \n",
       "1             0             0  20200203  \n",
       "2             0             0  20200203  \n",
       "3             0             0  20200203  \n",
       "4             0             0  20200203  \n",
       "\n",
       "[5 rows x 52 columns]"
      ]
     },
     "execution_count": 8,
     "metadata": {},
     "output_type": "execute_result"
    }
   ],
   "source": [
    "# default는 첫번째 sheet\n",
    "\n",
    "pd.read_excel('./data/서울시 지하철 호선별 역별 시간대별 승하차 인원 정보.xlsx').head()"
   ]
  },
  {
   "cell_type": "markdown",
   "id": "0bdebf07",
   "metadata": {},
   "source": [
    "## 텍스트 데이터 (.txt)\n",
    "- 표형식의 자료를 txt 형태로 저장한 경우 → read_csv로 로드.\n",
    "- 일반 텍스트 문자열을 열고자 하는 경우 → with 문을 이용하여 파일 읽기/쓰기 (File I/O)\n",
    "- 인코딩 관련\n",
    "    : 텍스트파일을 읽을 때 Unicode Error가 발생하는 경우\n",
    "    - 기본 인코딩 형식은 'cp949'이며, 오류가 생길경우 'utf-8'시도\n",
    "    - utf-8도 안될 경우 이모지 등으로 인한 오류 (https://stackoverflow.com/questions/33404752/removing-emojis-from-a-string-in-python)"
   ]
  },
  {
   "cell_type": "markdown",
   "id": "0d27f968",
   "metadata": {},
   "source": [
    "### 표를 담은 텍스트 파일의 경우\n",
    "- pandas의 read_csv로 로드\n",
    "- txt파일의 필드 구분이 어떻게 되어있는지 확인하여 sep 설정"
   ]
  },
  {
   "cell_type": "code",
   "execution_count": 9,
   "id": "cb3c0d19",
   "metadata": {
    "ExecuteTime": {
     "end_time": "2023-09-14T07:34:34.801278Z",
     "start_time": "2023-09-14T07:34:34.712387Z"
    }
   },
   "outputs": [
    {
     "data": {
      "text/html": [
       "<div>\n",
       "<style scoped>\n",
       "    .dataframe tbody tr th:only-of-type {\n",
       "        vertical-align: middle;\n",
       "    }\n",
       "\n",
       "    .dataframe tbody tr th {\n",
       "        vertical-align: top;\n",
       "    }\n",
       "\n",
       "    .dataframe thead th {\n",
       "        text-align: right;\n",
       "    }\n",
       "</style>\n",
       "<table border=\"1\" class=\"dataframe\">\n",
       "  <thead>\n",
       "    <tr style=\"text-align: right;\">\n",
       "      <th></th>\n",
       "      <th>patient_id</th>\n",
       "      <th>sex</th>\n",
       "      <th>age</th>\n",
       "      <th>country</th>\n",
       "      <th>province</th>\n",
       "      <th>city</th>\n",
       "      <th>infection_case</th>\n",
       "      <th>infected_by</th>\n",
       "      <th>contact_number</th>\n",
       "      <th>symptom_onset_date</th>\n",
       "      <th>confirmed_date</th>\n",
       "      <th>released_date</th>\n",
       "      <th>deceased_date</th>\n",
       "      <th>state</th>\n",
       "    </tr>\n",
       "  </thead>\n",
       "  <tbody>\n",
       "    <tr>\n",
       "      <th>0</th>\n",
       "      <td>1000000001</td>\n",
       "      <td>male</td>\n",
       "      <td>50s</td>\n",
       "      <td>Korea</td>\n",
       "      <td>Seoul</td>\n",
       "      <td>Gangseo-gu</td>\n",
       "      <td>overseas inflow</td>\n",
       "      <td>NaN</td>\n",
       "      <td>75</td>\n",
       "      <td>2020-01-22</td>\n",
       "      <td>2020-01-23</td>\n",
       "      <td>2020-02-05</td>\n",
       "      <td>NaN</td>\n",
       "      <td>released</td>\n",
       "    </tr>\n",
       "    <tr>\n",
       "      <th>1</th>\n",
       "      <td>1000000002</td>\n",
       "      <td>male</td>\n",
       "      <td>30s</td>\n",
       "      <td>Korea</td>\n",
       "      <td>Seoul</td>\n",
       "      <td>Jungnang-gu</td>\n",
       "      <td>overseas inflow</td>\n",
       "      <td>NaN</td>\n",
       "      <td>31</td>\n",
       "      <td>NaN</td>\n",
       "      <td>2020-01-30</td>\n",
       "      <td>2020-03-02</td>\n",
       "      <td>NaN</td>\n",
       "      <td>released</td>\n",
       "    </tr>\n",
       "    <tr>\n",
       "      <th>2</th>\n",
       "      <td>1000000003</td>\n",
       "      <td>male</td>\n",
       "      <td>50s</td>\n",
       "      <td>Korea</td>\n",
       "      <td>Seoul</td>\n",
       "      <td>Jongno-gu</td>\n",
       "      <td>contact with patient</td>\n",
       "      <td>2002000001</td>\n",
       "      <td>17</td>\n",
       "      <td>NaN</td>\n",
       "      <td>2020-01-30</td>\n",
       "      <td>2020-02-19</td>\n",
       "      <td>NaN</td>\n",
       "      <td>released</td>\n",
       "    </tr>\n",
       "    <tr>\n",
       "      <th>3</th>\n",
       "      <td>1000000004</td>\n",
       "      <td>male</td>\n",
       "      <td>20s</td>\n",
       "      <td>Korea</td>\n",
       "      <td>Seoul</td>\n",
       "      <td>Mapo-gu</td>\n",
       "      <td>overseas inflow</td>\n",
       "      <td>NaN</td>\n",
       "      <td>9</td>\n",
       "      <td>2020-01-26</td>\n",
       "      <td>2020-01-30</td>\n",
       "      <td>2020-02-15</td>\n",
       "      <td>NaN</td>\n",
       "      <td>released</td>\n",
       "    </tr>\n",
       "    <tr>\n",
       "      <th>4</th>\n",
       "      <td>1000000005</td>\n",
       "      <td>female</td>\n",
       "      <td>20s</td>\n",
       "      <td>Korea</td>\n",
       "      <td>Seoul</td>\n",
       "      <td>Seongbuk-gu</td>\n",
       "      <td>contact with patient</td>\n",
       "      <td>1000000002</td>\n",
       "      <td>2</td>\n",
       "      <td>NaN</td>\n",
       "      <td>2020-01-31</td>\n",
       "      <td>2020-02-24</td>\n",
       "      <td>NaN</td>\n",
       "      <td>released</td>\n",
       "    </tr>\n",
       "  </tbody>\n",
       "</table>\n",
       "</div>"
      ],
      "text/plain": [
       "   patient_id     sex  age country province         city  \\\n",
       "0  1000000001    male  50s   Korea    Seoul   Gangseo-gu   \n",
       "1  1000000002    male  30s   Korea    Seoul  Jungnang-gu   \n",
       "2  1000000003    male  50s   Korea    Seoul    Jongno-gu   \n",
       "3  1000000004    male  20s   Korea    Seoul      Mapo-gu   \n",
       "4  1000000005  female  20s   Korea    Seoul  Seongbuk-gu   \n",
       "\n",
       "         infection_case infected_by contact_number symptom_onset_date  \\\n",
       "0       overseas inflow         NaN             75         2020-01-22   \n",
       "1       overseas inflow         NaN             31                NaN   \n",
       "2  contact with patient  2002000001             17                NaN   \n",
       "3       overseas inflow         NaN              9         2020-01-26   \n",
       "4  contact with patient  1000000002              2                NaN   \n",
       "\n",
       "  confirmed_date released_date deceased_date     state  \n",
       "0     2020-01-23    2020-02-05           NaN  released  \n",
       "1     2020-01-30    2020-03-02           NaN  released  \n",
       "2     2020-01-30    2020-02-19           NaN  released  \n",
       "3     2020-01-30    2020-02-15           NaN  released  \n",
       "4     2020-01-31    2020-02-24           NaN  released  "
      ]
     },
     "execution_count": 9,
     "metadata": {},
     "output_type": "execute_result"
    }
   ],
   "source": [
    "# string.txt를 열어봐 필드 구분이 무엇으로 이루어졌는지 확인 한 후, 구분자를 설정해 줌.\n",
    "\n",
    "pd.read_csv('./data/PatientInfo.txt',sep=',').head()\n",
    "#텍스트파일에서 쉼표로 구분 = sep-','"
   ]
  },
  {
   "cell_type": "code",
   "execution_count": 10,
   "id": "944dd024",
   "metadata": {
    "ExecuteTime": {
     "end_time": "2023-08-21T15:08:16.657252Z",
     "start_time": "2023-08-21T15:08:16.599368Z"
    },
    "scrolled": true
   },
   "outputs": [
    {
     "data": {
      "text/html": [
       "<div>\n",
       "<style scoped>\n",
       "    .dataframe tbody tr th:only-of-type {\n",
       "        vertical-align: middle;\n",
       "    }\n",
       "\n",
       "    .dataframe tbody tr th {\n",
       "        vertical-align: top;\n",
       "    }\n",
       "\n",
       "    .dataframe thead th {\n",
       "        text-align: right;\n",
       "    }\n",
       "</style>\n",
       "<table border=\"1\" class=\"dataframe\">\n",
       "  <thead>\n",
       "    <tr style=\"text-align: right;\">\n",
       "      <th></th>\n",
       "      <th>patient_id</th>\n",
       "      <th>sex</th>\n",
       "      <th>age</th>\n",
       "      <th>country</th>\n",
       "      <th>province</th>\n",
       "      <th>city</th>\n",
       "      <th>infection_case</th>\n",
       "      <th>infected_by</th>\n",
       "      <th>contact_number</th>\n",
       "      <th>symptom_onset_date</th>\n",
       "      <th>confirmed_date</th>\n",
       "      <th>released_date</th>\n",
       "      <th>deceased_date</th>\n",
       "      <th>state</th>\n",
       "    </tr>\n",
       "  </thead>\n",
       "  <tbody>\n",
       "    <tr>\n",
       "      <th>0</th>\n",
       "      <td>1000000001</td>\n",
       "      <td>male</td>\n",
       "      <td>50s</td>\n",
       "      <td>Korea</td>\n",
       "      <td>Seoul</td>\n",
       "      <td>Gangseo-gu</td>\n",
       "      <td>overseas inflow</td>\n",
       "      <td>NaN</td>\n",
       "      <td>75</td>\n",
       "      <td>2020-01-22</td>\n",
       "      <td>2020-01-23</td>\n",
       "      <td>2020-02-05</td>\n",
       "      <td>NaN</td>\n",
       "      <td>released</td>\n",
       "    </tr>\n",
       "    <tr>\n",
       "      <th>1</th>\n",
       "      <td>1000000002</td>\n",
       "      <td>male</td>\n",
       "      <td>30s</td>\n",
       "      <td>Korea</td>\n",
       "      <td>Seoul</td>\n",
       "      <td>Jungnang-gu</td>\n",
       "      <td>overseas inflow</td>\n",
       "      <td>NaN</td>\n",
       "      <td>31</td>\n",
       "      <td>NaN</td>\n",
       "      <td>2020-01-30</td>\n",
       "      <td>2020-03-02</td>\n",
       "      <td>NaN</td>\n",
       "      <td>released</td>\n",
       "    </tr>\n",
       "    <tr>\n",
       "      <th>2</th>\n",
       "      <td>1000000003</td>\n",
       "      <td>male</td>\n",
       "      <td>50s</td>\n",
       "      <td>Korea</td>\n",
       "      <td>Seoul</td>\n",
       "      <td>Jongno-gu</td>\n",
       "      <td>contact with patient</td>\n",
       "      <td>2002000001</td>\n",
       "      <td>17</td>\n",
       "      <td>NaN</td>\n",
       "      <td>2020-01-30</td>\n",
       "      <td>2020-02-19</td>\n",
       "      <td>NaN</td>\n",
       "      <td>released</td>\n",
       "    </tr>\n",
       "    <tr>\n",
       "      <th>3</th>\n",
       "      <td>1000000004</td>\n",
       "      <td>male</td>\n",
       "      <td>20s</td>\n",
       "      <td>Korea</td>\n",
       "      <td>Seoul</td>\n",
       "      <td>Mapo-gu</td>\n",
       "      <td>overseas inflow</td>\n",
       "      <td>NaN</td>\n",
       "      <td>9</td>\n",
       "      <td>2020-01-26</td>\n",
       "      <td>2020-01-30</td>\n",
       "      <td>2020-02-15</td>\n",
       "      <td>NaN</td>\n",
       "      <td>released</td>\n",
       "    </tr>\n",
       "    <tr>\n",
       "      <th>4</th>\n",
       "      <td>1000000005</td>\n",
       "      <td>female</td>\n",
       "      <td>20s</td>\n",
       "      <td>Korea</td>\n",
       "      <td>Seoul</td>\n",
       "      <td>Seongbuk-gu</td>\n",
       "      <td>contact with patient</td>\n",
       "      <td>1000000002</td>\n",
       "      <td>2</td>\n",
       "      <td>NaN</td>\n",
       "      <td>2020-01-31</td>\n",
       "      <td>2020-02-24</td>\n",
       "      <td>NaN</td>\n",
       "      <td>released</td>\n",
       "    </tr>\n",
       "  </tbody>\n",
       "</table>\n",
       "</div>"
      ],
      "text/plain": [
       "   patient_id     sex  age country province         city  \\\n",
       "0  1000000001    male  50s   Korea    Seoul   Gangseo-gu   \n",
       "1  1000000002    male  30s   Korea    Seoul  Jungnang-gu   \n",
       "2  1000000003    male  50s   Korea    Seoul    Jongno-gu   \n",
       "3  1000000004    male  20s   Korea    Seoul      Mapo-gu   \n",
       "4  1000000005  female  20s   Korea    Seoul  Seongbuk-gu   \n",
       "\n",
       "         infection_case infected_by contact_number symptom_onset_date  \\\n",
       "0       overseas inflow         NaN             75         2020-01-22   \n",
       "1       overseas inflow         NaN             31                NaN   \n",
       "2  contact with patient  2002000001             17                NaN   \n",
       "3       overseas inflow         NaN              9         2020-01-26   \n",
       "4  contact with patient  1000000002              2                NaN   \n",
       "\n",
       "  confirmed_date released_date deceased_date     state  \n",
       "0     2020-01-23    2020-02-05           NaN  released  \n",
       "1     2020-01-30    2020-03-02           NaN  released  \n",
       "2     2020-01-30    2020-02-19           NaN  released  \n",
       "3     2020-01-30    2020-02-15           NaN  released  \n",
       "4     2020-01-31    2020-02-24           NaN  released  "
      ]
     },
     "execution_count": 10,
     "metadata": {},
     "output_type": "execute_result"
    }
   ],
   "source": [
    "# default값은 ,임\n",
    "\n",
    "pd.read_csv('./data/PatientInfo.txt').head()"
   ]
  },
  {
   "cell_type": "markdown",
   "id": "d1d53830",
   "metadata": {},
   "source": [
    "#### 실습 1. patientInfo 데이터의 patient_id, city, age 열들만 이용하는 데이터프레임 읽어오기"
   ]
  },
  {
   "cell_type": "code",
   "execution_count": 15,
   "id": "7ad7bcdb",
   "metadata": {
    "ExecuteTime": {
     "end_time": "2023-09-14T07:36:44.120619Z",
     "start_time": "2023-09-14T07:36:44.066732Z"
    }
   },
   "outputs": [
    {
     "data": {
      "text/html": [
       "<div>\n",
       "<style scoped>\n",
       "    .dataframe tbody tr th:only-of-type {\n",
       "        vertical-align: middle;\n",
       "    }\n",
       "\n",
       "    .dataframe tbody tr th {\n",
       "        vertical-align: top;\n",
       "    }\n",
       "\n",
       "    .dataframe thead th {\n",
       "        text-align: right;\n",
       "    }\n",
       "</style>\n",
       "<table border=\"1\" class=\"dataframe\">\n",
       "  <thead>\n",
       "    <tr style=\"text-align: right;\">\n",
       "      <th></th>\n",
       "      <th>patient_id</th>\n",
       "      <th>age</th>\n",
       "      <th>city</th>\n",
       "    </tr>\n",
       "  </thead>\n",
       "  <tbody>\n",
       "    <tr>\n",
       "      <th>0</th>\n",
       "      <td>1000000001</td>\n",
       "      <td>50s</td>\n",
       "      <td>Gangseo-gu</td>\n",
       "    </tr>\n",
       "    <tr>\n",
       "      <th>1</th>\n",
       "      <td>1000000002</td>\n",
       "      <td>30s</td>\n",
       "      <td>Jungnang-gu</td>\n",
       "    </tr>\n",
       "    <tr>\n",
       "      <th>2</th>\n",
       "      <td>1000000003</td>\n",
       "      <td>50s</td>\n",
       "      <td>Jongno-gu</td>\n",
       "    </tr>\n",
       "    <tr>\n",
       "      <th>3</th>\n",
       "      <td>1000000004</td>\n",
       "      <td>20s</td>\n",
       "      <td>Mapo-gu</td>\n",
       "    </tr>\n",
       "    <tr>\n",
       "      <th>4</th>\n",
       "      <td>1000000005</td>\n",
       "      <td>20s</td>\n",
       "      <td>Seongbuk-gu</td>\n",
       "    </tr>\n",
       "  </tbody>\n",
       "</table>\n",
       "</div>"
      ],
      "text/plain": [
       "   patient_id  age         city\n",
       "0  1000000001  50s   Gangseo-gu\n",
       "1  1000000002  30s  Jungnang-gu\n",
       "2  1000000003  50s    Jongno-gu\n",
       "3  1000000004  20s      Mapo-gu\n",
       "4  1000000005  20s  Seongbuk-gu"
      ]
     },
     "execution_count": 15,
     "metadata": {},
     "output_type": "execute_result"
    }
   ],
   "source": [
    "data_patientInfo = pd.read_csv('./data/PatientInfo.txt', usecols=['patient_id', 'city', 'age'])\n",
    "data_patientInfo.head()"
   ]
  },
  {
   "cell_type": "code",
   "execution_count": 12,
   "id": "16c46ba4",
   "metadata": {
    "ExecuteTime": {
     "end_time": "2023-09-14T07:37:34.936155Z",
     "start_time": "2023-09-14T07:37:34.156497Z"
    },
    "scrolled": true
   },
   "outputs": [
    {
     "data": {
      "text/html": [
       "<div>\n",
       "<style scoped>\n",
       "    .dataframe tbody tr th:only-of-type {\n",
       "        vertical-align: middle;\n",
       "    }\n",
       "\n",
       "    .dataframe tbody tr th {\n",
       "        vertical-align: top;\n",
       "    }\n",
       "\n",
       "    .dataframe thead th {\n",
       "        text-align: right;\n",
       "    }\n",
       "</style>\n",
       "<table border=\"1\" class=\"dataframe\">\n",
       "  <thead>\n",
       "    <tr style=\"text-align: right;\">\n",
       "      <th></th>\n",
       "      <th>title</th>\n",
       "      <th>header</th>\n",
       "      <th>comment_num</th>\n",
       "      <th>writer</th>\n",
       "      <th>like</th>\n",
       "      <th>upload_date</th>\n",
       "      <th>view</th>\n",
       "      <th>link</th>\n",
       "      <th>borad</th>\n",
       "      <th>text</th>\n",
       "      <th>dislike</th>\n",
       "      <th>comment</th>\n",
       "      <th>date_time</th>\n",
       "      <th>hour</th>\n",
       "      <th>word_token</th>\n",
       "    </tr>\n",
       "  </thead>\n",
       "  <tbody>\n",
       "    <tr>\n",
       "      <th>8214</th>\n",
       "      <td>새해맞이 연게 첫글</td>\n",
       "      <td>NaN</td>\n",
       "      <td>5</td>\n",
       "      <td>익명</td>\n",
       "      <td>35</td>\n",
       "      <td>01/01</td>\n",
       "      <td>785</td>\n",
       "      <td>http://www.ssodam.com//content/813081?prev=245...</td>\n",
       "      <td>연애상담소</td>\n",
       "      <td>다들 올해는  인생의 단짝을 만나용</td>\n",
       "      <td>0</td>\n",
       "      <td>[['네에 ㅠㅠ 올해는 정말 행복하고 싶어요.. 님두 좋은 인연 만나서 행복하세요 ...</td>\n",
       "      <td>2020-01-01 00:24:00</td>\n",
       "      <td>0.0</td>\n",
       "      <td>[('새해', 'Noun'), ('맞이', 'Noun'), ('연', 'Noun')...</td>\n",
       "    </tr>\n",
       "    <tr>\n",
       "      <th>8215</th>\n",
       "      <td>올해는 행시합격한다</td>\n",
       "      <td>NaN</td>\n",
       "      <td>5</td>\n",
       "      <td>익명</td>\n",
       "      <td>86</td>\n",
       "      <td>01/01</td>\n",
       "      <td>1180</td>\n",
       "      <td>http://www.ssodam.com//content/813062?prev=245...</td>\n",
       "      <td>익게2</td>\n",
       "      <td>토모관 여러분도\\n\\n\\n            \\n\\n            \\n  ...</td>\n",
       "      <td>0</td>\n",
       "      <td>[['나도 행시 올 해 붙는다!'], ['나도 올해 붙는다!'], ['민특상디 사례...</td>\n",
       "      <td>2020-01-01 00:08:00</td>\n",
       "      <td>0.0</td>\n",
       "      <td>[('올해', 'Noun'), ('는', 'Josa'), ('행시', 'Noun')...</td>\n",
       "    </tr>\n",
       "    <tr>\n",
       "      <th>8216</th>\n",
       "      <td>??? : 야 올해가 몇년이냐?</td>\n",
       "      <td>NaN</td>\n",
       "      <td>9</td>\n",
       "      <td>익명</td>\n",
       "      <td>127</td>\n",
       "      <td>01/01</td>\n",
       "      <td>1982</td>\n",
       "      <td>http://www.ssodam.com//content/813058?prev=245...</td>\n",
       "      <td>익게2</td>\n",
       "      <td>다들 새해복!</td>\n",
       "      <td>0</td>\n",
       "      <td>[['좌우로 정렬해주세여'], ['ㅁㅊ ㅋㅋㅋㅋㅋㅋㅋㅋㅋㅋ 적절한 짤 추'], ['...</td>\n",
       "      <td>2020-01-01 00:06:00</td>\n",
       "      <td>0.0</td>\n",
       "      <td>[('???', 'Punctuation'), (':', 'Punctuation'),...</td>\n",
       "    </tr>\n",
       "    <tr>\n",
       "      <th>8217</th>\n",
       "      <td>2020년 서강의 첫 모습</td>\n",
       "      <td>NaN</td>\n",
       "      <td>5</td>\n",
       "      <td>익명</td>\n",
       "      <td>101</td>\n",
       "      <td>01/01</td>\n",
       "      <td>1931</td>\n",
       "      <td>http://www.ssodam.com//content/813047?prev=245...</td>\n",
       "      <td>익게2</td>\n",
       "      <td>방금 토모관에서 나와서 찍어봤어20대의 절반을 서강과 함께할수 있어서 진심으로 행복...</td>\n",
       "      <td>0</td>\n",
       "      <td>[['나도 방금 나왔는데 ㅎㅎㅎ 다미 본듯'], ['내년에는 좋은 소식만 들리자!!...</td>\n",
       "      <td>2020-01-01 00:04:00</td>\n",
       "      <td>0.0</td>\n",
       "      <td>[('2020년', 'Number'), ('서강', 'Noun'), ('의', 'J...</td>\n",
       "    </tr>\n",
       "    <tr>\n",
       "      <th>8218</th>\n",
       "      <td>2020년 파이팅!!</td>\n",
       "      <td>NaN</td>\n",
       "      <td>15</td>\n",
       "      <td>익명</td>\n",
       "      <td>168</td>\n",
       "      <td>01/01</td>\n",
       "      <td>1335</td>\n",
       "      <td>http://www.ssodam.com//content/813032?prev=245...</td>\n",
       "      <td>익게2</td>\n",
       "      <td>모두들 파이팅!!</td>\n",
       "      <td>0</td>\n",
       "      <td>[['올 첫글 ㅋㅋ'], ['아 너 뭔데 나보다 일찍 썼냐ㅡㅡ추천이나 먹어라'], ...</td>\n",
       "      <td>2020-01-01 00:00:00</td>\n",
       "      <td>0.0</td>\n",
       "      <td>[('2020년', 'Number'), ('파이팅', 'Noun'), ('!!', ...</td>\n",
       "    </tr>\n",
       "  </tbody>\n",
       "</table>\n",
       "</div>"
      ],
      "text/plain": [
       "                  title header  comment_num writer  like upload_date  view  \\\n",
       "8214         새해맞이 연게 첫글    NaN            5     익명    35       01/01   785   \n",
       "8215         올해는 행시합격한다    NaN            5     익명    86       01/01  1180   \n",
       "8216  ??? : 야 올해가 몇년이냐?    NaN            9     익명   127       01/01  1982   \n",
       "8217     2020년 서강의 첫 모습    NaN            5     익명   101       01/01  1931   \n",
       "8218        2020년 파이팅!!    NaN           15     익명   168       01/01  1335   \n",
       "\n",
       "                                                   link  borad  \\\n",
       "8214  http://www.ssodam.com//content/813081?prev=245...  연애상담소   \n",
       "8215  http://www.ssodam.com//content/813062?prev=245...    익게2   \n",
       "8216  http://www.ssodam.com//content/813058?prev=245...    익게2   \n",
       "8217  http://www.ssodam.com//content/813047?prev=245...    익게2   \n",
       "8218  http://www.ssodam.com//content/813032?prev=245...    익게2   \n",
       "\n",
       "                                                   text  dislike  \\\n",
       "8214                                다들 올해는  인생의 단짝을 만나용        0   \n",
       "8215  토모관 여러분도\\n\\n\\n            \\n\\n            \\n  ...        0   \n",
       "8216                                            다들 새해복!        0   \n",
       "8217  방금 토모관에서 나와서 찍어봤어20대의 절반을 서강과 함께할수 있어서 진심으로 행복...        0   \n",
       "8218                                          모두들 파이팅!!        0   \n",
       "\n",
       "                                                comment            date_time  \\\n",
       "8214  [['네에 ㅠㅠ 올해는 정말 행복하고 싶어요.. 님두 좋은 인연 만나서 행복하세요 ...  2020-01-01 00:24:00   \n",
       "8215  [['나도 행시 올 해 붙는다!'], ['나도 올해 붙는다!'], ['민특상디 사례...  2020-01-01 00:08:00   \n",
       "8216  [['좌우로 정렬해주세여'], ['ㅁㅊ ㅋㅋㅋㅋㅋㅋㅋㅋㅋㅋ 적절한 짤 추'], ['...  2020-01-01 00:06:00   \n",
       "8217  [['나도 방금 나왔는데 ㅎㅎㅎ 다미 본듯'], ['내년에는 좋은 소식만 들리자!!...  2020-01-01 00:04:00   \n",
       "8218  [['올 첫글 ㅋㅋ'], ['아 너 뭔데 나보다 일찍 썼냐ㅡㅡ추천이나 먹어라'], ...  2020-01-01 00:00:00   \n",
       "\n",
       "      hour                                         word_token  \n",
       "8214   0.0  [('새해', 'Noun'), ('맞이', 'Noun'), ('연', 'Noun')...  \n",
       "8215   0.0  [('올해', 'Noun'), ('는', 'Josa'), ('행시', 'Noun')...  \n",
       "8216   0.0  [('???', 'Punctuation'), (':', 'Punctuation'),...  \n",
       "8217   0.0  [('2020년', 'Number'), ('서강', 'Noun'), ('의', 'J...  \n",
       "8218   0.0  [('2020년', 'Number'), ('파이팅', 'Noun'), ('!!', ...  "
      ]
     },
     "execution_count": 12,
     "metadata": {},
     "output_type": "execute_result"
    }
   ],
   "source": [
    "# 서담프로젝트때 사용한 데이터\n",
    "# |\\으로하면 다른 모양이 나옴.\n",
    "pd.read_csv('./data/서담.txt',sep='|', index_col = 0).tail()"
   ]
  },
  {
   "cell_type": "markdown",
   "id": "c599fa32",
   "metadata": {},
   "source": [
    "#### 실습2. 서담 데이터의 title, like, view 열들만 이용하는 데이터프레임 읽어오기"
   ]
  },
  {
   "cell_type": "code",
   "execution_count": 16,
   "id": "e07f3614",
   "metadata": {
    "ExecuteTime": {
     "end_time": "2023-09-14T07:38:28.127945Z",
     "start_time": "2023-09-14T07:38:27.601024Z"
    }
   },
   "outputs": [
    {
     "data": {
      "text/html": [
       "<div>\n",
       "<style scoped>\n",
       "    .dataframe tbody tr th:only-of-type {\n",
       "        vertical-align: middle;\n",
       "    }\n",
       "\n",
       "    .dataframe tbody tr th {\n",
       "        vertical-align: top;\n",
       "    }\n",
       "\n",
       "    .dataframe thead th {\n",
       "        text-align: right;\n",
       "    }\n",
       "</style>\n",
       "<table border=\"1\" class=\"dataframe\">\n",
       "  <thead>\n",
       "    <tr style=\"text-align: right;\">\n",
       "      <th></th>\n",
       "      <th>title</th>\n",
       "      <th>like</th>\n",
       "      <th>view</th>\n",
       "    </tr>\n",
       "  </thead>\n",
       "  <tbody>\n",
       "    <tr>\n",
       "      <th>0</th>\n",
       "      <td>도대체가 학교의 기준이 무엇인지 이해가 안됩니다</td>\n",
       "      <td>32</td>\n",
       "      <td>429</td>\n",
       "    </tr>\n",
       "    <tr>\n",
       "      <th>1</th>\n",
       "      <td>학교 시설물 관련 부서 전화번호 적을테니 내일부터 전화 한통씩하자</td>\n",
       "      <td>38</td>\n",
       "      <td>577</td>\n",
       "    </tr>\n",
       "    <tr>\n",
       "      <th>2</th>\n",
       "      <td>걍 서강사이버대학으로 하자</td>\n",
       "      <td>42</td>\n",
       "      <td>564</td>\n",
       "    </tr>\n",
       "    <tr>\n",
       "      <th>3</th>\n",
       "      <td>학교 너무 빡친다</td>\n",
       "      <td>106</td>\n",
       "      <td>1830</td>\n",
       "    </tr>\n",
       "    <tr>\n",
       "      <th>4</th>\n",
       "      <td>박미선 누님 결혼식날 비 오셨죠?</td>\n",
       "      <td>40</td>\n",
       "      <td>824</td>\n",
       "    </tr>\n",
       "  </tbody>\n",
       "</table>\n",
       "</div>"
      ],
      "text/plain": [
       "                                  title  like  view\n",
       "0            도대체가 학교의 기준이 무엇인지 이해가 안됩니다    32   429\n",
       "1  학교 시설물 관련 부서 전화번호 적을테니 내일부터 전화 한통씩하자    38   577\n",
       "2                        걍 서강사이버대학으로 하자    42   564\n",
       "3                             학교 너무 빡친다   106  1830\n",
       "4                    박미선 누님 결혼식날 비 오셨죠?    40   824"
      ]
     },
     "execution_count": 16,
     "metadata": {},
     "output_type": "execute_result"
    }
   ],
   "source": [
    "# 아래와 같은 결과가 나오면 됩니다!!\n",
    "ssodam = pd.read_csv(\"./data/서담.txt\",sep='|', usecols = ['title', 'like', 'view']).head()\n",
    "ssodam"
   ]
  },
  {
   "attachments": {
    "download.png": {
     "image/png": "[encoded data removed]"
    }
   },
   "cell_type": "markdown",
   "id": "fc1285d3",
   "metadata": {},
   "source": [
    "![download.png](attachment:download.png)"
   ]
  },
  {
   "cell_type": "markdown",
   "id": "811d122c",
   "metadata": {},
   "source": [
    "### 일반 텍스트 문자열인 경우\n",
    "\n",
    "\n",
    "- Python을 활용하여 텍스트분석을 하고자 할 때\n",
    "- with문을 사용하여 읽기/쓰기\n",
    "- 파일 열기모드 \n",
    "    1. w : 파일에 내용을 새로 쓸 때 \n",
    "    2. r : 파일을 읽기만 할 때 \n",
    "    3. a : 파일의 마지막에 새로운 내용을 추가할 때\n",
    "- 읽기 함수\n",
    "    1. read : 파일 내용 전체를 문자열로 돌려줌\n",
    "    2. readline : 파일의 첫번째 줄부터 반복하여 한줄씩 읽음\n",
    "    3. readlines : 파일의 모든 줄을 읽어서 각각의 줄을 원소로 갖는 리스트로 돌려줌\n",
    "- 관련 링크 : https://wikidocs.net/26"
   ]
  },
  {
   "cell_type": "markdown",
   "id": "62dbe162",
   "metadata": {},
   "source": [
    "#### read"
   ]
  },
  {
   "cell_type": "code",
   "execution_count": null,
   "id": "841a1ea1",
   "metadata": {
    "ExecuteTime": {
     "end_time": "2023-09-14T07:40:42.767332Z",
     "start_time": "2023-09-14T07:40:42.742267Z"
    }
   },
   "outputs": [],
   "source": [
    "# with문을 활용하여 txt파일 읽어오기\n",
    "# open('파일 이름', '모드') 로 사용\n",
    "# 이경우 r을 이용해 읽기모드로 파일을 불러옴\n",
    "\n",
    "with open('./data/robinson_crusoe_chapter_1.txt','r') as f:\n",
    "    rc = f.read()\n",
    "\n",
    "#error가 뜰 경우에 긁어서 구글링하면 나옵니다(익숙해져야함)\n",
    "print(rc)"
   ]
  },
  {
   "cell_type": "markdown",
   "id": "2596aae1",
   "metadata": {},
   "source": [
    "#### write"
   ]
  },
  {
   "cell_type": "code",
   "execution_count": null,
   "id": "07e9d6bf",
   "metadata": {
    "ExecuteTime": {
     "end_time": "2023-09-14T07:40:59.758406Z",
     "start_time": "2023-09-14T07:40:59.746965Z"
    }
   },
   "outputs": [],
   "source": [
    "# with 문을 활용하여 txt파일 써오기\n",
    "# 인자에 w를 사용함\n",
    "\n",
    "my_words = 'Insight 10기 화이팅 :)'\n",
    "with open('my_word.txt','w') as f:\n",
    "    f.write(my_words)"
   ]
  },
  {
   "cell_type": "code",
   "execution_count": null,
   "id": "39aa73c7",
   "metadata": {
    "ExecuteTime": {
     "end_time": "2023-09-14T07:41:02.052782Z",
     "start_time": "2023-09-14T07:41:02.031838Z"
    }
   },
   "outputs": [],
   "source": [
    "with open('my_word.txt','r') as f:\n",
    "    sogang = f.read()\n",
    "print(sogang)"
   ]
  },
  {
   "cell_type": "markdown",
   "id": "64f514b0",
   "metadata": {},
   "source": [
    "#### add"
   ]
  },
  {
   "cell_type": "code",
   "execution_count": null,
   "id": "e78ed168",
   "metadata": {
    "ExecuteTime": {
     "end_time": "2023-09-14T07:41:07.076352Z",
     "start_time": "2023-09-14T07:41:07.061390Z"
    }
   },
   "outputs": [],
   "source": [
    "# with 문에 'a'인자로 파일의 마지막에 새로운 내용 추가\n",
    "\n",
    "with open('my_word.txt','a') as f:\n",
    "    f.write('\\n' + my_words)\n",
    "#\\n = 줄바꿈\n",
    "with open('my_word.txt','r') as f:\n",
    "    sogang = f.read()\n",
    "print(sogang)"
   ]
  },
  {
   "cell_type": "markdown",
   "id": "6452e3ee",
   "metadata": {},
   "source": [
    "#### 실습3. txt 파일을 열어 하고싶은 말 쓰고 저장하기(open 이용)"
   ]
  },
  {
   "cell_type": "code",
   "execution_count": 18,
   "id": "970018ff",
   "metadata": {
    "ExecuteTime": {
     "end_time": "2023-09-14T07:42:38.894078Z",
     "start_time": "2023-09-14T07:42:38.865936Z"
    }
   },
   "outputs": [
    {
     "name": "stdout",
     "output_type": "stream",
     "text": [
      "안녕하세요!\n"
     ]
    }
   ],
   "source": [
    "mywords = '안녕하세요!'\n",
    "with open('my_word.txt', 'w') as f:\n",
    "    f.write(mywords)\n",
    "\n",
    "with open('my_word.txt','r') as f:\n",
    "    insight = f.read()\n",
    "    \n",
    "print(insight)"
   ]
  },
  {
   "cell_type": "markdown",
   "id": "5a57beef",
   "metadata": {},
   "source": [
    "### 데이터 저장\n",
    "- pandas의 데이터프레임을 저장\n",
    "- 데이터프레임.to_csv 함수를 이용"
   ]
  },
  {
   "cell_type": "code",
   "execution_count": 21,
   "id": "e75f1333",
   "metadata": {
    "ExecuteTime": {
     "end_time": "2023-09-14T07:43:48.557200Z",
     "start_time": "2023-09-14T07:43:47.826156Z"
    }
   },
   "outputs": [
    {
     "data": {
      "text/html": [
       "<div>\n",
       "<style scoped>\n",
       "    .dataframe tbody tr th:only-of-type {\n",
       "        vertical-align: middle;\n",
       "    }\n",
       "\n",
       "    .dataframe tbody tr th {\n",
       "        vertical-align: top;\n",
       "    }\n",
       "\n",
       "    .dataframe thead th {\n",
       "        text-align: right;\n",
       "    }\n",
       "</style>\n",
       "<table border=\"1\" class=\"dataframe\">\n",
       "  <thead>\n",
       "    <tr style=\"text-align: right;\">\n",
       "      <th></th>\n",
       "      <th>date</th>\n",
       "      <th>hour</th>\n",
       "    </tr>\n",
       "  </thead>\n",
       "  <tbody>\n",
       "    <tr>\n",
       "      <th>0</th>\n",
       "      <td>2020-01-01</td>\n",
       "      <td>0</td>\n",
       "    </tr>\n",
       "    <tr>\n",
       "      <th>1</th>\n",
       "      <td>2020-01-01</td>\n",
       "      <td>0</td>\n",
       "    </tr>\n",
       "    <tr>\n",
       "      <th>2</th>\n",
       "      <td>2020-01-01</td>\n",
       "      <td>0</td>\n",
       "    </tr>\n",
       "    <tr>\n",
       "      <th>3</th>\n",
       "      <td>2020-01-01</td>\n",
       "      <td>0</td>\n",
       "    </tr>\n",
       "    <tr>\n",
       "      <th>4</th>\n",
       "      <td>2020-01-01</td>\n",
       "      <td>0</td>\n",
       "    </tr>\n",
       "  </tbody>\n",
       "</table>\n",
       "</div>"
      ],
      "text/plain": [
       "         date  hour\n",
       "0  2020-01-01     0\n",
       "1  2020-01-01     0\n",
       "2  2020-01-01     0\n",
       "3  2020-01-01     0\n",
       "4  2020-01-01     0"
      ]
     },
     "execution_count": 21,
     "metadata": {},
     "output_type": "execute_result"
    }
   ],
   "source": [
    "# seoulfloating 데이터의 1,2번째 컬럼을 불러옴\n",
    "\n",
    "seoulfloating = pd.read_csv('./data/SeoulFloating.csv',usecols=[0,1])\n",
    "seoulfloating.head()"
   ]
  },
  {
   "cell_type": "code",
   "execution_count": null,
   "id": "adf5ce82",
   "metadata": {
    "ExecuteTime": {
     "end_time": "2023-09-14T07:43:53.297423Z",
     "start_time": "2023-09-14T07:43:51.044303Z"
    }
   },
   "outputs": [],
   "source": [
    "# csv 파일로 저장\n",
    "# index = False 지정하면 인덱스는 저장 안함, default는 True\n",
    "\n",
    "seoulfloating.to_csv('seoulfl.csv', index = False)"
   ]
  },
  {
   "cell_type": "code",
   "execution_count": null,
   "id": "6cd2be5a",
   "metadata": {
    "ExecuteTime": {
     "end_time": "2023-08-21T15:16:30.557140Z",
     "start_time": "2023-08-21T15:16:30.545872Z"
    }
   },
   "outputs": [],
   "source": [
    "# txt 파일로도 저장가능!\n",
    "# 이경우 ,로 구분되어 있음\n",
    "\n",
    "#seoulfloating.to_csv('seoulfl.txt', index = False)"
   ]
  },
  {
   "cell_type": "code",
   "execution_count": null,
   "id": "42cd391e",
   "metadata": {
    "ExecuteTime": {
     "end_time": "2023-09-14T07:44:02.473850Z",
     "start_time": "2023-09-14T07:44:02.032035Z"
    }
   },
   "outputs": [],
   "source": [
    "# 서담데이터의 제목과 조회수 컬럼을 불러옴\n",
    "\n",
    "ssodam = pd.read_csv('./data/서담.txt',sep='|', usecols=['title', 'view'])\n",
    "ssodam.head()"
   ]
  },
  {
   "cell_type": "code",
   "execution_count": null,
   "id": "04de0438",
   "metadata": {
    "ExecuteTime": {
     "end_time": "2023-08-21T15:16:50.858780Z",
     "start_time": "2023-08-21T15:16:50.840047Z"
    }
   },
   "outputs": [],
   "source": [
    "# csv 파일로 저장\n",
    "\n",
    "#ssodam.to_csv('ssodam.csv', sep='|', index = False)"
   ]
  },
  {
   "cell_type": "markdown",
   "id": "d2e182f5",
   "metadata": {},
   "source": [
    "## json 파일(.json)\n",
    "\n",
    "\n",
    "- javascript기반 텍스트 데이터 포맷 중 하나\n",
    "- 다른 언어 간의 교환이 용이함\n",
    "- python에서는 json이라는 내장 모듈을 활용하여 읽고 불러들이며, 파이썬 내부에서는 dictionary의 자료형으로써 읽고 쓸 수 있음"
   ]
  },
  {
   "cell_type": "code",
   "execution_count": null,
   "id": "2f0d756d",
   "metadata": {
    "ExecuteTime": {
     "end_time": "2023-08-21T15:18:15.273573Z",
     "start_time": "2023-08-21T15:18:15.258610Z"
    }
   },
   "outputs": [],
   "source": [
    "data = {\n",
    "\n",
    "    \"First Name\": \"Insight\",\n",
    "    \"Last Name\": \"Sogang\",\n",
    "    \"Age\": 25,\n",
    "    \"University\": \"Sogang University\",\n",
    "    \"Courses\": \n",
    "        {\n",
    "            \"Classes\": [\n",
    "                \"Big Data Design\",\n",
    "                \"Marketing Analytics\",\n",
    "                \"Business Statistics\"\n",
    "            ],\n",
    "            \"Major\": \"Business\"\n",
    "        }\n",
    "}"
   ]
  },
  {
   "cell_type": "markdown",
   "id": "1484ce6d",
   "metadata": {},
   "source": [
    "### json 파일 로드 및 저장"
   ]
  },
  {
   "cell_type": "code",
   "execution_count": null,
   "id": "eaefca23",
   "metadata": {
    "ExecuteTime": {
     "end_time": "2023-08-21T15:19:09.222005Z",
     "start_time": "2023-08-21T15:19:09.197070Z"
    }
   },
   "outputs": [],
   "source": [
    "# 모듈 import\n",
    "import json\n",
    "# json파일로 데이터 저장하기\n",
    "# json.dump(데이터 이름, 파일) 으로 파일을 데이터 이름으로 저장함\n",
    "\n",
    "with open('student_data.json','w') as json_file:\n",
    "    json.dump(data, json_file)"
   ]
  },
  {
   "cell_type": "markdown",
   "id": "b4333e68",
   "metadata": {
    "ExecuteTime": {
     "end_time": "2023-08-21T15:20:01.386108Z",
     "start_time": "2023-08-21T15:20:01.363762Z"
    }
   },
   "source": [
    "dump라는 함수 이용 < == 데이터를 저장해주는 역할 \\\n",
    "load ==> 데이터 읽어주는 거"
   ]
  },
  {
   "cell_type": "code",
   "execution_count": null,
   "id": "b9537829",
   "metadata": {
    "ExecuteTime": {
     "end_time": "2023-08-21T15:20:05.881360Z",
     "start_time": "2023-08-21T15:20:05.870869Z"
    }
   },
   "outputs": [],
   "source": [
    "# json.load(파일) 을 이용해 json 파일을 불러들임\n",
    "\n",
    "with open('student_data.json','r') as json_file:\n",
    "    json_data = json.load(json_file)"
   ]
  },
  {
   "cell_type": "code",
   "execution_count": null,
   "id": "4efb1d17",
   "metadata": {
    "ExecuteTime": {
     "end_time": "2023-08-21T15:20:06.086871Z",
     "start_time": "2023-08-21T15:20:06.074779Z"
    }
   },
   "outputs": [],
   "source": [
    "json_data"
   ]
  },
  {
   "cell_type": "markdown",
   "id": "a38a7a26",
   "metadata": {},
   "source": [
    "### json 형식의 데이터를 dataframe으로 변환"
   ]
  },
  {
   "cell_type": "code",
   "execution_count": null,
   "id": "2b2855ad",
   "metadata": {
    "ExecuteTime": {
     "end_time": "2023-08-21T15:20:24.717337Z",
     "start_time": "2023-08-21T15:20:24.630516Z"
    }
   },
   "outputs": [],
   "source": [
    "# json 파일 읽어오기\n",
    "# 한글이 적혀있는 국내 데이터의 경우 encoding을 'utf-8'로 설정함 (csv, xls, txt 파일 모두!) \n",
    "\n",
    "with open('./data/서울시 월별 평균 대기오염도 정보.json','r',encoding='utf-8') as json_file:\n",
    "    json_data = json.load(json_file)"
   ]
  },
  {
   "cell_type": "code",
   "execution_count": null,
   "id": "21e249de",
   "metadata": {
    "ExecuteTime": {
     "end_time": "2023-08-21T15:20:37.820553Z",
     "start_time": "2023-08-21T15:20:37.395566Z"
    }
   },
   "outputs": [],
   "source": [
    "json_data"
   ]
  },
  {
   "cell_type": "code",
   "execution_count": null,
   "id": "d47581d2",
   "metadata": {
    "ExecuteTime": {
     "end_time": "2023-08-21T15:20:56.221439Z",
     "start_time": "2023-08-21T15:20:55.931278Z"
    }
   },
   "outputs": [],
   "source": [
    "json_data['DATA']"
   ]
  },
  {
   "cell_type": "code",
   "execution_count": null,
   "id": "0a8a9617",
   "metadata": {
    "ExecuteTime": {
     "end_time": "2023-08-21T15:21:02.647786Z",
     "start_time": "2023-08-21T15:21:02.553826Z"
    }
   },
   "outputs": [],
   "source": [
    "# dictionary 데이터를 dataframe으로\n",
    "\n",
    "pd.DataFrame(json_data['DATA']).head(10)"
   ]
  },
  {
   "cell_type": "markdown",
   "id": "b1467c61",
   "metadata": {},
   "source": [
    "## pickle파일 (.pickle, .pkl)\n",
    "\n",
    "\n",
    "- 리스트나 클래스같은 텍스트가 아닌 자료형은 일반적인 파일 입출력 방법으로는 데이터를 저장하거나 불러올 수 없다.\n",
    "- 파이썬에서는 이와 같은 텍스트 이외의 자료형을 파일로 저장하기 위하여 pickle이라는 모듈을 제공한다.\n",
    "- 바이트 형식의 자료형이기 때문에 연산속도가 더 빠른 장점이 있다.\n",
    "- 머신러닝에서 \"모델\" 자체를 저장하고 불러올 수 있다."
   ]
  },
  {
   "cell_type": "code",
   "execution_count": null,
   "id": "c82381d7",
   "metadata": {
    "ExecuteTime": {
     "end_time": "2023-09-14T07:44:35.346554Z",
     "start_time": "2023-09-14T07:44:35.335584Z"
    }
   },
   "outputs": [],
   "source": [
    "#모듈 import\n",
    "import pickle"
   ]
  },
  {
   "cell_type": "markdown",
   "id": "55a9fbc5",
   "metadata": {},
   "source": [
    "### list 데이터"
   ]
  },
  {
   "cell_type": "code",
   "execution_count": null,
   "id": "f814aafe",
   "metadata": {
    "ExecuteTime": {
     "end_time": "2023-09-14T07:44:37.596586Z",
     "start_time": "2023-09-14T07:44:37.574640Z"
    }
   },
   "outputs": [],
   "source": [
    "# list 데이터\n",
    "my_list = ['insight', 'sogang']\n",
    "\n",
    "# 바이트 형식으로 작성하기 때문에 write의 w에 b(byte)를 붙여 'wb'로\n",
    "# 방법은 json과 동일함\n",
    "\n",
    "with open('my_list.pickle', 'wb') as p:\n",
    "    pickle.dump(my_list, p)\n",
    "# 바이트 형식으로 읽으려고 하기 때문에 read의 r에 b(byte)를 붙여 'rb'로\n",
    "\n",
    "with open('my_list.pickle','rb') as p:\n",
    "    my_list = pickle.load(p)\n",
    "\n",
    "my_list    "
   ]
  },
  {
   "cell_type": "markdown",
   "id": "72c42aa4",
   "metadata": {},
   "source": [
    "### numpy 데이터"
   ]
  },
  {
   "cell_type": "code",
   "execution_count": null,
   "id": "24840cb1",
   "metadata": {
    "ExecuteTime": {
     "end_time": "2023-09-14T07:44:53.854528Z",
     "start_time": "2023-09-14T07:44:53.840868Z"
    }
   },
   "outputs": [],
   "source": [
    "# numpy 데이터도 가능\n",
    "\n",
    "import numpy as np\n",
    "\n",
    "array = np.array([[3,6,3,1],[2,3,4,7]])"
   ]
  },
  {
   "cell_type": "code",
   "execution_count": null,
   "id": "26f735c8",
   "metadata": {
    "ExecuteTime": {
     "end_time": "2023-09-14T07:45:14.092097Z",
     "start_time": "2023-09-14T07:45:14.061821Z"
    }
   },
   "outputs": [],
   "source": [
    "# 데이터 저장\n",
    "\n",
    "with open('myarray.pickle', 'wb') as p:\n",
    "    pickle.dump(array, p)\n",
    "    \n",
    "# 데이터 불러오기\n",
    "\n",
    "with open('myarray.pickle','rb') as p:\n",
    "    array = pickle.load(p)\n",
    "    \n",
    "array"
   ]
  },
  {
   "cell_type": "markdown",
   "id": "5acb20f0",
   "metadata": {},
   "source": [
    "* numpy 관련 추가 학습용 자료 https://www.youtube.com/watch?v=mirZPrWwvao"
   ]
  },
  {
   "cell_type": "markdown",
   "id": "bf6aa95d",
   "metadata": {},
   "source": [
    "## OS 라이브러리를 활용한 데이터 로드\n",
    "\n",
    "- os 모듈은 운영체제에서 제공하는 정보를 제공하거나 운영체제의 기능을 사용할 수 있는 방법을 제공한다.\n"
   ]
  },
  {
   "cell_type": "code",
   "execution_count": null,
   "id": "3038c072",
   "metadata": {
    "ExecuteTime": {
     "end_time": "2023-09-14T07:45:24.521103Z",
     "start_time": "2023-09-14T07:45:24.508105Z"
    }
   },
   "outputs": [],
   "source": [
    "import os \n",
    "# 현재 Jupyter가 실행중인 경로를 확인\n",
    "os.getcwd()"
   ]
  },
  {
   "cell_type": "code",
   "execution_count": null,
   "id": "1766fa2a",
   "metadata": {
    "ExecuteTime": {
     "end_time": "2023-09-14T07:45:25.051620Z",
     "start_time": "2023-09-14T07:45:25.024562Z"
    }
   },
   "outputs": [],
   "source": [
    "#해당 디렉토리에 있는 모든 파일이름을 리스트로 반환\n",
    "os.listdir()"
   ]
  },
  {
   "cell_type": "code",
   "execution_count": null,
   "id": "f9c1aa85",
   "metadata": {
    "ExecuteTime": {
     "end_time": "2023-09-14T07:45:30.779962Z",
     "start_time": "2023-09-14T07:45:30.759417Z"
    }
   },
   "outputs": [],
   "source": [
    "# 반복문과 조건문을 활용해서 필요한 파일 명을 추출할 수 있습니다. \n",
    "txtList = []\n",
    "for x in os.listdir('./data'):\n",
    "    if x.endswith('txt'):\n",
    "            txtList.append(x)\n",
    "            \n",
    "print(txtList)"
   ]
  },
  {
   "cell_type": "code",
   "execution_count": null,
   "id": "613c5a8d",
   "metadata": {
    "ExecuteTime": {
     "end_time": "2023-09-14T07:45:35.316277Z",
     "start_time": "2023-09-14T07:45:35.291347Z"
    }
   },
   "outputs": [],
   "source": [
    "#현재 위치한 디렉토리 위치 변화\n",
    "os.chdir(\"./data\")\n",
    "os.getcwd()"
   ]
  },
  {
   "cell_type": "code",
   "execution_count": null,
   "id": "f3154743",
   "metadata": {
    "ExecuteTime": {
     "end_time": "2023-09-14T07:45:39.215644Z",
     "start_time": "2023-09-14T07:45:38.809729Z"
    }
   },
   "outputs": [],
   "source": [
    "sodam=pd.read_csv(txtList[-1],sep='|', usecols=['title','like','view'])\n",
    "sodam"
   ]
  },
  {
   "cell_type": "markdown",
   "id": "1ab0966b",
   "metadata": {},
   "source": [
    "## Raw String 활용\n",
    "\n",
    "파일 위치를 가져올시 파이썬에서 바로 활용할 수 없고 수정을 거쳐야 합니다. 위의 data 폴더의 위치를 가져오면 다음과 같습니다.<br>\n",
    "__\"C:\\Users\\js953\\Desktop\\INSIGHT\\INSIGHT 8기\\INSIGHT_Session2(Pandas, 수집방법)\\data\"__ <br><br>\n",
    "이를 파이썬에서 활용하기 위해서는 <br>\n",
    "__\"C:/Users/js953/Desktop/INSIGHT/INSIGHT 8기/INSIGHT_Session2(Pandas, 수집방법)/data__\" 혹은 <br>\n",
    "탈출문자(escape)를 활용하여 __\"C:\\\\Users\\\\js953\\Desktop\\\\INSIGHT\\INSIGHT 8기\\\\INSIGHT_Session2(Pandas, 수집방법)\\\\data__\" 와 같이 기입해야 합니다. <br><br>\n",
    "\n",
    "이러한 문제를 쉽게 활용하기 위해 __Raw String \"r\"__을 활용합니다."
   ]
  },
  {
   "cell_type": "markdown",
   "id": "450d714c",
   "metadata": {
    "ExecuteTime": {
     "end_time": "2023-08-21T15:27:09.565468Z",
     "start_time": "2023-08-21T15:27:09.538968Z"
    }
   },
   "source": [
    "위와 같이 파일 경로에 r을 붙으면 가져온 파일 경로를 파이썬 문법을 따르지 않고 활용할 수 있습니다!<br><br>\n",
    "\n",
    "Raw String 참고 : https://seong6496.tistory.com/93"
   ]
  }
 ],
 "metadata": {
  "kernelspec": {
   "display_name": "Python 3 (ipykernel)",
   "language": "python",
   "name": "python3"
  },
  "language_info": {
   "codemirror_mode": {
    "name": "ipython",
    "version": 3
   },
   "file_extension": ".py",
   "mimetype": "text/x-python",
   "name": "python",
   "nbconvert_exporter": "python",
   "pygments_lexer": "ipython3",
   "version": "3.11.3"
  },
  "toc": {
   "base_numbering": 1,
   "nav_menu": {},
   "number_sections": true,
   "sideBar": true,
   "skip_h1_title": false,
   "title_cell": "Table of Contents",
   "title_sidebar": "Contents",
   "toc_cell": false,
   "toc_position": {
    "height": "calc(100% - 180px)",
    "left": "10px",
    "top": "150px",
    "width": "339.556px"
   },
   "toc_section_display": true,
   "toc_window_display": true
  }
 },
 "nbformat": 4,
 "nbformat_minor": 5
}
