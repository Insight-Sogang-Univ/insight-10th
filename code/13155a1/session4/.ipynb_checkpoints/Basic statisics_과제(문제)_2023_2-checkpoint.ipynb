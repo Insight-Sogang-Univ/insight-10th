{
 "cells": [
  {
   "cell_type": "markdown",
   "id": "e24a1040",
   "metadata": {},
   "source": [
    "# 통계 세션 과제"
   ]
  },
  {
   "cell_type": "markdown",
   "id": "61f61e73",
   "metadata": {},
   "source": [
    "## 과제1"
   ]
  },
  {
   "cell_type": "markdown",
   "id": "92b03fb0",
   "metadata": {},
   "source": [
    "ox 문제"
   ]
  },
  {
   "cell_type": "markdown",
   "id": "6fd512af",
   "metadata": {},
   "source": [
    "- 1-(1)번: Posltive SKewness는 오른쪽 꼬리가 왼쪽보다 더 길 때를 의미하며, 평균과 중앙값이 최빈값보다 작습니다.(O/X)\n",
    "- 1-(2)번: 변동계수는 표준편차를 해당 데이터의 평균으로 곱한 값으로 계산된다.(O/X)  \n",
    "- 1-(3)번: 데이터 값들이 평균으로부터 얼마나 퍼져 있는지를 나타내는 중요한 통계적 지표를 표준편차라고 한다.(O/X)\n",
    "- 1-(4)번: 사분위간 범위는 Q4에서 Q1값을 제외한 범위를 의미한다. (O/X)"
   ]
  },
  {
   "cell_type": "markdown",
   "id": "9ee3747d",
   "metadata": {},
   "source": [
    "정답: X / X / O / X"
   ]
  },
  {
   "cell_type": "markdown",
   "id": "08702a3c",
   "metadata": {},
   "source": [
    "## 과제 2"
   ]
  },
  {
   "cell_type": "markdown",
   "id": "f1b2c62e",
   "metadata": {},
   "source": [
    "공분산과 상관계수에 대해 자세히 설명하시오"
   ]
  },
  {
   "cell_type": "markdown",
   "id": "03185d1a",
   "metadata": {},
   "source": [
    "정답: 공분산은 두 개의 확률 변수의 선형 관계를 나타내는 값이다. 두 변수에 대해서, 각각의 평균과의 차이를 곱한 후 평균한 값으로 계산한다. 변수 X의 평균을 A, Y의 평균을 B라고 했을 때 변수 X와 Y의 공분산은 E[(X - A)(Y - B)]이다. 상관계수 역시 두 변수 간의 선형 관계를 나타낸다. 상관계수는 -1과 1 사이의 값을 가지며, -1에 가까울수록 음의 상관관계, 1에 가까울수록 양의 상관관계를 보인다. 공분산이 양의 상관관계, 음의 상관관계만 보일 뿐 어느 정도의 상관관계를 가지는지는 보이지 못한다. 반면 상관계수는 어느 정도의 상관관계를 갖는지 보인다. 이 점이 공분산과 상관계수의 차이이다."
   ]
  },
  {
   "cell_type": "markdown",
   "id": "341b7d8d",
   "metadata": {},
   "source": [
    "## 과제3"
   ]
  },
  {
   "cell_type": "markdown",
   "id": "171b01a5",
   "metadata": {},
   "source": [
    "확률분포의 예시 7가지를 쓰시오"
   ]
  },
  {
   "cell_type": "markdown",
   "id": "b7e84636",
   "metadata": {},
   "source": [
    "정답: 정규분포, T분포, 카이제곱분포, F분포, 이항분포, 베르누이분포, 포아송분포"
   ]
  },
  {
   "cell_type": "markdown",
   "id": "2bd291d9",
   "metadata": {},
   "source": [
    "## 과제 4"
   ]
  },
  {
   "cell_type": "markdown",
   "id": "de8bcaed",
   "metadata": {},
   "source": [
    "가설 검정의 절차를 4단계에 걸쳐 설명하시오"
   ]
  },
  {
   "cell_type": "markdown",
   "id": "edfbb754",
   "metadata": {},
   "source": [
    "정답:\n",
    "1. 가설 검정: 귀무가설(검정 대상이 되는 가설)과 대립가설(귀무가설이 기각되었을 때 채택되는 가설)을 설정\n",
    "2. 유의 수준 설정: 정해진 수치를 얼마나 벗어나면 귀무가설이 오류라고 인정할 것인가를 판단하는 기준\n",
    "3. 검정 통계량 산출: 가설 검정의 결과를 판단하는 데 사용되는 검정통계량(eg. Z통계량, T통계량 등을 사용)\n",
    "4. 가설 기각/채택 판단: 검정통계량이 신뢰구간에 위치해 있을 때 귀무가설 채택(대립가설 기각)"
   ]
  },
  {
   "cell_type": "markdown",
   "id": "82c9a616",
   "metadata": {},
   "source": [
    "## 과제 5"
   ]
  },
  {
   "cell_type": "markdown",
   "id": "639f0551",
   "metadata": {},
   "source": [
    "1종 오류와 2종 오류에 대해 설명하시오"
   ]
  },
  {
   "cell_type": "markdown",
   "id": "057b7ec1",
   "metadata": {},
   "source": [
    "정답: 1종 오류는 귀무가설이 실제로 참이었는데 기각할 확률, 2종 오류는 귀무가설이 실제로 거짓인데 채택할 확률을 의미한다."
   ]
  },
  {
   "cell_type": "markdown",
   "id": "b82b52ce",
   "metadata": {},
   "source": [
    "## 과제 6"
   ]
  },
  {
   "cell_type": "markdown",
   "id": "12b543f0",
   "metadata": {},
   "source": [
    "베이즈 정리 공식에 대해 쓰시오"
   ]
  },
  {
   "cell_type": "markdown",
   "id": "017720e2",
   "metadata": {},
   "source": [
    "정답: 원인 A와 결과 B가 있을 때, 결과 B가 일어났다는 조건 하에 원인 A가 발생했을 확률을 사후확률, 즉 posterior probability라고 한다. 이 posterior probability를 구하기 위한 정리가 베이지안 정리이고, posterior probability는 prior probability와 likelihood로 구할 수 있다. prior probability는 원인 A가 발생할 확률이고, likelihood는 원인 A가 발생했다는 조건에서 결과 B가 발생할 확률을 의미한다. [P(B∣A)=P(A∣B)P(B)/P(A)]의 공식으로 나타낼 수 있다.\n",
    " "
   ]
  },
  {
   "cell_type": "code",
   "execution_count": null,
   "id": "1a9097e3",
   "metadata": {},
   "outputs": [],
   "source": []
  }
 ],
 "metadata": {
  "kernelspec": {
   "display_name": "Python 3 (ipykernel)",
   "language": "python",
   "name": "python3"
  },
  "language_info": {
   "codemirror_mode": {
    "name": "ipython",
    "version": 3
   },
   "file_extension": ".py",
   "mimetype": "text/x-python",
   "name": "python",
   "nbconvert_exporter": "python",
   "pygments_lexer": "ipython3",
   "version": "3.11.3"
  },
  "toc": {
   "base_numbering": 1,
   "nav_menu": {},
   "number_sections": true,
   "sideBar": true,
   "skip_h1_title": false,
   "title_cell": "Table of Contents",
   "title_sidebar": "Contents",
   "toc_cell": false,
   "toc_position": {},
   "toc_section_display": true,
   "toc_window_display": false
  }
 },
 "nbformat": 4,
 "nbformat_minor": 5
}
