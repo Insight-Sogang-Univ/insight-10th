{
 "cells": [
  {
   "cell_type": "markdown",
   "id": "e24a1040",
   "metadata": {},
   "source": [
    "# 통계 세션 과제"
   ]
  },
  {
   "cell_type": "markdown",
   "id": "61f61e73",
   "metadata": {},
   "source": [
    "## 과제1"
   ]
  },
  {
   "cell_type": "markdown",
   "id": "92b03fb0",
   "metadata": {},
   "source": [
    "ox 문제"
   ]
  },
  {
   "cell_type": "markdown",
   "id": "6fd512af",
   "metadata": {},
   "source": [
    "- 1-(1)번: Posltive SKewness는 오른쪽 꼬리가 왼쪽보다 더 길 때를 의미하며, 평균과 중앙값이 최빈값보다 작습니다.(O/X)\n",
    "- 1-(2)번: 변동계수는 표준편차를 해당 데이터의 평균으로 곱한 값으로 계산된다.(O/X)  \n",
    "- 1-(3)번: 데이터 값들이 평균으로부터 얼마나 퍼져 있는지를 나타내는 중요한 통계적 지표를 표준편차라고 한다.(O/X)\n",
    "- 1-(4)번: 사분위간 범위는 Q4에서 Q1값을 제외한 범위를 의미한다. (O/X)"
   ]
  },
  {
   "cell_type": "markdown",
   "id": "9ee3747d",
   "metadata": {},
   "source": [
    "정답: \n",
    "\n",
    "**1-(1) FALSE**\n",
    "\n",
    "Posltive SKewness는 오른쪽 꼬리가 왼쪽보다 더 길 때를 의미하며, **평균과 중앙값이 최빈값보다 작습니다**.\n",
    "   - 오른쪽 꼬리 > 왼쪽 꼬리 (O)\n",
    "   - 평균값, 중앙값 > 최빈값 \n",
    "   \n",
    "**1-(2) FALSE**\n",
    "\n",
    "변동계수는 표준편차를 해당 데이터의 평균으로 **곱한 값**으로 계산된다.\n",
    "   - 변동계수 : (표준편차 / 평균) * 100\n",
    "   \n",
    "**1-(3) TRUE**\n",
    "\n",
    "표준편차는 데이터 값들이 평균으로부터 얼마나 퍼져 있는지를 나타내는 중요한 통계적 지표입니다.\n",
    "\n",
    "**1-(4) FALSE**\n",
    "\n",
    "사분위간 범위는 **Q4**에서 Q1값을 제외한 범위를 의미한다\n",
    "   - 사분위간 범위 : Q3에서 Q1 값을 제외한 범위를 의미합니다.\n"
   ]
  },
  {
   "cell_type": "markdown",
   "id": "08702a3c",
   "metadata": {},
   "source": [
    "## 과제 2"
   ]
  },
  {
   "cell_type": "markdown",
   "id": "f1b2c62e",
   "metadata": {},
   "source": [
    "공분산과 상관계수에 대해 자세히 설명하시오"
   ]
  },
  {
   "cell_type": "markdown",
   "id": "03185d1a",
   "metadata": {},
   "source": [
    "정답:\n",
    "\n",
    "\n",
    "<u>공분산</u>\n",
    "<li> (1/N)∑(Xi-X의 평균)(Yi-Y의 평균) </li>\n",
    "<li> 분산계산과 유사하지만 X의 평균차를 제곱하는 것이 아닌 X의 평균차 * Y의 평균차 </li>\n",
    "\n",
    "**두 개의 확률변수가 어떻게 변할까?**\n",
    "공분산의 부호에 따라 달라진다.\n",
    "\n",
    "**X가 커질 때 Y도 같이 커질까?**\n",
    "공분산이 양수 -> X와 Y는 양의 관계\n",
    "\n",
    "**X가 커질 때 Y는 작아질까?**\n",
    "공분산이 음수 -> X와 Y는 음의 관계\n",
    "\n",
    "<u>상관계수</u>\n",
    "<li> 두 변수 간의 선형적인 관계 </li>\n",
    "\n",
    "**1에 가까울수록 양의 상관관계**\n",
    "<li> X가 커질 때 Y는 얼마나 비슷하게 같이 커질까...?</li>\n",
    "\n",
    "\n",
    "**-1에 가까울수록 음의 상관관계**\n",
    "<li> X가 커질 때 Y는 얼마나 작아질까...?</li>\n"
   ]
  },
  {
   "cell_type": "markdown",
   "id": "341b7d8d",
   "metadata": {},
   "source": [
    "## 과제3"
   ]
  },
  {
   "cell_type": "markdown",
   "id": "171b01a5",
   "metadata": {},
   "source": [
    "확률분포의 예시 7가지를 쓰시오"
   ]
  },
  {
   "cell_type": "markdown",
   "id": "b7e84636",
   "metadata": {},
   "source": [
    "정답: \n",
    "\n",
    "**정규분포**\n",
    "<li>좌우대칭 </li>\n",
    "<li>위치: 평균 </li>\n",
    "<li>모양: 표준편차 </li>\n",
    "\n",
    "**T분포**\n",
    "<li>0이 중심인 표준정규분포 느낌 </li>\n",
    "<li>자유도가 커질수록 표준정규분포 </li>\n",
    "\n",
    "**카이제곱분포**\n",
    "<li>정규분포의 제곱 </li>\n",
    "<li>자유도가 커질수록 평균분산 증가 </li>\n",
    "\n",
    "**F분포**\n",
    "<li>두 개의 카이제곱분포의 비율에 관련된 확률분포 </li>\n",
    "<li>분산분석 + 회귀분석 -> 두 모집단의 분산 비교 </li>\n",
    "<li>통계적 검정 </li>\n",
    "<li>자유도가 커질수록 정규분포 + 분산 감소</li>\n",
    "\n",
    "**이항분포**\n",
    "<li>확률이 p일 때 n번 시행을 나타낸 분포 </li>\n",
    "\n",
    "**베르누이분포**\n",
    "<li>이항분포에서 (n = 1) </li>\n",
    "\n",
    "**포아송분포**\n",
    "<li> 단위 시간에 사건 A가 몇번 일어날까? </li>\n",
    "<li> 시행횟수가 증가할수록 분포가 대칭적</li>\n"
   ]
  },
  {
   "cell_type": "markdown",
   "id": "2bd291d9",
   "metadata": {},
   "source": [
    "## 과제 4"
   ]
  },
  {
   "cell_type": "markdown",
   "id": "de8bcaed",
   "metadata": {},
   "source": [
    "가설 검정의 절차를 4단계에 걸쳐 설명하시오"
   ]
  },
  {
   "cell_type": "markdown",
   "id": "edfbb754",
   "metadata": {},
   "source": [
    "정답: \n",
    "\n",
    "<u>가설 설정</u>\n",
    "\n",
    "**귀무가설 H0**\n",
    "<li> 이전 가설 -> 기각하려고 하는 가설 </li>\n",
    "<li> 확인 용이한 가설 </li>\n",
    "<li> 별로 입증 안하고 싶은 가설</li>\n",
    "<li> 별로 관심 없는 가설 </li>\n",
    "\n",
    "\n",
    "**대립가설 H1**\n",
    "<li> 주장하고 싶은 가설 </li>\n",
    "\n",
    "\n",
    "<u>유의 수준 설정</u>\n",
    "\n",
    "**얼마나 달라야 귀무가설이 틀린 건데??**\n",
    "<li> 유의수준이 낮아질수록 귀무가설이 기각될 확률 높아짐 </li>\n",
    "\n",
    "\n",
    "<u>검정통계량 산출</u>\n",
    "\n",
    "**가설 검정의 결과를 판단하는데 사용**\n",
    "\n",
    "<u>가설 기각/채택 판단</u>\n",
    "\n",
    "**검정통계량의 신뢰구간에 *있을 때* 귀무가설 채택 -> 아쉬운 것**\n",
    "**유의확률(p-value) > 유의수준(α) 귀무가설 채택 -> 아쉬운 것**\n",
    "\n",
    "**검정통계량의 신뢰구간에 *벗어날* 때 대립가설 채택 -> 아싸**\n",
    "**유의확률(p-value) < 유의수준(α) 귀무가설 채택 -> 아싸**\n"
   ]
  },
  {
   "cell_type": "markdown",
   "id": "82c9a616",
   "metadata": {},
   "source": [
    "## 과제 5"
   ]
  },
  {
   "cell_type": "markdown",
   "id": "639f0551",
   "metadata": {},
   "source": [
    "1종 오류와 2종 오류에 대해 설명하시오"
   ]
  },
  {
   "cell_type": "markdown",
   "id": "057b7ec1",
   "metadata": {},
   "source": [
    "정답:\n",
    "\n",
    "**1종오류**:\n",
    "<u>코로나 확진인데 음성 뜰 확률</u>\n",
    "<li> 귀무가설이 참인데 기각할 확률 </li>\n",
    "\n",
    "\n",
    "**2종오류**:\n",
    "<u>코로나 음성인데 확진 뜰 확률</u>\n",
    "<li> 귀무가설이 거짓인데 채택할 확률 </li>\n",
    "\n"
   ]
  },
  {
   "cell_type": "markdown",
   "id": "b82b52ce",
   "metadata": {},
   "source": [
    "## 과제 6"
   ]
  },
  {
   "cell_type": "markdown",
   "id": "12b543f0",
   "metadata": {},
   "source": [
    "베이즈 정리 공식에 대해 쓰시오"
   ]
  },
  {
   "cell_type": "markdown",
   "id": "017720e2",
   "metadata": {},
   "source": [
    "정답:\n",
    "<li> Posterior Priority(사후확률) = likelihood(우도) X prior probability(사전확률) </li>\n",
    "<li> P(A|B) = P(B|A) X P(A) / P(B) </li>"
   ]
  },
  {
   "cell_type": "code",
   "execution_count": null,
   "id": "a3adc816",
   "metadata": {},
   "outputs": [],
   "source": []
  }
 ],
 "metadata": {
  "kernelspec": {
   "display_name": "Python 3 (ipykernel)",
   "language": "python",
   "name": "python3"
  },
  "language_info": {
   "codemirror_mode": {
    "name": "ipython",
    "version": 3
   },
   "file_extension": ".py",
   "mimetype": "text/x-python",
   "name": "python",
   "nbconvert_exporter": "python",
   "pygments_lexer": "ipython3",
   "version": "3.11.4"
  },
  "toc": {
   "base_numbering": 1,
   "nav_menu": {},
   "number_sections": true,
   "sideBar": true,
   "skip_h1_title": false,
   "title_cell": "Table of Contents",
   "title_sidebar": "Contents",
   "toc_cell": false,
   "toc_position": {},
   "toc_section_display": true,
   "toc_window_display": false
  }
 },
 "nbformat": 4,
 "nbformat_minor": 5
}
