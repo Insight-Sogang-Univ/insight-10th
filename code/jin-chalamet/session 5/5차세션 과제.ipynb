{
 "cells": [
  {
   "cell_type": "markdown",
   "id": "ba3ae32b",
   "metadata": {},
   "source": [
    "데이터분석에서의 선형회귀분석의 중요성을 알게 되었습니다.\n",
    "\n",
    "1. 선형회귀분석 할 때, 초반 단계에서 describe() 함수를 통해 기본적인 기술 통계값을 확인하는 것은 기본임\n",
    "\n",
    "2. 분포를 조정할 때 자연로그 활용. (cf. 자연로그를 활용하면 비선형관계를 선형관계로 변환할 수 있음)\n",
    "\n",
    "3. 람다 함수에 대해 새롭게 공부함. 익명함수를 지칭하는 용어로, 코드의 간결함 + 메모리의 절약을 얻을 수 있음! \n",
    "(ex. df_obj['date2'] = df_obj['date'].apply(lambda x: x[0:4]), lambda함수는 여기서 문자열 'x'에서 처음부터 4번째 글자까지를 추출함)\n",
    "\n",
    "4. 히스토그램을 통해 데이터의 분포를 확인할 수 있음! ('df.hist'사용)\n",
    "\n",
    "5. 히스토그램을 바탕으로 종속 변수와 선형관계가 있을 것 같은 독립변수들을 선정해야 함. 그것을 바탕으로 산점도 그림. 이는 종속 변수와 독립 변수들 사이의 선형 관계를 대략적으로 파악하는데 도움이 됨. \n",
    "\n",
    "6. 그 이후, 히트맵을 사용해 독립 변수들 간의 상관 관계를 알아본다.이를 바탕으로 상관관계가 높은 변수들만 추려서 집중.\n",
    "\n",
    "7. 회귀분석을 할 때는 상수항을 추가해야 함! (ex. X = sm.add_constant(X, has_constant=\"add\") )\n",
    "\n",
    "8. 회귀분석에서 잔차는, 회귀 모델의 예측치와 실제 치 사이의 차이를 나타냄. \n",
    "\n",
    "9. 다중선형회귀분석에서는 '다중공선성'을 꼭 확인해야 함. \n",
    "\n",
    "10. 다중공선성이란 회귀분석에서 독립변수들 간에 강한 상관관계가 나타나는 문제를 말한다.\n",
    "\n",
    "11. 회귀모형은 오차에 대한 독립성, 정규성, 등분산성을 가정을 전제로 하기 때문에 가정을 만족하는지 확인해야 한다. \n",
    "\n",
    "12. qqplot은 두 변수간의 분포를 비교하기 위해 사용되는 그래프. 선형 모형의 정규성 가정을 시각적으로 테스트하는데 활용된다.\n",
    "\n",
    "13. Q-Q 플롯, 잔차 패턴, 샤피로-윌크 검정은 정규성 검정에 이용된다.\n",
    "\n",
    "14. 잔차그래프와 acf를 이용해 독립성 검정.\n",
    "\n",
    "15. 잔차그래프를 통해 오차의 등분산성 검정."
   ]
  }
 ],
 "metadata": {
  "kernelspec": {
   "display_name": "Python 3 (ipykernel)",
   "language": "python",
   "name": "python3"
  },
  "language_info": {
   "codemirror_mode": {
    "name": "ipython",
    "version": 3
   },
   "file_extension": ".py",
   "mimetype": "text/x-python",
   "name": "python",
   "nbconvert_exporter": "python",
   "pygments_lexer": "ipython3",
   "version": "3.10.9"
  },
  "toc": {
   "base_numbering": 1,
   "nav_menu": {},
   "number_sections": true,
   "sideBar": true,
   "skip_h1_title": false,
   "title_cell": "Table of Contents",
   "title_sidebar": "Contents",
   "toc_cell": false,
   "toc_position": {},
   "toc_section_display": true,
   "toc_window_display": false
  }
 },
 "nbformat": 4,
 "nbformat_minor": 5
}
