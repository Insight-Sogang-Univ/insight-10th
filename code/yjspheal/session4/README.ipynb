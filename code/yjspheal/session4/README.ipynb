{
 "cells": [
  {
   "cell_type": "markdown",
   "id": "e4848a65",
   "metadata": {},
   "source": [
    "# 회귀, 분류, 군집화\n",
    "## 회귀(Regression)\n",
    ": 연속형 변수를 예측하는 작업으로, 주어진 데이터를 기반으로 하여 입력 변수와 출력 변수 사이의 관계를 모델링하고 이를 이용하여 새로운 입력값에 대한 출력값을 예측함.\n",
    "* ex) 주택 가격 예측 case에서는 주택의 특징(면적, 위치, 방 갯수 등)이 입력변수, 주택 가격이 출력 변수가 됨\n",
    "* 선형 회귀, 다항 회귀, 랜덤 포레스트 회귀, 신경망 회귀 등의 모델이 있음.\n",
    "\n",
    "## 분류(Classification)\n",
    ": 데이터를 미리 정리된 범주로 분류하는 작업\n",
    "* ex) 스팸 메일 필터링 case에서는 메일이 '스팸' 또는 '스팸 아님' 두 가지 클래스 중 하나로 분류됨\n",
    "* 로지스틱 회귀, 의사결정 트리, 랜덤 포레스트, SVM, 신경망 등의 분류 알고리즘이 있음\n",
    "\n",
    "## 군집화(Clustering)\n",
    ": 비지도학습(unsupervised learning) 작업으로, 데이터를 서로 유사한 cluster로 그룹화하는 작업. 클러스터 내 데이터포인트가 서로 유사하나 클러스터 간 데이터 포인트는 서로 다름.\n",
    "* ex) 고객의 구매 이력 데이터를 군집화하여 유사한 구매 패턴을 갖는 고객 그룹을 찾을 수 있음\n",
    "* k-mean, 계층, DBSCAN, 혼합 가우시안 모델 등의 알고리즘 사용"
   ]
  },
  {
   "cell_type": "markdown",
   "id": "9750fa4d",
   "metadata": {},
   "source": [
    "# 선형회귀\n",
    ": 종속 변수(Y)와 하나 이상의 독립 변수(X) 사이의 선형 관계를 모델링하는 통계적 기법\n",
    "* 종속 변수와 독립 변수 간의 관계를 직선으로 나타냄\n",
    "* 주어진 데이터에 가장 잘 맞는 직선을 찾아 예측을 수행\n",
    "* 최소제곱법을 사용하여 모델 계수 추정\n",
    "### 단순 선형 회귀\n",
    ": 하나의 독립 변수가 종속 변수를 설명\n",
    "### 다중 선형 회귀\n",
    ": 여러 독립 변수가 종속 변수를 설명\n"
   ]
  },
  {
   "cell_type": "markdown",
   "id": "fe3f4b8f",
   "metadata": {},
   "source": [
    "# 다중공선성\n",
    ": 다중 선형 회귀 모델에서 독립 변수들 간에 높은 상관관계가 있을 때 발생하는 문제, \n",
    "* 두 개 이상의 독립 변수가 서로 선형 관계에 있는 경우에 발생\n",
    "* 회귀 모델에서 독립 변수의 계수 추정에 불안정성 초래, 변수의 중요성 평가를 어렵게 만들게 됨\n",
    "* VIF(Variance Inflation Factor)를 이용하여 다중공선성 평가\n",
    "\n",
    "## 다중공선성 제거를 위한 방법\n",
    "* 변수 선택, 변수 변환, 변수 제거 등의 방법 사용\n"
   ]
  },
  {
   "cell_type": "markdown",
   "id": "26f9e681",
   "metadata": {},
   "source": [
    "# 최소제곱법\n",
    ":선형 회귀 모델의 계수를 추정하는 방법 중 하나\n",
    "* 모델의 예측값과 실제 관측값 사이 오차(잔차)를 소화하도록 회귀 계수 조정\n",
    "* 잔차 제곱의 합을 최소화하는 회귀 계수를 찾아내는 것을 목표로 함"
   ]
  }
 ],
 "metadata": {
  "kernelspec": {
   "display_name": "Python 3 (ipykernel)",
   "language": "python",
   "name": "python3"
  },
  "language_info": {
   "codemirror_mode": {
    "name": "ipython",
    "version": 3
   },
   "file_extension": ".py",
   "mimetype": "text/x-python",
   "name": "python",
   "nbconvert_exporter": "python",
   "pygments_lexer": "ipython3",
   "version": "3.11.4"
  }
 },
 "nbformat": 4,
 "nbformat_minor": 5
}
