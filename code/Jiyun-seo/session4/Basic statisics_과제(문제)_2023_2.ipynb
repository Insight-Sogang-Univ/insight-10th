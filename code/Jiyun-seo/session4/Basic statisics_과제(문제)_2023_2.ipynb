{
 "cells": [
  {
   "cell_type": "markdown",
   "id": "e24a1040",
   "metadata": {},
   "source": [
    "# 통계 세션 과제"
   ]
  },
  {
   "cell_type": "markdown",
   "id": "61f61e73",
   "metadata": {},
   "source": [
    "## 과제1"
   ]
  },
  {
   "cell_type": "markdown",
   "id": "92b03fb0",
   "metadata": {},
   "source": [
    "ox 문제"
   ]
  },
  {
   "cell_type": "markdown",
   "id": "6fd512af",
   "metadata": {},
   "source": [
    "- 1-(1)번: Posltive SKewness는 오른쪽 꼬리가 왼쪽보다 더 길 때를 의미하며, 평균과 중앙값이 최빈값보다 작습니다.(O/X)\n",
    "- 1-(2)번: 변동계수는 표준편차를 해당 데이터의 평균으로 곱한 값으로 계산된다.(O/X)  \n",
    "- 1-(3)번: 데이터 값들이 평균으로부터 얼마나 퍼져 있는지를 나타내는 중요한 통계적 지표를 표준편차라고 한다.(O/X)\n",
    "- 1-(4)번: 사분위간 범위는 Q4에서 Q1값을 제외한 범위를 의미한다. (O/X)"
   ]
  },
  {
   "cell_type": "markdown",
   "id": "9ee3747d",
   "metadata": {},
   "source": [
    "정답: 1-(1) : X\n",
    "      1-(2) : X\n",
    "      1-(3) : O\n",
    "      1-(4) : X"
   ]
  },
  {
   "cell_type": "markdown",
   "id": "08702a3c",
   "metadata": {},
   "source": [
    "## 과제 2"
   ]
  },
  {
   "cell_type": "markdown",
   "id": "f1b2c62e",
   "metadata": {},
   "source": [
    "공분산과 상관계수에 대해 자세히 설명하시오"
   ]
  },
  {
   "cell_type": "markdown",
   "id": "03185d1a",
   "metadata": {},
   "source": [
    "정답: 공분산의 경우, 두 변수가 평균으로부터 떨어진 값을 곱한 후 평균값으로 계산되며, 두 변수가 함께 어떤 방향으로 변화하는지와 그 크기를 표현하는데 사용됩니다.\n",
    "     상관계수는 두 변수간의 선형적인 관계를 나타내는 통계적인 지표이며, \n",
    "Corr(X,Y)=1에 가까울수록 양의 상관관계, -1에 가까울 수록 음의 상관관계라고 추측할 수 있습니다."
   ]
  },
  {
   "cell_type": "markdown",
   "id": "341b7d8d",
   "metadata": {},
   "source": [
    "## 과제3"
   ]
  },
  {
   "cell_type": "markdown",
   "id": "171b01a5",
   "metadata": {},
   "source": [
    "확률분포의 예시 7가지를 쓰시오"
   ]
  },
  {
   "cell_type": "markdown",
   "id": "b7e84636",
   "metadata": {},
   "source": [
    "정답: \n",
    "이산 확률 분포-베르누이 분포, 이항분포, 기하분포, 음이항 분포, 초기하 분포, 포아송 분포\n",
    "연속 확률 분포-정규분포, T분포,F분포,감마분포, 지수분포, 카이제곱 분포, 베타분포,균일분포"
   ]
  },
  {
   "cell_type": "markdown",
   "id": "2bd291d9",
   "metadata": {},
   "source": [
    "## 과제 4"
   ]
  },
  {
   "cell_type": "markdown",
   "id": "de8bcaed",
   "metadata": {},
   "source": [
    "가설 검정의 절차를 4단계에 걸쳐 설명하시오"
   ]
  },
  {
   "cell_type": "markdown",
   "id": "edfbb754",
   "metadata": {},
   "source": [
    "정답:  가설설정-유의수준 설정-검정 통계량 산출-가설 기각/채택 판단\n",
    "1. 가설 검정 : 귀무가설HO과 대립가설 H1설정\n",
    "2. 유의수준 설정 : 정해진 수준에서 어느정도 벗어나면 귀무가설이 오류라고 볼 것인지를 판단하는 기준,알파값이 커지면 대립가설이 채택될 가능성이 높아짐\n",
    "3. 검정 통계량 산출 : 데이터의 분포나 특징에 따라 Z,T등 어떤 검정 통계량을 사용할지 정함\n",
    "4. 가설 기각/ 채택판단 : 검정 통계량이 신뢰구간에 위치할 경우, 귀무가설을 채택하고, 벗어날 시 기각. (신뢰구간 : 1-유의수준)/ 유의 확률>유의수준 ->채택,벗어나면 기각\n"
   ]
  },
  {
   "cell_type": "markdown",
   "id": "82c9a616",
   "metadata": {},
   "source": [
    "## 과제 5"
   ]
  },
  {
   "cell_type": "markdown",
   "id": "639f0551",
   "metadata": {},
   "source": [
    "1종 오류와 2종 오류에 대해 설명하시오"
   ]
  },
  {
   "cell_type": "markdown",
   "id": "057b7ec1",
   "metadata": {},
   "source": [
    "정답: \n",
    "1종 오류 : 귀무가설이 실제로 참이었는데 기각할 확률\n",
    "2종 오류 : 귀무가설이 실제로 거짓이었는데 채택할 확률"
   ]
  },
  {
   "cell_type": "markdown",
   "id": "b82b52ce",
   "metadata": {},
   "source": [
    "## 과제 6"
   ]
  },
  {
   "cell_type": "markdown",
   "id": "12b543f0",
   "metadata": {},
   "source": [
    "베이즈 정리 공식에 대해 쓰시오"
   ]
  },
  {
   "cell_type": "markdown",
   "id": "017720e2",
   "metadata": {},
   "source": [
    "정답: 조건부 확률을 이용하여 사전정보가 주어졌을 때 , 그 정보를 이용하여 새로운 정보를 추론하는 방법. \n",
    "사전 확률을 기반으로 사후 호가률을 계산하는 것으로 이전에 알고 있는 정보를 업데이트하고 새로운 정보를 반영하여 이사건 A가 얼마나 가능성이 높은지를 측정할 수 있음"
   ]
  }
 ],
 "metadata": {
  "kernelspec": {
   "display_name": "Python 3 (ipykernel)",
   "language": "python",
   "name": "python3"
  },
  "language_info": {
   "codemirror_mode": {
    "name": "ipython",
    "version": 3
   },
   "file_extension": ".py",
   "mimetype": "text/x-python",
   "name": "python",
   "nbconvert_exporter": "python",
   "pygments_lexer": "ipython3",
   "version": "3.11.4"
  },
  "toc": {
   "base_numbering": 1,
   "nav_menu": {},
   "number_sections": true,
   "sideBar": true,
   "skip_h1_title": false,
   "title_cell": "Table of Contents",
   "title_sidebar": "Contents",
   "toc_cell": false,
   "toc_position": {},
   "toc_section_display": true,
   "toc_window_display": false
  }
 },
 "nbformat": 4,
 "nbformat_minor": 5
}
