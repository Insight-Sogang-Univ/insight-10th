{
 "cells": [
  {
   "cell_type": "code",
   "execution_count": 14,
   "id": "a02690ea",
   "metadata": {},
   "outputs": [],
   "source": [
    "import random\n",
    "import matplotlib.pyplot as plt\n",
    "import numpy as np\n",
    "from numpy import arange, linspace, mean\n",
    "from scipy.stats import expon, zscore, norm, uniform\n",
    "import math\n",
    "%matplotlib inline"
   ]
  },
  {
   "cell_type": "markdown",
   "id": "b0b417b0",
   "metadata": {},
   "source": [
    "# 중심위치척도"
   ]
  },
  {
   "cell_type": "markdown",
   "id": "ea911436",
   "metadata": {},
   "source": [
    "##  평균,중앙값, 최빈값 구하기"
   ]
  },
  {
   "cell_type": "code",
   "execution_count": 15,
   "id": "dcffef1f",
   "metadata": {},
   "outputs": [
    {
     "name": "stdout",
     "output_type": "stream",
     "text": [
      "mean(x): 9\n",
      "median(x): 9.0\n",
      "mode(x): 3\n"
     ]
    }
   ],
   "source": [
    "from statistics import mean, median ,mode \n",
    "\n",
    "np.random.seed(0)\n",
    "x = (np.random.randint(20, size = 1000)) # 0부터 19까지 랜덤으로 숫자 배열 생성\n",
    "\n",
    "print(\"mean(x):\", mean(x))\n",
    "\n",
    "print(\"median(x):\", median(x))\n",
    "\n",
    "print(\"mode(x):\", mode(x))"
   ]
  },
  {
   "cell_type": "markdown",
   "id": "be65c1a8",
   "metadata": {},
   "source": [
    "# 변동성 척도"
   ]
  },
  {
   "cell_type": "markdown",
   "id": "ad807beb",
   "metadata": {},
   "source": [
    "## 사분위수"
   ]
  },
  {
   "cell_type": "code",
   "execution_count": 16,
   "id": "ce386c55",
   "metadata": {},
   "outputs": [],
   "source": [
    " ##데이터 표본을 4개의 동일한 부분으로 나눈 값 (n은 총 도수)\n",
    "      #Q1 = 1+(n-1)x0.25\n",
    "      #Q2 = 중앙값\n",
    "      #Q3 = 1+(n-1)x0.75"
   ]
  },
  {
   "cell_type": "code",
   "execution_count": 17,
   "id": "8320910a",
   "metadata": {},
   "outputs": [
    {
     "name": "stdout",
     "output_type": "stream",
     "text": [
      "method를 inclusive로 했을 때: [3.25, 5.5, 7.75]\n",
      "method를 exclusive로 했을 때: [2.75, 5.5, 8.25]\n",
      "numpy로 계산했을 때: [3.25 5.5  7.75]\n",
      "다섯 범위를 확인할 때 1 3.25 5.5 7.75 10\n"
     ]
    }
   ],
   "source": [
    "from statistics import quantiles # quantiles = 분위수를 계산하는 함수\n",
    "\n",
    "x=[1,2,3,4,5,6,7,8,9,10]\n",
    "print('method를 inclusive로 했을 때:', quantiles(x, method = 'inclusive')) # inclusive = 데이터를 4등분 하는 지점에서 값 출력\n",
    "print('method를 exclusive로 했을 때:', quantiles(x, method = 'exclusive')) # exclusive = 데이터의 값을 포함하지 않고 값 사이에서 출력\n",
    "\n",
    "x=np.array([1,2,3,4,5,6,7,8,9,10])\n",
    "print('numpy로 계산했을 때:', np.quantile(x, [0.25, 0.5, 0.75])) # 특정 분위 수 계산\n",
    "\n",
    "#five number summary \n",
    "q=quantiles(x, n=4, method='inclusive')\n",
    "print('다섯 범위를 확인할 때', min(x), q[0], q[1], q[2], max(x) )"
   ]
  },
  {
   "cell_type": "markdown",
   "id": "dab8df79",
   "metadata": {},
   "source": [
    "## 사분위간 범위(IQR)"
   ]
  },
  {
   "cell_type": "code",
   "execution_count": 18,
   "id": "f49cf3c5",
   "metadata": {},
   "outputs": [
    {
     "data": {
      "text/plain": [
       "4.5"
      ]
     },
     "execution_count": 18,
     "metadata": {},
     "output_type": "execute_result"
    }
   ],
   "source": [
    "x=np.array([1,2,3,4,5,6,7,8,9,10])\n",
    "\n",
    "#x의 IQR\n",
    "\n",
    "q=np.quantile(x,[0.25,0.5,0.75])\n",
    "q[2]-q[0]  ##3사분위 수에서 1사분위수를 뺀 값"
   ]
  },
  {
   "cell_type": "markdown",
   "id": "7e5daca5",
   "metadata": {},
   "source": [
    "# 분산, 표준편차, 변동계수 구하기 "
   ]
  },
  {
   "cell_type": "code",
   "execution_count": 19,
   "id": "f6742d8e",
   "metadata": {},
   "outputs": [
    {
     "name": "stdout",
     "output_type": "stream",
     "text": [
      "분산: 9.166666666666666\n",
      "표준편차: 3.0276503540974917\n",
      "변동 계수: 55.04818825631803\n"
     ]
    }
   ],
   "source": [
    "#분산, 표준편차, 변동계수 예제\n",
    "from statistics import variance, stdev, mean\n",
    "\n",
    "x=[1,2,3,4,5,6,7,8,9,10]\n",
    "print('분산:',variance(x))\n",
    "print('표준편차:',stdev(x))\n",
    "print('변동 계수:', (stdev(x) / mean(x))*100) # 변동계수가 작을 수록 데이터의 상대적인 변동성이 낮다고 해석할 수 있다\n",
    "                                               # 변동계수가 클수록 데이터의 상대적인 변동성이 높다\n",
    "    "
   ]
  },
  {
   "cell_type": "markdown",
   "id": "07ce65ae",
   "metadata": {},
   "source": [
    "# 연관성 척도(붓꽃데이터 활용)"
   ]
  },
  {
   "cell_type": "markdown",
   "id": "6c206833",
   "metadata": {},
   "source": [
    "## 데이터 불러오기"
   ]
  },
  {
   "cell_type": "code",
   "execution_count": 23,
   "id": "7199e443",
   "metadata": {},
   "outputs": [
    {
     "data": {
      "text/html": [
       "<div>\n",
       "<style scoped>\n",
       "    .dataframe tbody tr th:only-of-type {\n",
       "        vertical-align: middle;\n",
       "    }\n",
       "\n",
       "    .dataframe tbody tr th {\n",
       "        vertical-align: top;\n",
       "    }\n",
       "\n",
       "    .dataframe thead th {\n",
       "        text-align: right;\n",
       "    }\n",
       "</style>\n",
       "<table border=\"1\" class=\"dataframe\">\n",
       "  <thead>\n",
       "    <tr style=\"text-align: right;\">\n",
       "      <th></th>\n",
       "      <th>150</th>\n",
       "      <th>4</th>\n",
       "      <th>setosa</th>\n",
       "      <th>versicolor</th>\n",
       "      <th>virginica</th>\n",
       "    </tr>\n",
       "  </thead>\n",
       "  <tbody>\n",
       "    <tr>\n",
       "      <th>0</th>\n",
       "      <td>5.1</td>\n",
       "      <td>3.5</td>\n",
       "      <td>1.4</td>\n",
       "      <td>0.2</td>\n",
       "      <td>0</td>\n",
       "    </tr>\n",
       "    <tr>\n",
       "      <th>1</th>\n",
       "      <td>4.9</td>\n",
       "      <td>3.0</td>\n",
       "      <td>1.4</td>\n",
       "      <td>0.2</td>\n",
       "      <td>0</td>\n",
       "    </tr>\n",
       "    <tr>\n",
       "      <th>2</th>\n",
       "      <td>4.7</td>\n",
       "      <td>3.2</td>\n",
       "      <td>1.3</td>\n",
       "      <td>0.2</td>\n",
       "      <td>0</td>\n",
       "    </tr>\n",
       "    <tr>\n",
       "      <th>3</th>\n",
       "      <td>4.6</td>\n",
       "      <td>3.1</td>\n",
       "      <td>1.5</td>\n",
       "      <td>0.2</td>\n",
       "      <td>0</td>\n",
       "    </tr>\n",
       "    <tr>\n",
       "      <th>4</th>\n",
       "      <td>5.0</td>\n",
       "      <td>3.6</td>\n",
       "      <td>1.4</td>\n",
       "      <td>0.2</td>\n",
       "      <td>0</td>\n",
       "    </tr>\n",
       "  </tbody>\n",
       "</table>\n",
       "</div>"
      ],
      "text/plain": [
       "   150    4  setosa  versicolor  virginica\n",
       "0  5.1  3.5     1.4         0.2          0\n",
       "1  4.9  3.0     1.4         0.2          0\n",
       "2  4.7  3.2     1.3         0.2          0\n",
       "3  4.6  3.1     1.5         0.2          0\n",
       "4  5.0  3.6     1.4         0.2          0"
      ]
     },
     "execution_count": 23,
     "metadata": {},
     "output_type": "execute_result"
    }
   ],
   "source": [
    "import pandas as pd\n",
    "iris = pd.read_csv('iris.csv',encoding = 'cp949') # 파일위치에 맞게 불러오기 \n",
    "iris.head(5)"
   ]
  },
  {
   "cell_type": "markdown",
   "id": "d5177d95",
   "metadata": {},
   "source": [
    "## 공분산과 상관계수 구하기"
   ]
  },
  {
   "cell_type": "code",
   "execution_count": 24,
   "id": "e0ddbc18",
   "metadata": {},
   "outputs": [],
   "source": [
    "  #공분산과 상관계수의 차이"
   ]
  },
  {
   "cell_type": "code",
   "execution_count": 26,
   "id": "4a605ec4",
   "metadata": {},
   "outputs": [],
   "source": [
    "#공분산은 두 변수의 편차를 곱한 평균, 상관계수는 공분산을 각 변수의 표준편차의 곱으로 나눈값"
   ]
  },
  {
   "cell_type": "code",
   "execution_count": 28,
   "id": "8a69054e",
   "metadata": {},
   "outputs": [
    {
     "data": {
      "text/html": [
       "<div>\n",
       "<style scoped>\n",
       "    .dataframe tbody tr th:only-of-type {\n",
       "        vertical-align: middle;\n",
       "    }\n",
       "\n",
       "    .dataframe tbody tr th {\n",
       "        vertical-align: top;\n",
       "    }\n",
       "\n",
       "    .dataframe thead th {\n",
       "        text-align: right;\n",
       "    }\n",
       "</style>\n",
       "<table border=\"1\" class=\"dataframe\">\n",
       "  <thead>\n",
       "    <tr style=\"text-align: right;\">\n",
       "      <th></th>\n",
       "      <th>150</th>\n",
       "      <th>4</th>\n",
       "      <th>setosa</th>\n",
       "      <th>versicolor</th>\n",
       "      <th>virginica</th>\n",
       "    </tr>\n",
       "  </thead>\n",
       "  <tbody>\n",
       "    <tr>\n",
       "      <th>150</th>\n",
       "      <td>0.685694</td>\n",
       "      <td>-0.042434</td>\n",
       "      <td>1.274315</td>\n",
       "      <td>0.516271</td>\n",
       "      <td>0.530872</td>\n",
       "    </tr>\n",
       "    <tr>\n",
       "      <th>4</th>\n",
       "      <td>-0.042434</td>\n",
       "      <td>0.189979</td>\n",
       "      <td>-0.329656</td>\n",
       "      <td>-0.121639</td>\n",
       "      <td>-0.152349</td>\n",
       "    </tr>\n",
       "    <tr>\n",
       "      <th>setosa</th>\n",
       "      <td>1.274315</td>\n",
       "      <td>-0.329656</td>\n",
       "      <td>3.116278</td>\n",
       "      <td>1.295609</td>\n",
       "      <td>1.372483</td>\n",
       "    </tr>\n",
       "    <tr>\n",
       "      <th>versicolor</th>\n",
       "      <td>0.516271</td>\n",
       "      <td>-0.121639</td>\n",
       "      <td>1.295609</td>\n",
       "      <td>0.581006</td>\n",
       "      <td>0.597315</td>\n",
       "    </tr>\n",
       "    <tr>\n",
       "      <th>virginica</th>\n",
       "      <td>0.530872</td>\n",
       "      <td>-0.152349</td>\n",
       "      <td>1.372483</td>\n",
       "      <td>0.597315</td>\n",
       "      <td>0.671141</td>\n",
       "    </tr>\n",
       "  </tbody>\n",
       "</table>\n",
       "</div>"
      ],
      "text/plain": [
       "                 150         4    setosa  versicolor  virginica\n",
       "150         0.685694 -0.042434  1.274315    0.516271   0.530872\n",
       "4          -0.042434  0.189979 -0.329656   -0.121639  -0.152349\n",
       "setosa      1.274315 -0.329656  3.116278    1.295609   1.372483\n",
       "versicolor  0.516271 -0.121639  1.295609    0.581006   0.597315\n",
       "virginica   0.530872 -0.152349  1.372483    0.597315   0.671141"
      ]
     },
     "execution_count": 28,
     "metadata": {},
     "output_type": "execute_result"
    }
   ],
   "source": [
    "#분산 공분산 표\n",
    "iris.cov()"
   ]
  },
  {
   "cell_type": "code",
   "execution_count": 31,
   "id": "53d615b7",
   "metadata": {},
   "outputs": [
    {
     "data": {
      "text/html": [
       "<div>\n",
       "<style scoped>\n",
       "    .dataframe tbody tr th:only-of-type {\n",
       "        vertical-align: middle;\n",
       "    }\n",
       "\n",
       "    .dataframe tbody tr th {\n",
       "        vertical-align: top;\n",
       "    }\n",
       "\n",
       "    .dataframe thead th {\n",
       "        text-align: right;\n",
       "    }\n",
       "</style>\n",
       "<table border=\"1\" class=\"dataframe\">\n",
       "  <thead>\n",
       "    <tr style=\"text-align: right;\">\n",
       "      <th></th>\n",
       "      <th>150</th>\n",
       "      <th>4</th>\n",
       "    </tr>\n",
       "  </thead>\n",
       "  <tbody>\n",
       "    <tr>\n",
       "      <th>150</th>\n",
       "      <td>0.685694</td>\n",
       "      <td>-0.042434</td>\n",
       "    </tr>\n",
       "    <tr>\n",
       "      <th>4</th>\n",
       "      <td>-0.042434</td>\n",
       "      <td>0.189979</td>\n",
       "    </tr>\n",
       "  </tbody>\n",
       "</table>\n",
       "</div>"
      ],
      "text/plain": [
       "          150         4\n",
       "150  0.685694 -0.042434\n",
       "4   -0.042434  0.189979"
      ]
     },
     "execution_count": 31,
     "metadata": {},
     "output_type": "execute_result"
    }
   ],
   "source": [
    "#꽃받침 길이와 꽃받침너비의 공분산\n",
    "iris.cov().iloc[:2,:2]"
   ]
  },
  {
   "cell_type": "code",
   "execution_count": 30,
   "id": "f672164e",
   "metadata": {},
   "outputs": [
    {
     "data": {
      "text/html": [
       "<div>\n",
       "<style scoped>\n",
       "    .dataframe tbody tr th:only-of-type {\n",
       "        vertical-align: middle;\n",
       "    }\n",
       "\n",
       "    .dataframe tbody tr th {\n",
       "        vertical-align: top;\n",
       "    }\n",
       "\n",
       "    .dataframe thead th {\n",
       "        text-align: right;\n",
       "    }\n",
       "</style>\n",
       "<table border=\"1\" class=\"dataframe\">\n",
       "  <thead>\n",
       "    <tr style=\"text-align: right;\">\n",
       "      <th></th>\n",
       "      <th>150</th>\n",
       "      <th>4</th>\n",
       "      <th>setosa</th>\n",
       "      <th>versicolor</th>\n",
       "      <th>virginica</th>\n",
       "    </tr>\n",
       "  </thead>\n",
       "  <tbody>\n",
       "    <tr>\n",
       "      <th>150</th>\n",
       "      <td>1.000000</td>\n",
       "      <td>-0.117570</td>\n",
       "      <td>0.871754</td>\n",
       "      <td>0.817941</td>\n",
       "      <td>0.782561</td>\n",
       "    </tr>\n",
       "    <tr>\n",
       "      <th>4</th>\n",
       "      <td>-0.117570</td>\n",
       "      <td>1.000000</td>\n",
       "      <td>-0.428440</td>\n",
       "      <td>-0.366126</td>\n",
       "      <td>-0.426658</td>\n",
       "    </tr>\n",
       "    <tr>\n",
       "      <th>setosa</th>\n",
       "      <td>0.871754</td>\n",
       "      <td>-0.428440</td>\n",
       "      <td>1.000000</td>\n",
       "      <td>0.962865</td>\n",
       "      <td>0.949035</td>\n",
       "    </tr>\n",
       "    <tr>\n",
       "      <th>versicolor</th>\n",
       "      <td>0.817941</td>\n",
       "      <td>-0.366126</td>\n",
       "      <td>0.962865</td>\n",
       "      <td>1.000000</td>\n",
       "      <td>0.956547</td>\n",
       "    </tr>\n",
       "    <tr>\n",
       "      <th>virginica</th>\n",
       "      <td>0.782561</td>\n",
       "      <td>-0.426658</td>\n",
       "      <td>0.949035</td>\n",
       "      <td>0.956547</td>\n",
       "      <td>1.000000</td>\n",
       "    </tr>\n",
       "  </tbody>\n",
       "</table>\n",
       "</div>"
      ],
      "text/plain": [
       "                 150         4    setosa  versicolor  virginica\n",
       "150         1.000000 -0.117570  0.871754    0.817941   0.782561\n",
       "4          -0.117570  1.000000 -0.428440   -0.366126  -0.426658\n",
       "setosa      0.871754 -0.428440  1.000000    0.962865   0.949035\n",
       "versicolor  0.817941 -0.366126  0.962865    1.000000   0.956547\n",
       "virginica   0.782561 -0.426658  0.949035    0.956547   1.000000"
      ]
     },
     "execution_count": 30,
     "metadata": {},
     "output_type": "execute_result"
    }
   ],
   "source": [
    "#상관계수표 \n",
    "iris.corr()"
   ]
  },
  {
   "cell_type": "markdown",
   "id": "39ad972b",
   "metadata": {},
   "source": [
    "# 확률분포"
   ]
  },
  {
   "cell_type": "markdown",
   "id": "ec6aea3b",
   "metadata": {},
   "source": [
    "## 정규분포"
   ]
  },
  {
   "cell_type": "code",
   "execution_count": 37,
   "id": "30d14c82",
   "metadata": {},
   "outputs": [
    {
     "data": {
      "image/png": "[encoded data removed]",
      "text/plain": [
       "<Figure size 600x400 with 1 Axes>"
      ]
     },
     "metadata": {},
     "output_type": "display_data"
    }
   ],
   "source": [
    "import scipy.stats as stats\n",
    "\n",
    "x = np.linspace(-5,5,101)\n",
    "y1 = stats.norm(0,1).pdf(x)\n",
    "\n",
    "plt.figure(figsize=(6, 4))\n",
    "plt.plot(x,y1,color=\"red\")\n",
    "plt.xlabel(\"x\")\n",
    "plt.ylabel(\"y\")\n",
    "plt.grid()\n",
    "plt.title(\"Normal Distribution with scipy.stats\")\n",
    "plt.legend([\"N(0,1)\"])\n",
    "plt.show()"
   ]
  },
  {
   "cell_type": "markdown",
   "id": "f9741951",
   "metadata": {},
   "source": [
    "## T 분포"
   ]
  },
  {
   "cell_type": "code",
   "execution_count": 38,
   "id": "1678d98f",
   "metadata": {
    "scrolled": true
   },
   "outputs": [
    {
     "data": {
      "text/plain": [
       "<Figure size 400x400 with 0 Axes>"
      ]
     },
     "metadata": {},
     "output_type": "display_data"
    }
   ],
   "source": [
    "fig=plt.figure(figsize=(4,4))\n",
    "\n",
    "t= np.linspace(-5, 5, 101)\n",
    "\n",
    "y1 = stats.t(1).pdf(t)\n",
    "plt.plot(t, y1, color=\"skyblue\", label = \"t(1)\")\n",
    "plt.xlabel(\"t\")\n",
    "plt.ylabel(\"y\")\n",
    "plt.grid()\n",
    "plt.title(\"t Distribution with scipy.stats\")\n",
    "\n",
    "y1= stats.t(3).pdf(t)\n",
    "plt.plot(t, y1, color=\"blue\"), label = \"t(3)\")\n",
    "plt.xlabel(\"t\")\n",
    "plt.ylabel(\"y\")\n",
    "plt.grid()\n",
    "plt.title(\"t Distribution with scipy.stats\")\n",
    "plt.legend([\"t(3)\"])\n",
    "\n",
    "y1 = stats. t(100).pdf(t)\n",
    "plt.plot(t,y1,colo=\"navy\", label= \"t(100)\")"
   ]
  },
  {
   "cell_type": "code",
   "execution_count": null,
   "id": "a191fea6",
   "metadata": {},
   "outputs": [],
   "source": []
  }
 ],
 "metadata": {
  "kernelspec": {
   "display_name": "Python 3 (ipykernel)",
   "language": "python",
   "name": "python3"
  },
  "language_info": {
   "codemirror_mode": {
    "name": "ipython",
    "version": 3
   },
   "file_extension": ".py",
   "mimetype": "text/x-python",
   "name": "python",
   "nbconvert_exporter": "python",
   "pygments_lexer": "ipython3",
   "version": "3.11.4"
  },
  "toc": {
   "base_numbering": 1,
   "nav_menu": {},
   "number_sections": true,
   "sideBar": true,
   "skip_h1_title": false,
   "title_cell": "Table of Contents",
   "title_sidebar": "Contents",
   "toc_cell": false,
   "toc_position": {},
   "toc_section_display": true,
   "toc_window_display": false
  }
 },
 "nbformat": 4,
 "nbformat_minor": 5
}
