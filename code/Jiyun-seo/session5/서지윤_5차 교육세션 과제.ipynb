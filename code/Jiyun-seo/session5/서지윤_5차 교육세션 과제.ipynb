{
 "cells": [
  {
   "cell_type": "markdown",
   "id": "ba60933b",
   "metadata": {},
   "source": [
    "- 종속 변수(price)와 선형 관계가 있을 것 같은 독립 변수들을 선정하여 산점도(Scatter plot) 그래프를 그리는 과정이 가장 인상깊었습니다!\n",
    "특히, 다른 변수와 비교를 하여 price와 sqft_living 간의 선형 관계를 도출한 점,히트맵을 통해 독립변수와 상관관계가 높은 변수를 한눈에 들어오도록 시각화한 점이 \n",
    "인상깊었으며, 관련하여 클론 코딩을 해보며 시각화 기술을 조금 더 연습해보아야 할 것 같습니다.\n",
    "\n",
    "- 또한 .jointplot을 이용하여 두변수간의 선형관계를 확인하는 기법도 굉장히 인상깊었으며, 추후에 프로젝트에 기회가 된다면 한번 실제로 적용해보고 싶다는 생각을 했습니다!\n",
    "다중 선형회귀, 다중 공산성과 같은 개념이 처음에는 생소하고 어려웠는데, 해당 개념을 적용한 과정을 보니 조금 더 이해가 용이한 것 같습니다\n",
    "\n",
    "- 다만, 내용이 아직까지는 어려운 개념들이 많기 때문에 클론 코딩을 통해 한번 더 살펴보고 추후에 이를 적용해보아야할 것 같습니다!"
   ]
  },
  {
   "cell_type": "code",
   "execution_count": null,
   "id": "1d54a5a7",
   "metadata": {},
   "outputs": [],
   "source": []
  }
 ],
 "metadata": {
  "kernelspec": {
   "display_name": "Python 3 (ipykernel)",
   "language": "python",
   "name": "python3"
  },
  "language_info": {
   "codemirror_mode": {
    "name": "ipython",
    "version": 3
   },
   "file_extension": ".py",
   "mimetype": "text/x-python",
   "name": "python",
   "nbconvert_exporter": "python",
   "pygments_lexer": "ipython3",
   "version": "3.11.4"
  },
  "toc": {
   "base_numbering": 1,
   "nav_menu": {},
   "number_sections": true,
   "sideBar": true,
   "skip_h1_title": false,
   "title_cell": "Table of Contents",
   "title_sidebar": "Contents",
   "toc_cell": false,
   "toc_position": {},
   "toc_section_display": true,
   "toc_window_display": false
  }
 },
 "nbformat": 4,
 "nbformat_minor": 5
}
