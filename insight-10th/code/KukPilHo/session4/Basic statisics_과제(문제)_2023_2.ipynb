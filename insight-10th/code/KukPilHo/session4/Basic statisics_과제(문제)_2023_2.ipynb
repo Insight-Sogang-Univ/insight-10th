{
 "cells": [
  {
   "cell_type": "markdown",
   "id": "e24a1040",
   "metadata": {},
   "source": [
    "# 통계 세션 과제"
   ]
  },
  {
   "cell_type": "markdown",
   "id": "61f61e73",
   "metadata": {},
   "source": [
    "## 과제1"
   ]
  },
  {
   "cell_type": "markdown",
   "id": "92b03fb0",
   "metadata": {},
   "source": [
    "ox 문제"
   ]
  },
  {
   "cell_type": "markdown",
   "id": "6fd512af",
   "metadata": {},
   "source": [
    "- 1-(1)번: Posltive SKewness는 오른쪽 꼬리가 왼쪽보다 더 길 때를 의미하며, 평균과 중앙값이 최빈값보다 작습니다.(O/X)\n",
    "- 1-(2)번: 변동계수는 표준편차를 해당 데이터의 평균으로 곱한 값으로 계산된다.(O/X)  \n",
    "- 1-(3)번: 데이터 값들이 평균으로부터 얼마나 퍼져 있는지를 나타내는 중요한 통계적 지표를 표준편차라고 한다.(O/X)\n",
    "- 1-(4)번: 사분위간 범위는 Q4에서 Q1값을 제외한 범위를 의미한다. (O/X)"
   ]
  },
  {
   "cell_type": "markdown",
   "id": "9ee3747d",
   "metadata": {},
   "source": [
    "정답:\n",
    "1. X\n",
    "2. X\n",
    "3. O\n",
    "4. O"
   ]
  },
  {
   "cell_type": "markdown",
   "id": "08702a3c",
   "metadata": {},
   "source": [
    "## 과제 2"
   ]
  },
  {
   "cell_type": "markdown",
   "id": "f1b2c62e",
   "metadata": {},
   "source": [
    "공분산과 상관계수에 대해 자세히 설명하시오"
   ]
  },
  {
   "cell_type": "markdown",
   "id": "03185d1a",
   "metadata": {},
   "source": [
    "정답: 공분산과 상관계수는 두 변수 간의 관계를 통계적으로 측정하는 데 사용되는 중요한 통계량입니다.\n",
    "\n",
    "공분산:\n",
    "\n",
    "공분산은 두 변수 간의 관계를 측정하는 값으로, 두 변수가 함께 어떻게 변하는지를 나타냅니다.\n",
    "공분산의 값은 두 변수가 함께 증가하면 양수이고, 하나는 증가하고 다른 하나는 감소하면 음수입니다. 두 변수가 서로 독립적이라면 공분산은 0입니다.\n",
    "\n",
    "\n",
    "상관계수:\n",
    "\n",
    "상관계수는 공분산의 문제를 해결하기 위해 개발된 지표로, -1부터 1 사이의 값을 가집니다.\n",
    "상관계수는 두 변수 간의 선형 관계의 강도와 방향을 나타냅니다.\n",
    "1에 가까울수록 강한 양의 선형 관계를 나타내며, -1에 가까울수록 강한 음의 선형 관계를 나타냅니다. 0에 가까울수록 두 변수 간의 선형 관계가 약한 것을 의미합니다.\n",
    "\n",
    "차이점 :\n",
    "\n",
    "공분산의 한 가지 문제는 단위에 의존적이라는 점입니다. 측정 단위에 따라 공분산의 값이 크게 달라질 수 있습니다.\n",
    "상관계수는 공분산과는 달리 단위에 영향을 받지 않기 때문에 상대적인 관계를 더 잘 파악할 수 있습니다.\n"
   ]
  },
  {
   "cell_type": "markdown",
   "id": "341b7d8d",
   "metadata": {},
   "source": [
    "## 과제3"
   ]
  },
  {
   "cell_type": "markdown",
   "id": "171b01a5",
   "metadata": {},
   "source": [
    "확률분포의 예시 7가지를 쓰시오"
   ]
  },
  {
   "cell_type": "markdown",
   "id": "b7e84636",
   "metadata": {},
   "source": [
    "정답: 이항분포, 정규분포, 포아송분포, 카이 제곱 분포, t-분포, 지수 분포, 로지스틱 분포"
   ]
  },
  {
   "cell_type": "markdown",
   "id": "2bd291d9",
   "metadata": {},
   "source": [
    "## 과제 4"
   ]
  },
  {
   "cell_type": "markdown",
   "id": "de8bcaed",
   "metadata": {},
   "source": [
    "가설 검정의 절차를 4단계에 걸쳐 설명하시오"
   ]
  },
  {
   "cell_type": "markdown",
   "id": "edfbb754",
   "metadata": {},
   "source": [
    "정답: \n",
    "1. 가설 설정:\n",
    "\n",
    "귀무 가설 혹은 대립 가설을 활용하여 가설을 설정한다.\n",
    "\n",
    "2. 표본 추출 및 데이터 수집:\n",
    "\n",
    "연구 또는 실험을 통해 데이터를 수집하는 과정입니다.  데이터는 표본으로 추출되며, 이 표본을 통해 가설을 검정합니다.\n",
    "\n",
    "3. 통계적 분석:\n",
    "\n",
    "두 번째 단계에서 수집한 데이터를 사용하여 통계적 분석을 수행합니다. 주로 사용되는 통계 검정 방법에는 t-검정, 카이제곱 검정, 회귀 분석 등이 있습니다.\n",
    "통계 검정을 통해 계산된 통계량과 유의수준(일반적으로 0.05)을 비교하여 귀무가설을 기각할지 말지를 결정합니다. 통계량이 유의수준보다 작으면 귀무가설을 기각하고 대립가설을 받아들입니다.\n",
    "\n",
    "4. 결론 도출:\n",
    "\n",
    "세 번째 단계에서 도출한 통계적 결과를 해석하고 결론을 도출합니다.\n",
    "귀무가설을 기각한 경우, 대립가설을 받아들이고 \"효과가 있다\" 또는 \"차이가 있다\"고 결론 내립니다.\n",
    "귀무가설을 기각하지 못한 경우, 데이터로부터 충분한 증거가 없다고 결론 내립니다. \"효과가 없다\" 또는 \"차이가 없다\"고 결론할 수 있습니다.\n"
   ]
  },
  {
   "cell_type": "markdown",
   "id": "82c9a616",
   "metadata": {},
   "source": [
    "## 과제 5"
   ]
  },
  {
   "cell_type": "markdown",
   "id": "639f0551",
   "metadata": {},
   "source": [
    "1종 오류와 2종 오류에 대해 설명하시오"
   ]
  },
  {
   "cell_type": "markdown",
   "id": "057b7ec1",
   "metadata": {},
   "source": [
    "정답: \n",
    "\n",
    "1종 오류:\n",
    "\n",
    "1종 오류는 귀무가설이 참인데도 불구하고 귀무가설을 기각하는 오류를 의미합니다. 다시 말해, 실제로는 효과가 없는데도 불구하고 우연히 통계적으로 유의미한 결과를 얻는 경우입니다. 1종 오류를 범할 확률을 줄이려면 유의수준을 낮춰야 하지만, 이렇게 하면 2종 오류의 확률이 늘어날 수 있습니다.\n",
    "\n",
    "2종 오류:\n",
    "\n",
    "2종 오류는 귀무가설이 거짓인데도 불구하고 귀무가설을 채택하는 오류를 의미합니다. 다시 말해, 실제로는 효과가 있는데도 통계적으로 유의미하지 않다고 결론 내리는 경우입니다. 2종 오류를 줄이려면 표본 크기를 크게 하거나 유의수준을 낮추는 등의 방법을 사용하여 검정력을 향상시킬 수 있습니다.\n",
    "\n",
    "1종 오류와 2종 오류는 서로 상충 관계에 있으며, 하나를 감소시키면 다른 하나가 증가할 수 있습니다."
   ]
  },
  {
   "cell_type": "markdown",
   "id": "b82b52ce",
   "metadata": {},
   "source": [
    "## 과제 6"
   ]
  },
  {
   "cell_type": "markdown",
   "id": "12b543f0",
   "metadata": {},
   "source": [
    "베이즈 정리 공식에 대해 쓰시오"
   ]
  },
  {
   "cell_type": "markdown",
   "id": "017720e2",
   "metadata": {},
   "source": [
    "정답:\n",
    "베이즈 정리는 조건부 확률을 계산하는데 사용되는 중요한 확률 이론입니다. 베이즈 정리는 이전 정보를 기반으로 현재의 확률을 갱신하는 데 유용합니다. 베이즈 정리는 다음과 같이 나타낼 수 있습니다:\n",
    "\n",
    "P(A|B) = [P(B|A) * P(A)] / P(B)\n",
    "\n",
    "```\n",
    "P(A|B): 사건 B가 일어났을 때 사건 A가 일어날 조건부 확률 (A가 일어날 확률, B가 주어졌을 때)\n",
    "P(A): 사건 A의 사전 확률 (B에 대한 어떠한 정보 없이 A가 일어날 확률)\n",
    "P(B|A): 사건 A가 일어났을 때 사건 B가 일어날 조건부 확률 (A가 주어졌을 때 B가 일어날 확률)\n",
    "P(B): 사건 B의 사전 확률 (A에 대한 어떠한 정보 없이 B가 일어날 확률)\n",
    "```\n",
    "\n",
    "베이즈 정리는 사전 확률, 사후 확률, 그리고 조건부 확률을 결합하여 어떤 사건이 일어날 확률을 업데이트하는 데 사용됩니다."
   ]
  }
 ],
 "metadata": {
  "kernelspec": {
   "display_name": "Python 3 (ipykernel)",
   "language": "python",
   "name": "python3"
  },
  "language_info": {
   "codemirror_mode": {
    "name": "ipython",
    "version": 3
   },
   "file_extension": ".py",
   "mimetype": "text/x-python",
   "name": "python",
   "nbconvert_exporter": "python",
   "pygments_lexer": "ipython3",
   "version": "3.11.2"
  },
  "toc": {
   "base_numbering": 1,
   "nav_menu": {},
   "number_sections": true,
   "sideBar": true,
   "skip_h1_title": false,
   "title_cell": "Table of Contents",
   "title_sidebar": "Contents",
   "toc_cell": false,
   "toc_position": {},
   "toc_section_display": true,
   "toc_window_display": false
  }
 },
 "nbformat": 4,
 "nbformat_minor": 5
}
