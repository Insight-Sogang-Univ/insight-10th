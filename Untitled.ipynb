{
 "cells": [
  {
   "cell_type": "markdown",
   "id": "3170ea6a",
   "metadata": {
    "toc": true
   },
   "source": [
    "<h1>Table of Contents<span class=\"tocSkip\"></span></h1>\n",
    "<div class=\"toc\"><ul class=\"toc-item\"><li><span><a href=\"#목표\" data-toc-modified-id=\"목표-1\"><span class=\"toc-item-num\">1&nbsp;&nbsp;</span>목표</a></span></li><li><span><a href=\"#진행-기간-및-내용\" data-toc-modified-id=\"진행-기간-및-내용-2\"><span class=\"toc-item-num\">2&nbsp;&nbsp;</span>진행 기간 및 내용</a></span></li><li><span><a href=\"#진행-방식\" data-toc-modified-id=\"진행-방식-3\"><span class=\"toc-item-num\">3&nbsp;&nbsp;</span>진행 방식</a></span></li><li><span><a href=\"#진행-방식-상세\" data-toc-modified-id=\"진행-방식-상세-4\"><span class=\"toc-item-num\">4&nbsp;&nbsp;</span>진행 방식 상세</a></span></li></ul></div>"
   ]
  },
  {
   "cell_type": "markdown",
   "id": "1edc1547",
   "metadata": {},
   "source": [
    "# insight-10th\n",
    "23년 하반기 9, 10기 활동 레포입니다.\n",
    "\n",
    "## 목표\n",
    "- git 툴에 익숙해집니다.\n",
    "- pandas를 자유롭게 다룰 수 있습니다.\n",
    "- 통계 기법에 대해 배우고, 적용합니다\n",
    "- 기본적인 ml 툴을 다루며, 적용할 수 있습니다.\n",
    "\n",
    "## 진행 기간 및 내용\n",
    "| 회차 | 세션일자 - 과제 마감일 | 내용 |\n",
    "| --- | --- | --- |\n",
    "| 1 | 9/11 - 9/13 | github, Pandas |\n",
    "| 2 | 9/14 - 9/17 | 읽기, 전처리 |\n",
    "| 3 | 9/18 - 9/20 | EDA, 시각화 |\n",
    "| 4 | 9/21 - 9/24 | 통계 |\n",
    "| 5 | 9/25 - 9/27 | 회귀 이론, 실습 |\n",
    "| 6 | 10/2 - 10/4 | 회귀 심화, 실습 |\n",
    "\n",
    "\n",
    "## 진행 방식\n",
    "- 매 회차별로 \"사전 학습\", \"과제\" 두 가지의 과제가 있습니다.\n",
    "- 사전 학습의 마감일은 해당 세션의 진행일 전날입니다.\n",
    "- 과제 마감일은 다음 세션의 진행일 전날입니다.\n",
    "\n",
    ">예시\n",
    "9/11일 1회차 Pandas 세션일 기준, 9/13일 자정까지 제출해야 하는 과제는 \n",
    "**\"1회차 과제\"** 와 **\"2회차 사전 학습\"** 두 가지 입니다.\n",
    "\n",
    "## 진행 방식 상세\n",
    "- 해당 insight 레포를 본인의 레포로 fork합니다.\n",
    "- fork 한 본인의 레포에서 본인의 컴퓨터로 clone합니다.\n",
    "- 과제를 진행합니다.\n",
    "- 본인의 레포로 push합니다.\n",
    "- 과제 마감일 전까지 insight 레포로 pr을 보내주세요.\n",
    "\n",
    "# insight-10th\n",
    "23년 하반기 9, 10기 활동 레포입니다.\n",
    "\n",
    "## 목표\n",
    "- git 툴에 익숙해집니다.\n",
    "- pandas를 자유롭게 다룰 수 있습니다.\n",
    "- 통계 기법에 대해 배우고, 적용합니다\n",
    "- 기본적인 ml 툴을 다루며, 적용할 수 있습니다.\n",
    "\n",
    "## 진행 기간 및 내용\n",
    "| 회차 | 세션일자 - 과제 마감일 | 내용 |\n",
    "| --- | --- | --- |\n",
    "| 1 | 9/11 - 9/13 | github, Pandas |\n",
    "| 2 | 9/14 - 9/17 | 읽기, 전처리 |\n",
    "| 3 | 9/18 - 9/20 | EDA, 시각화 |\n",
    "| 4 | 9/21 - 9/24 | 통계 |\n",
    "| 5 | 9/25 - 9/27 | 회귀 이론, 실습 |\n",
    "| 6 | 10/2 - 10/4 | 회귀 심화, 실습 |\n",
    "\n",
    "## 진행 방식\n",
    "- 매 회차별로 \"사전 학습\", \"과제\" 두 가지의 과제가 있습니다.\n",
    "- 사전 학습의 마감일은 해당 세션의 진행일 전날입니다.\n",
    "- 과제 마감일은 다음 세션의 진행일 전날입니다.\n",
    "\n"
   ]
  },
  {
   "cell_type": "code",
   "execution_count": 3,
   "id": "7ed9f3d0",
   "metadata": {},
   "outputs": [
    {
     "ename": "SyntaxError",
     "evalue": "unmatched ')' (2842124539.py, line 27)",
     "output_type": "error",
     "traceback": [
      "\u001b[1;36m  Cell \u001b[1;32mIn[3], line 27\u001b[1;36m\u001b[0m\n\u001b[1;33m    ex)\u001b[0m\n\u001b[1;37m      ^\u001b[0m\n\u001b[1;31mSyntaxError\u001b[0m\u001b[1;31m:\u001b[0m unmatched ')'\n"
     ]
    }
   ],
   "source": [
    "\n",
    "## 폴더 구조\n",
    "```\n",
    "README.md\n",
    "homework\n",
    "    ㄴ session2              // 매 세션 과제 페이지\n",
    "        ㄴ example.ipynb     // 과제 파일\n",
    "    ...\n",
    "code\n",
    "    ㄴ dhshin98             // 본인 git 아이디\n",
    "        ㄴ session1\n",
    "            ㄴ example.ipynb // 과제 제출 파일\n",
    "            ㄴ README.md     // 세션 전 사전 학습 내용 공부 정리 파일\n",
    "        ㄴ session2\n",
    "            ㄴ example.ipynb // 과제 제출 파일\n",
    "            ㄴ README.md     // 세션 전 사전 학습 내용 공부 정리 파일\n",
    "        ...\n",
    "```\n",
    "\n",
    "## 제출 양식\n",
    "**`pull request`** 를 보낼 때 아래의 양식을 지켜서 보내주세요!\n",
    "```\n",
    "pr 제목 : [session2] 제출자 과제 제출합니다.\n",
    "\n",
    "내용 : 해당 과제를 하면서 어려웠던 점이나 새로 알게 된 점 간단히 정리\n",
    "```\n",
    "\n",
    "ex)\n",
    "```\n",
    "[session2] 신동현 과제 제출합니다.\n",
    "\n",
    "titanic data를 선택하여 과제를 진행했습니다.\n",
    "pandas 문법은 아직은 익숙하지 않은 것 같습니다.\n",
    "하지만 기본적으로 python 문법과 비슷한 점이 많은 것 같아서 어느 정도 빠르게 배울 수 있었던 것 같습니다.\n",
    "\n",
    "merge, concate 하는 부분이 아직 미숙한 것 같습니다.\n",
    "앞으로 loc, iloc를 많이 쓸 것 같은데 많이 연습하겠습니다!\n",
    "\n",
    "질문\n",
    "titanic에서 3번째 과제를 다음과 같이 했는데, 답을 모르겠습니다ㅜㅠ\n",
    "```\n",
    "\n",
    "## 기타\n",
    "- 사전 과제 필수 키워드에 대해서는 정리/리뷰 하셔야 합니다.\n",
    "- 사전 학습 정리는 자유 분량입니다.\n",
    "- 문제를 못 풀었다면 어디까지 생각하고 접근했는지 Readme에 기록해주세요!\n"
   ]
  },
  {
   "cell_type": "code",
   "execution_count": null,
   "id": "8d0a01bf",
   "metadata": {},
   "outputs": [],
   "source": []
  }
 ],
 "metadata": {
  "kernelspec": {
   "display_name": "Python 3 (ipykernel)",
   "language": "python",
   "name": "python3"
  },
  "language_info": {
   "codemirror_mode": {
    "name": "ipython",
    "version": 3
   },
   "file_extension": ".py",
   "mimetype": "text/x-python",
   "name": "python",
   "nbconvert_exporter": "python",
   "pygments_lexer": "ipython3",
   "version": "3.11.4"
  },
  "toc": {
   "base_numbering": 1,
   "nav_menu": {},
   "number_sections": true,
   "sideBar": true,
   "skip_h1_title": true,
   "title_cell": "Table of Contents",
   "title_sidebar": "Contents",
   "toc_cell": true,
   "toc_position": {},
   "toc_section_display": true,
   "toc_window_display": true
  }
 },
 "nbformat": 4,
 "nbformat_minor": 5
}
