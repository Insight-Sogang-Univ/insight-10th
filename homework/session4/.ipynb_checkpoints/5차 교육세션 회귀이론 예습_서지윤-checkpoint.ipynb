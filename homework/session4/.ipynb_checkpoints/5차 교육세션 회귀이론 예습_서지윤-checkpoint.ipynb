{
 "cells": [
  {
   "cell_type": "markdown",
   "id": "c79f4aad",
   "metadata": {},
   "source": [
    "# 회귀, 분류, 군집화 구분"
   ]
  },
  {
   "cell_type": "markdown",
   "id": "98e64eba",
   "metadata": {},
   "source": [
    "## 선형회귀"
   ]
  },
  {
   "cell_type": "markdown",
   "id": "63b1c8b4",
   "metadata": {},
   "source": [
    "정의 : 실제 값과 예측값의 차이를 최소화하는 직선형 회귀선을 최적화하는 방식\n",
    "\n",
    "->데이터를 가장 잘 대변하는 최적의 선을 찾는 과정\n",
    "\n",
    "특징 : 선형회귀직선은 독립변수 x, 종속변수 y의 관계를 요약해서 설명해줌.\n",
    "       선형회귀에서 독립변수 x가 하나라면 단순 선형회귀, 2개이상이면 다중 선형 회귀라고 함.\n",
    "\n",
    "목적 : 데이터의 이해, 예측, 인과관계 증명"
   ]
  },
  {
   "cell_type": "markdown",
   "id": "4a381960",
   "metadata": {},
   "source": [
    "### 단순 선형 회귀"
   ]
  },
  {
   "cell_type": "markdown",
   "id": "b68d72e3",
   "metadata": {},
   "source": [
    "정의 : 연속형 반응 변수y와 설명 변수 x하나를 갖는 모형\n",
    "\n",
    "가정 : 두 변수는 인과관계가 있고, X에 따라 y값이 변한다 \n",
    "\n",
    "변수 설명 : e(i)는 오차, 베타0,베타1 : 회귀계수\n",
    "        회귀모형은 오차항을 확률변수로 가정하고 오차항에 대해 독립성, 정규성, 등분산성 가정을 전제로 한다.\n",
    "        \n",
    "        베타1=x가 한단위 변할 때 y 의 변화\n",
    "        베타0=x=0일 때 y의 기댓값\n",
    "    "
   ]
  },
  {
   "cell_type": "markdown",
   "id": "e6e1b1fc",
   "metadata": {},
   "source": [
    "### 다중 선형 회귀"
   ]
  },
  {
   "cell_type": "markdown",
   "id": "993e349d",
   "metadata": {},
   "source": [
    "연속형 반응 변수에 설명변수(독립변수)가 둘 이상 모인 모형"
   ]
  },
  {
   "cell_type": "markdown",
   "id": "51314745",
   "metadata": {},
   "source": [
    "## 다중 공산성"
   ]
  },
  {
   "cell_type": "markdown",
   "id": "8408f1a6",
   "metadata": {},
   "source": [
    "정의 : 다중 선형회귀를 사용할 때 주의해야할 점으로, 설명 변수들간의 선형종속이 심한 경우를 뜻함\n",
    "\n",
    "-> 설명 변수들 간 정보의 중첩이 발생한 것으로 설명변수들 간에 높은 상관관계를 갖는 경우"
   ]
  },
  {
   "cell_type": "markdown",
   "id": "911f2d30",
   "metadata": {},
   "source": [
    "확인 방법 : \n",
    "    1. 산점도 그래프 그리기\n",
    "    2. 상관계수 확인\n",
    "    3. 분산 팽창 계수\n",
    "\n",
    "대처 방법 : \n",
    "    1. 변수제거\n",
    "    2. 변수변환\n",
    "    3. 규제선형모델 활용\n",
    "    4. PCA"
   ]
  },
  {
   "cell_type": "markdown",
   "id": "2f976058",
   "metadata": {},
   "source": [
    "## 최소 제곱법"
   ]
  },
  {
   "cell_type": "markdown",
   "id": "4b04b781",
   "metadata": {},
   "source": [
    "정의 : 오차를 최소화시키는 방법으로 회귀 계수를 추정하는 기법\n",
    "한계점 : 노이즈 (ourtlier)에 취약\n"
   ]
  },
  {
   "cell_type": "code",
   "execution_count": null,
   "id": "43c58cb9",
   "metadata": {},
   "outputs": [],
   "source": []
  }
 ],
 "metadata": {
  "kernelspec": {
   "display_name": "Python 3 (ipykernel)",
   "language": "python",
   "name": "python3"
  },
  "language_info": {
   "codemirror_mode": {
    "name": "ipython",
    "version": 3
   },
   "file_extension": ".py",
   "mimetype": "text/x-python",
   "name": "python",
   "nbconvert_exporter": "python",
   "pygments_lexer": "ipython3",
   "version": "3.11.4"
  },
  "toc": {
   "base_numbering": 1,
   "nav_menu": {},
   "number_sections": true,
   "sideBar": true,
   "skip_h1_title": false,
   "title_cell": "Table of Contents",
   "title_sidebar": "Contents",
   "toc_cell": false,
   "toc_position": {},
   "toc_section_display": true,
   "toc_window_display": false
  }
 },
 "nbformat": 4,
 "nbformat_minor": 5
}
